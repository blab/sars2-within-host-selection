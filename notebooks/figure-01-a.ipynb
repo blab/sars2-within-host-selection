{
 "cells": [
  {
   "cell_type": "code",
   "execution_count": 2,
   "id": "c6f33efc-d39b-4ff1-8581-ab1b0b7308fb",
   "metadata": {},
   "outputs": [
    {
     "data": {
      "text/plain": [
       "RendererRegistry.enable('jupyterlab')"
      ]
     },
     "execution_count": 2,
     "metadata": {},
     "output_type": "execute_result"
    }
   ],
   "source": [
    "import pandas as pd\n",
    "import numpy as np\n",
    "import altair as alt\n",
    "alt.renderers.enable('jupyterlab')"
   ]
  },
  {
   "cell_type": "code",
   "execution_count": 3,
   "id": "fcc3d550-6013-471b-a080-3b613a799cdd",
   "metadata": {},
   "outputs": [
    {
     "name": "stderr",
     "output_type": "stream",
     "text": [
      "/var/folders/jw/x3fn2st54v7f8_8ll783l57c0000gn/T/ipykernel_10081/3648548971.py:10: SettingWithCopyWarning: \n",
      "A value is trying to be set on a copy of a slice from a DataFrame.\n",
      "Try using .loc[row_indexer,col_indexer] = value instead\n",
      "\n",
      "See the caveats in the documentation: https://pandas.pydata.org/pandas-docs/stable/user_guide/indexing.html#returning-a-view-versus-a-copy\n",
      "  filtered_data['Gene Category'] = filtered_data['GENE'].apply(lambda x: x if x in main_genes else 'Accessory genes')\n"
     ]
    }
   ],
   "source": [
    "\n",
    "data = pd.read_csv('../data/modified_full_variants_long_table.csv')\n",
    "\n",
    "filtered_data = data[\n",
    "    (data['FILTER'] == 'PASS') & \n",
    "    (data['REF'].isin(['A', 'T', 'C', 'G'])) &\n",
    "    (data['ALT'].isin(['A', 'T', 'C', 'G']))\n",
    "]\n",
    "\n",
    "main_genes = ['orf1ab', 'S', 'E']\n",
    "filtered_data['Gene Category'] = filtered_data['GENE'].apply(lambda x: x if x in main_genes else 'Accessory genes')\n",
    "\n",
    "gene_categories = {\n",
    "    'orf1ab': filtered_data[filtered_data['GENE'] == 'orf1ab'],\n",
    "    'S': filtered_data[filtered_data['GENE'] == 'S'],\n",
    "    'E': filtered_data[filtered_data['GENE'] == 'E'],\n",
    "    'Accessory genes': filtered_data[filtered_data['Gene Category'] == 'Accessory genes']\n",
    "}\n",
    "\n",
    "# <--- set plots params here ---> \n",
    "min_af = 0  \n",
    "max_af = 0.20  \n",
    "n_bins = 50  \n",
    "bin_edges = np.linspace(min_af, max_af, n_bins + 1)"
   ]
  },
  {
   "cell_type": "markdown",
   "id": "2d995ae0-7e81-43b6-a5e3-39f7d6284918",
   "metadata": {},
   "source": [
    "### Plots"
   ]
  },
  {
   "cell_type": "code",
   "execution_count": 4,
   "id": "02862cfe-2046-4839-a2a3-db2d8072d8b7",
   "metadata": {},
   "outputs": [
    {
     "data": {
      "application/vnd.vegalite.v5+json": {
       "$schema": "https://vega.github.io/schema/vega-lite/v5.17.0.json",
       "config": {
        "axis": {
         "labelFontSize": 12,
         "titleFontSize": 14
        },
        "legend": {
         "labelFontSize": 12,
         "titleFontSize": 14
        },
        "title": {
         "anchor": "start",
         "color": "black",
         "font": "Arial",
         "fontSize": 20
        },
        "view": {
         "continuousHeight": 300,
         "continuousWidth": 300
        }
       },
       "data": {
        "name": "data-5477a4d6407c3a7199e4672a0fa986ff"
       },
       "datasets": {
        "data-5477a4d6407c3a7199e4672a0fa986ff": [
         {
          "Allele Frequency": 0,
          "Counts": 2,
          "Effect": "upstream_gene_variant",
          "Gene": "orf1ab"
         },
         {
          "Allele Frequency": 0.004,
          "Counts": 2,
          "Effect": "upstream_gene_variant",
          "Gene": "orf1ab"
         },
         {
          "Allele Frequency": 0.008,
          "Counts": 0,
          "Effect": "upstream_gene_variant",
          "Gene": "orf1ab"
         },
         {
          "Allele Frequency": 0.012,
          "Counts": 2,
          "Effect": "upstream_gene_variant",
          "Gene": "orf1ab"
         },
         {
          "Allele Frequency": 0.016,
          "Counts": 1,
          "Effect": "upstream_gene_variant",
          "Gene": "orf1ab"
         },
         {
          "Allele Frequency": 0.02,
          "Counts": 1,
          "Effect": "upstream_gene_variant",
          "Gene": "orf1ab"
         },
         {
          "Allele Frequency": 0.024,
          "Counts": 1,
          "Effect": "upstream_gene_variant",
          "Gene": "orf1ab"
         },
         {
          "Allele Frequency": 0.028,
          "Counts": 0,
          "Effect": "upstream_gene_variant",
          "Gene": "orf1ab"
         },
         {
          "Allele Frequency": 0.032,
          "Counts": 4,
          "Effect": "upstream_gene_variant",
          "Gene": "orf1ab"
         },
         {
          "Allele Frequency": 0.036000000000000004,
          "Counts": 1,
          "Effect": "upstream_gene_variant",
          "Gene": "orf1ab"
         },
         {
          "Allele Frequency": 0.04,
          "Counts": 0,
          "Effect": "upstream_gene_variant",
          "Gene": "orf1ab"
         },
         {
          "Allele Frequency": 0.044,
          "Counts": 1,
          "Effect": "upstream_gene_variant",
          "Gene": "orf1ab"
         },
         {
          "Allele Frequency": 0.048,
          "Counts": 2,
          "Effect": "upstream_gene_variant",
          "Gene": "orf1ab"
         },
         {
          "Allele Frequency": 0.052000000000000005,
          "Counts": 3,
          "Effect": "upstream_gene_variant",
          "Gene": "orf1ab"
         },
         {
          "Allele Frequency": 0.056,
          "Counts": 1,
          "Effect": "upstream_gene_variant",
          "Gene": "orf1ab"
         },
         {
          "Allele Frequency": 0.06,
          "Counts": 1,
          "Effect": "upstream_gene_variant",
          "Gene": "orf1ab"
         },
         {
          "Allele Frequency": 0.064,
          "Counts": 2,
          "Effect": "upstream_gene_variant",
          "Gene": "orf1ab"
         },
         {
          "Allele Frequency": 0.068,
          "Counts": 1,
          "Effect": "upstream_gene_variant",
          "Gene": "orf1ab"
         },
         {
          "Allele Frequency": 0.07200000000000001,
          "Counts": 5,
          "Effect": "upstream_gene_variant",
          "Gene": "orf1ab"
         },
         {
          "Allele Frequency": 0.076,
          "Counts": 0,
          "Effect": "upstream_gene_variant",
          "Gene": "orf1ab"
         },
         {
          "Allele Frequency": 0.08,
          "Counts": 1,
          "Effect": "upstream_gene_variant",
          "Gene": "orf1ab"
         },
         {
          "Allele Frequency": 0.084,
          "Counts": 2,
          "Effect": "upstream_gene_variant",
          "Gene": "orf1ab"
         },
         {
          "Allele Frequency": 0.088,
          "Counts": 1,
          "Effect": "upstream_gene_variant",
          "Gene": "orf1ab"
         },
         {
          "Allele Frequency": 0.092,
          "Counts": 1,
          "Effect": "upstream_gene_variant",
          "Gene": "orf1ab"
         },
         {
          "Allele Frequency": 0.096,
          "Counts": 1,
          "Effect": "upstream_gene_variant",
          "Gene": "orf1ab"
         },
         {
          "Allele Frequency": 0.1,
          "Counts": 1,
          "Effect": "upstream_gene_variant",
          "Gene": "orf1ab"
         },
         {
          "Allele Frequency": 0.10400000000000001,
          "Counts": 2,
          "Effect": "upstream_gene_variant",
          "Gene": "orf1ab"
         },
         {
          "Allele Frequency": 0.108,
          "Counts": 0,
          "Effect": "upstream_gene_variant",
          "Gene": "orf1ab"
         },
         {
          "Allele Frequency": 0.112,
          "Counts": 2,
          "Effect": "upstream_gene_variant",
          "Gene": "orf1ab"
         },
         {
          "Allele Frequency": 0.116,
          "Counts": 0,
          "Effect": "upstream_gene_variant",
          "Gene": "orf1ab"
         },
         {
          "Allele Frequency": 0.12,
          "Counts": 1,
          "Effect": "upstream_gene_variant",
          "Gene": "orf1ab"
         },
         {
          "Allele Frequency": 0.124,
          "Counts": 0,
          "Effect": "upstream_gene_variant",
          "Gene": "orf1ab"
         },
         {
          "Allele Frequency": 0.128,
          "Counts": 1,
          "Effect": "upstream_gene_variant",
          "Gene": "orf1ab"
         },
         {
          "Allele Frequency": 0.132,
          "Counts": 0,
          "Effect": "upstream_gene_variant",
          "Gene": "orf1ab"
         },
         {
          "Allele Frequency": 0.136,
          "Counts": 1,
          "Effect": "upstream_gene_variant",
          "Gene": "orf1ab"
         },
         {
          "Allele Frequency": 0.14,
          "Counts": 2,
          "Effect": "upstream_gene_variant",
          "Gene": "orf1ab"
         },
         {
          "Allele Frequency": 0.14400000000000002,
          "Counts": 1,
          "Effect": "upstream_gene_variant",
          "Gene": "orf1ab"
         },
         {
          "Allele Frequency": 0.148,
          "Counts": 3,
          "Effect": "upstream_gene_variant",
          "Gene": "orf1ab"
         },
         {
          "Allele Frequency": 0.152,
          "Counts": 4,
          "Effect": "upstream_gene_variant",
          "Gene": "orf1ab"
         },
         {
          "Allele Frequency": 0.156,
          "Counts": 2,
          "Effect": "upstream_gene_variant",
          "Gene": "orf1ab"
         },
         {
          "Allele Frequency": 0.16,
          "Counts": 0,
          "Effect": "upstream_gene_variant",
          "Gene": "orf1ab"
         },
         {
          "Allele Frequency": 0.164,
          "Counts": 0,
          "Effect": "upstream_gene_variant",
          "Gene": "orf1ab"
         },
         {
          "Allele Frequency": 0.168,
          "Counts": 1,
          "Effect": "upstream_gene_variant",
          "Gene": "orf1ab"
         },
         {
          "Allele Frequency": 0.17200000000000001,
          "Counts": 1,
          "Effect": "upstream_gene_variant",
          "Gene": "orf1ab"
         },
         {
          "Allele Frequency": 0.176,
          "Counts": 0,
          "Effect": "upstream_gene_variant",
          "Gene": "orf1ab"
         },
         {
          "Allele Frequency": 0.18,
          "Counts": 1,
          "Effect": "upstream_gene_variant",
          "Gene": "orf1ab"
         },
         {
          "Allele Frequency": 0.184,
          "Counts": 1,
          "Effect": "upstream_gene_variant",
          "Gene": "orf1ab"
         },
         {
          "Allele Frequency": 0.188,
          "Counts": 0,
          "Effect": "upstream_gene_variant",
          "Gene": "orf1ab"
         },
         {
          "Allele Frequency": 0.192,
          "Counts": 1,
          "Effect": "upstream_gene_variant",
          "Gene": "orf1ab"
         },
         {
          "Allele Frequency": 0.196,
          "Counts": 3,
          "Effect": "upstream_gene_variant",
          "Gene": "orf1ab"
         },
         {
          "Allele Frequency": 0,
          "Counts": 5,
          "Effect": "missense_variant",
          "Gene": "orf1ab"
         },
         {
          "Allele Frequency": 0.004,
          "Counts": 8,
          "Effect": "missense_variant",
          "Gene": "orf1ab"
         },
         {
          "Allele Frequency": 0.008,
          "Counts": 4,
          "Effect": "missense_variant",
          "Gene": "orf1ab"
         },
         {
          "Allele Frequency": 0.012,
          "Counts": 6,
          "Effect": "missense_variant",
          "Gene": "orf1ab"
         },
         {
          "Allele Frequency": 0.016,
          "Counts": 8,
          "Effect": "missense_variant",
          "Gene": "orf1ab"
         },
         {
          "Allele Frequency": 0.02,
          "Counts": 7,
          "Effect": "missense_variant",
          "Gene": "orf1ab"
         },
         {
          "Allele Frequency": 0.024,
          "Counts": 7,
          "Effect": "missense_variant",
          "Gene": "orf1ab"
         },
         {
          "Allele Frequency": 0.028,
          "Counts": 6,
          "Effect": "missense_variant",
          "Gene": "orf1ab"
         },
         {
          "Allele Frequency": 0.032,
          "Counts": 7,
          "Effect": "missense_variant",
          "Gene": "orf1ab"
         },
         {
          "Allele Frequency": 0.036000000000000004,
          "Counts": 10,
          "Effect": "missense_variant",
          "Gene": "orf1ab"
         },
         {
          "Allele Frequency": 0.04,
          "Counts": 10,
          "Effect": "missense_variant",
          "Gene": "orf1ab"
         },
         {
          "Allele Frequency": 0.044,
          "Counts": 6,
          "Effect": "missense_variant",
          "Gene": "orf1ab"
         },
         {
          "Allele Frequency": 0.048,
          "Counts": 9,
          "Effect": "missense_variant",
          "Gene": "orf1ab"
         },
         {
          "Allele Frequency": 0.052000000000000005,
          "Counts": 8,
          "Effect": "missense_variant",
          "Gene": "orf1ab"
         },
         {
          "Allele Frequency": 0.056,
          "Counts": 10,
          "Effect": "missense_variant",
          "Gene": "orf1ab"
         },
         {
          "Allele Frequency": 0.06,
          "Counts": 8,
          "Effect": "missense_variant",
          "Gene": "orf1ab"
         },
         {
          "Allele Frequency": 0.064,
          "Counts": 3,
          "Effect": "missense_variant",
          "Gene": "orf1ab"
         },
         {
          "Allele Frequency": 0.068,
          "Counts": 10,
          "Effect": "missense_variant",
          "Gene": "orf1ab"
         },
         {
          "Allele Frequency": 0.07200000000000001,
          "Counts": 5,
          "Effect": "missense_variant",
          "Gene": "orf1ab"
         },
         {
          "Allele Frequency": 0.076,
          "Counts": 7,
          "Effect": "missense_variant",
          "Gene": "orf1ab"
         },
         {
          "Allele Frequency": 0.08,
          "Counts": 6,
          "Effect": "missense_variant",
          "Gene": "orf1ab"
         },
         {
          "Allele Frequency": 0.084,
          "Counts": 8,
          "Effect": "missense_variant",
          "Gene": "orf1ab"
         },
         {
          "Allele Frequency": 0.088,
          "Counts": 6,
          "Effect": "missense_variant",
          "Gene": "orf1ab"
         },
         {
          "Allele Frequency": 0.092,
          "Counts": 2,
          "Effect": "missense_variant",
          "Gene": "orf1ab"
         },
         {
          "Allele Frequency": 0.096,
          "Counts": 3,
          "Effect": "missense_variant",
          "Gene": "orf1ab"
         },
         {
          "Allele Frequency": 0.1,
          "Counts": 10,
          "Effect": "missense_variant",
          "Gene": "orf1ab"
         },
         {
          "Allele Frequency": 0.10400000000000001,
          "Counts": 4,
          "Effect": "missense_variant",
          "Gene": "orf1ab"
         },
         {
          "Allele Frequency": 0.108,
          "Counts": 9,
          "Effect": "missense_variant",
          "Gene": "orf1ab"
         },
         {
          "Allele Frequency": 0.112,
          "Counts": 9,
          "Effect": "missense_variant",
          "Gene": "orf1ab"
         },
         {
          "Allele Frequency": 0.116,
          "Counts": 8,
          "Effect": "missense_variant",
          "Gene": "orf1ab"
         },
         {
          "Allele Frequency": 0.12,
          "Counts": 6,
          "Effect": "missense_variant",
          "Gene": "orf1ab"
         },
         {
          "Allele Frequency": 0.124,
          "Counts": 6,
          "Effect": "missense_variant",
          "Gene": "orf1ab"
         },
         {
          "Allele Frequency": 0.128,
          "Counts": 9,
          "Effect": "missense_variant",
          "Gene": "orf1ab"
         },
         {
          "Allele Frequency": 0.132,
          "Counts": 7,
          "Effect": "missense_variant",
          "Gene": "orf1ab"
         },
         {
          "Allele Frequency": 0.136,
          "Counts": 11,
          "Effect": "missense_variant",
          "Gene": "orf1ab"
         },
         {
          "Allele Frequency": 0.14,
          "Counts": 5,
          "Effect": "missense_variant",
          "Gene": "orf1ab"
         },
         {
          "Allele Frequency": 0.14400000000000002,
          "Counts": 6,
          "Effect": "missense_variant",
          "Gene": "orf1ab"
         },
         {
          "Allele Frequency": 0.148,
          "Counts": 8,
          "Effect": "missense_variant",
          "Gene": "orf1ab"
         },
         {
          "Allele Frequency": 0.152,
          "Counts": 7,
          "Effect": "missense_variant",
          "Gene": "orf1ab"
         },
         {
          "Allele Frequency": 0.156,
          "Counts": 9,
          "Effect": "missense_variant",
          "Gene": "orf1ab"
         },
         {
          "Allele Frequency": 0.16,
          "Counts": 6,
          "Effect": "missense_variant",
          "Gene": "orf1ab"
         },
         {
          "Allele Frequency": 0.164,
          "Counts": 5,
          "Effect": "missense_variant",
          "Gene": "orf1ab"
         },
         {
          "Allele Frequency": 0.168,
          "Counts": 6,
          "Effect": "missense_variant",
          "Gene": "orf1ab"
         },
         {
          "Allele Frequency": 0.17200000000000001,
          "Counts": 5,
          "Effect": "missense_variant",
          "Gene": "orf1ab"
         },
         {
          "Allele Frequency": 0.176,
          "Counts": 4,
          "Effect": "missense_variant",
          "Gene": "orf1ab"
         },
         {
          "Allele Frequency": 0.18,
          "Counts": 7,
          "Effect": "missense_variant",
          "Gene": "orf1ab"
         },
         {
          "Allele Frequency": 0.184,
          "Counts": 8,
          "Effect": "missense_variant",
          "Gene": "orf1ab"
         },
         {
          "Allele Frequency": 0.188,
          "Counts": 5,
          "Effect": "missense_variant",
          "Gene": "orf1ab"
         },
         {
          "Allele Frequency": 0.192,
          "Counts": 7,
          "Effect": "missense_variant",
          "Gene": "orf1ab"
         },
         {
          "Allele Frequency": 0.196,
          "Counts": 6,
          "Effect": "missense_variant",
          "Gene": "orf1ab"
         },
         {
          "Allele Frequency": 0,
          "Counts": 7,
          "Effect": "synonymous_variant",
          "Gene": "orf1ab"
         },
         {
          "Allele Frequency": 0.004,
          "Counts": 2,
          "Effect": "synonymous_variant",
          "Gene": "orf1ab"
         },
         {
          "Allele Frequency": 0.008,
          "Counts": 11,
          "Effect": "synonymous_variant",
          "Gene": "orf1ab"
         },
         {
          "Allele Frequency": 0.012,
          "Counts": 9,
          "Effect": "synonymous_variant",
          "Gene": "orf1ab"
         },
         {
          "Allele Frequency": 0.016,
          "Counts": 5,
          "Effect": "synonymous_variant",
          "Gene": "orf1ab"
         },
         {
          "Allele Frequency": 0.02,
          "Counts": 5,
          "Effect": "synonymous_variant",
          "Gene": "orf1ab"
         },
         {
          "Allele Frequency": 0.024,
          "Counts": 4,
          "Effect": "synonymous_variant",
          "Gene": "orf1ab"
         },
         {
          "Allele Frequency": 0.028,
          "Counts": 8,
          "Effect": "synonymous_variant",
          "Gene": "orf1ab"
         },
         {
          "Allele Frequency": 0.032,
          "Counts": 6,
          "Effect": "synonymous_variant",
          "Gene": "orf1ab"
         },
         {
          "Allele Frequency": 0.036000000000000004,
          "Counts": 7,
          "Effect": "synonymous_variant",
          "Gene": "orf1ab"
         },
         {
          "Allele Frequency": 0.04,
          "Counts": 3,
          "Effect": "synonymous_variant",
          "Gene": "orf1ab"
         },
         {
          "Allele Frequency": 0.044,
          "Counts": 5,
          "Effect": "synonymous_variant",
          "Gene": "orf1ab"
         },
         {
          "Allele Frequency": 0.048,
          "Counts": 7,
          "Effect": "synonymous_variant",
          "Gene": "orf1ab"
         },
         {
          "Allele Frequency": 0.052000000000000005,
          "Counts": 4,
          "Effect": "synonymous_variant",
          "Gene": "orf1ab"
         },
         {
          "Allele Frequency": 0.056,
          "Counts": 10,
          "Effect": "synonymous_variant",
          "Gene": "orf1ab"
         },
         {
          "Allele Frequency": 0.06,
          "Counts": 13,
          "Effect": "synonymous_variant",
          "Gene": "orf1ab"
         },
         {
          "Allele Frequency": 0.064,
          "Counts": 7,
          "Effect": "synonymous_variant",
          "Gene": "orf1ab"
         },
         {
          "Allele Frequency": 0.068,
          "Counts": 6,
          "Effect": "synonymous_variant",
          "Gene": "orf1ab"
         },
         {
          "Allele Frequency": 0.07200000000000001,
          "Counts": 6,
          "Effect": "synonymous_variant",
          "Gene": "orf1ab"
         },
         {
          "Allele Frequency": 0.076,
          "Counts": 8,
          "Effect": "synonymous_variant",
          "Gene": "orf1ab"
         },
         {
          "Allele Frequency": 0.08,
          "Counts": 7,
          "Effect": "synonymous_variant",
          "Gene": "orf1ab"
         },
         {
          "Allele Frequency": 0.084,
          "Counts": 5,
          "Effect": "synonymous_variant",
          "Gene": "orf1ab"
         },
         {
          "Allele Frequency": 0.088,
          "Counts": 3,
          "Effect": "synonymous_variant",
          "Gene": "orf1ab"
         },
         {
          "Allele Frequency": 0.092,
          "Counts": 6,
          "Effect": "synonymous_variant",
          "Gene": "orf1ab"
         },
         {
          "Allele Frequency": 0.096,
          "Counts": 7,
          "Effect": "synonymous_variant",
          "Gene": "orf1ab"
         },
         {
          "Allele Frequency": 0.1,
          "Counts": 7,
          "Effect": "synonymous_variant",
          "Gene": "orf1ab"
         },
         {
          "Allele Frequency": 0.10400000000000001,
          "Counts": 7,
          "Effect": "synonymous_variant",
          "Gene": "orf1ab"
         },
         {
          "Allele Frequency": 0.108,
          "Counts": 11,
          "Effect": "synonymous_variant",
          "Gene": "orf1ab"
         },
         {
          "Allele Frequency": 0.112,
          "Counts": 6,
          "Effect": "synonymous_variant",
          "Gene": "orf1ab"
         },
         {
          "Allele Frequency": 0.116,
          "Counts": 9,
          "Effect": "synonymous_variant",
          "Gene": "orf1ab"
         },
         {
          "Allele Frequency": 0.12,
          "Counts": 4,
          "Effect": "synonymous_variant",
          "Gene": "orf1ab"
         },
         {
          "Allele Frequency": 0.124,
          "Counts": 8,
          "Effect": "synonymous_variant",
          "Gene": "orf1ab"
         },
         {
          "Allele Frequency": 0.128,
          "Counts": 7,
          "Effect": "synonymous_variant",
          "Gene": "orf1ab"
         },
         {
          "Allele Frequency": 0.132,
          "Counts": 7,
          "Effect": "synonymous_variant",
          "Gene": "orf1ab"
         },
         {
          "Allele Frequency": 0.136,
          "Counts": 11,
          "Effect": "synonymous_variant",
          "Gene": "orf1ab"
         },
         {
          "Allele Frequency": 0.14,
          "Counts": 4,
          "Effect": "synonymous_variant",
          "Gene": "orf1ab"
         },
         {
          "Allele Frequency": 0.14400000000000002,
          "Counts": 5,
          "Effect": "synonymous_variant",
          "Gene": "orf1ab"
         },
         {
          "Allele Frequency": 0.148,
          "Counts": 4,
          "Effect": "synonymous_variant",
          "Gene": "orf1ab"
         },
         {
          "Allele Frequency": 0.152,
          "Counts": 1,
          "Effect": "synonymous_variant",
          "Gene": "orf1ab"
         },
         {
          "Allele Frequency": 0.156,
          "Counts": 6,
          "Effect": "synonymous_variant",
          "Gene": "orf1ab"
         },
         {
          "Allele Frequency": 0.16,
          "Counts": 9,
          "Effect": "synonymous_variant",
          "Gene": "orf1ab"
         },
         {
          "Allele Frequency": 0.164,
          "Counts": 13,
          "Effect": "synonymous_variant",
          "Gene": "orf1ab"
         },
         {
          "Allele Frequency": 0.168,
          "Counts": 7,
          "Effect": "synonymous_variant",
          "Gene": "orf1ab"
         },
         {
          "Allele Frequency": 0.17200000000000001,
          "Counts": 7,
          "Effect": "synonymous_variant",
          "Gene": "orf1ab"
         },
         {
          "Allele Frequency": 0.176,
          "Counts": 10,
          "Effect": "synonymous_variant",
          "Gene": "orf1ab"
         },
         {
          "Allele Frequency": 0.18,
          "Counts": 4,
          "Effect": "synonymous_variant",
          "Gene": "orf1ab"
         },
         {
          "Allele Frequency": 0.184,
          "Counts": 2,
          "Effect": "synonymous_variant",
          "Gene": "orf1ab"
         },
         {
          "Allele Frequency": 0.188,
          "Counts": 7,
          "Effect": "synonymous_variant",
          "Gene": "orf1ab"
         },
         {
          "Allele Frequency": 0.192,
          "Counts": 7,
          "Effect": "synonymous_variant",
          "Gene": "orf1ab"
         },
         {
          "Allele Frequency": 0.196,
          "Counts": 6,
          "Effect": "synonymous_variant",
          "Gene": "orf1ab"
         },
         {
          "Allele Frequency": 0,
          "Counts": 0,
          "Effect": "stop_lost",
          "Gene": "orf1ab"
         },
         {
          "Allele Frequency": 0.004,
          "Counts": 0,
          "Effect": "stop_lost",
          "Gene": "orf1ab"
         },
         {
          "Allele Frequency": 0.008,
          "Counts": 0,
          "Effect": "stop_lost",
          "Gene": "orf1ab"
         },
         {
          "Allele Frequency": 0.012,
          "Counts": 0,
          "Effect": "stop_lost",
          "Gene": "orf1ab"
         },
         {
          "Allele Frequency": 0.016,
          "Counts": 0,
          "Effect": "stop_lost",
          "Gene": "orf1ab"
         },
         {
          "Allele Frequency": 0.02,
          "Counts": 1,
          "Effect": "stop_lost",
          "Gene": "orf1ab"
         },
         {
          "Allele Frequency": 0.024,
          "Counts": 0,
          "Effect": "stop_lost",
          "Gene": "orf1ab"
         },
         {
          "Allele Frequency": 0.028,
          "Counts": 0,
          "Effect": "stop_lost",
          "Gene": "orf1ab"
         },
         {
          "Allele Frequency": 0.032,
          "Counts": 1,
          "Effect": "stop_lost",
          "Gene": "orf1ab"
         },
         {
          "Allele Frequency": 0.036000000000000004,
          "Counts": 0,
          "Effect": "stop_lost",
          "Gene": "orf1ab"
         },
         {
          "Allele Frequency": 0.04,
          "Counts": 1,
          "Effect": "stop_lost",
          "Gene": "orf1ab"
         },
         {
          "Allele Frequency": 0.044,
          "Counts": 2,
          "Effect": "stop_lost",
          "Gene": "orf1ab"
         },
         {
          "Allele Frequency": 0.048,
          "Counts": 0,
          "Effect": "stop_lost",
          "Gene": "orf1ab"
         },
         {
          "Allele Frequency": 0.052000000000000005,
          "Counts": 0,
          "Effect": "stop_lost",
          "Gene": "orf1ab"
         },
         {
          "Allele Frequency": 0.056,
          "Counts": 0,
          "Effect": "stop_lost",
          "Gene": "orf1ab"
         },
         {
          "Allele Frequency": 0.06,
          "Counts": 0,
          "Effect": "stop_lost",
          "Gene": "orf1ab"
         },
         {
          "Allele Frequency": 0.064,
          "Counts": 0,
          "Effect": "stop_lost",
          "Gene": "orf1ab"
         },
         {
          "Allele Frequency": 0.068,
          "Counts": 0,
          "Effect": "stop_lost",
          "Gene": "orf1ab"
         },
         {
          "Allele Frequency": 0.07200000000000001,
          "Counts": 0,
          "Effect": "stop_lost",
          "Gene": "orf1ab"
         },
         {
          "Allele Frequency": 0.076,
          "Counts": 1,
          "Effect": "stop_lost",
          "Gene": "orf1ab"
         },
         {
          "Allele Frequency": 0.08,
          "Counts": 1,
          "Effect": "stop_lost",
          "Gene": "orf1ab"
         },
         {
          "Allele Frequency": 0.084,
          "Counts": 1,
          "Effect": "stop_lost",
          "Gene": "orf1ab"
         },
         {
          "Allele Frequency": 0.088,
          "Counts": 0,
          "Effect": "stop_lost",
          "Gene": "orf1ab"
         },
         {
          "Allele Frequency": 0.092,
          "Counts": 0,
          "Effect": "stop_lost",
          "Gene": "orf1ab"
         },
         {
          "Allele Frequency": 0.096,
          "Counts": 0,
          "Effect": "stop_lost",
          "Gene": "orf1ab"
         },
         {
          "Allele Frequency": 0.1,
          "Counts": 0,
          "Effect": "stop_lost",
          "Gene": "orf1ab"
         },
         {
          "Allele Frequency": 0.10400000000000001,
          "Counts": 0,
          "Effect": "stop_lost",
          "Gene": "orf1ab"
         },
         {
          "Allele Frequency": 0.108,
          "Counts": 0,
          "Effect": "stop_lost",
          "Gene": "orf1ab"
         },
         {
          "Allele Frequency": 0.112,
          "Counts": 0,
          "Effect": "stop_lost",
          "Gene": "orf1ab"
         },
         {
          "Allele Frequency": 0.116,
          "Counts": 0,
          "Effect": "stop_lost",
          "Gene": "orf1ab"
         },
         {
          "Allele Frequency": 0.12,
          "Counts": 0,
          "Effect": "stop_lost",
          "Gene": "orf1ab"
         },
         {
          "Allele Frequency": 0.124,
          "Counts": 0,
          "Effect": "stop_lost",
          "Gene": "orf1ab"
         },
         {
          "Allele Frequency": 0.128,
          "Counts": 0,
          "Effect": "stop_lost",
          "Gene": "orf1ab"
         },
         {
          "Allele Frequency": 0.132,
          "Counts": 0,
          "Effect": "stop_lost",
          "Gene": "orf1ab"
         },
         {
          "Allele Frequency": 0.136,
          "Counts": 0,
          "Effect": "stop_lost",
          "Gene": "orf1ab"
         },
         {
          "Allele Frequency": 0.14,
          "Counts": 0,
          "Effect": "stop_lost",
          "Gene": "orf1ab"
         },
         {
          "Allele Frequency": 0.14400000000000002,
          "Counts": 0,
          "Effect": "stop_lost",
          "Gene": "orf1ab"
         },
         {
          "Allele Frequency": 0.148,
          "Counts": 0,
          "Effect": "stop_lost",
          "Gene": "orf1ab"
         },
         {
          "Allele Frequency": 0.152,
          "Counts": 0,
          "Effect": "stop_lost",
          "Gene": "orf1ab"
         },
         {
          "Allele Frequency": 0.156,
          "Counts": 0,
          "Effect": "stop_lost",
          "Gene": "orf1ab"
         },
         {
          "Allele Frequency": 0.16,
          "Counts": 0,
          "Effect": "stop_lost",
          "Gene": "orf1ab"
         },
         {
          "Allele Frequency": 0.164,
          "Counts": 0,
          "Effect": "stop_lost",
          "Gene": "orf1ab"
         },
         {
          "Allele Frequency": 0.168,
          "Counts": 1,
          "Effect": "stop_lost",
          "Gene": "orf1ab"
         },
         {
          "Allele Frequency": 0.17200000000000001,
          "Counts": 0,
          "Effect": "stop_lost",
          "Gene": "orf1ab"
         },
         {
          "Allele Frequency": 0.176,
          "Counts": 0,
          "Effect": "stop_lost",
          "Gene": "orf1ab"
         },
         {
          "Allele Frequency": 0.18,
          "Counts": 0,
          "Effect": "stop_lost",
          "Gene": "orf1ab"
         },
         {
          "Allele Frequency": 0.184,
          "Counts": 1,
          "Effect": "stop_lost",
          "Gene": "orf1ab"
         },
         {
          "Allele Frequency": 0.188,
          "Counts": 0,
          "Effect": "stop_lost",
          "Gene": "orf1ab"
         },
         {
          "Allele Frequency": 0.192,
          "Counts": 0,
          "Effect": "stop_lost",
          "Gene": "orf1ab"
         },
         {
          "Allele Frequency": 0.196,
          "Counts": 0,
          "Effect": "stop_lost",
          "Gene": "orf1ab"
         },
         {
          "Allele Frequency": 0,
          "Counts": 0,
          "Effect": "stop_gained",
          "Gene": "orf1ab"
         },
         {
          "Allele Frequency": 0.004,
          "Counts": 0,
          "Effect": "stop_gained",
          "Gene": "orf1ab"
         },
         {
          "Allele Frequency": 0.008,
          "Counts": 0,
          "Effect": "stop_gained",
          "Gene": "orf1ab"
         },
         {
          "Allele Frequency": 0.012,
          "Counts": 0,
          "Effect": "stop_gained",
          "Gene": "orf1ab"
         },
         {
          "Allele Frequency": 0.016,
          "Counts": 0,
          "Effect": "stop_gained",
          "Gene": "orf1ab"
         },
         {
          "Allele Frequency": 0.02,
          "Counts": 0,
          "Effect": "stop_gained",
          "Gene": "orf1ab"
         },
         {
          "Allele Frequency": 0.024,
          "Counts": 0,
          "Effect": "stop_gained",
          "Gene": "orf1ab"
         },
         {
          "Allele Frequency": 0.028,
          "Counts": 0,
          "Effect": "stop_gained",
          "Gene": "orf1ab"
         },
         {
          "Allele Frequency": 0.032,
          "Counts": 0,
          "Effect": "stop_gained",
          "Gene": "orf1ab"
         },
         {
          "Allele Frequency": 0.036000000000000004,
          "Counts": 0,
          "Effect": "stop_gained",
          "Gene": "orf1ab"
         },
         {
          "Allele Frequency": 0.04,
          "Counts": 0,
          "Effect": "stop_gained",
          "Gene": "orf1ab"
         },
         {
          "Allele Frequency": 0.044,
          "Counts": 0,
          "Effect": "stop_gained",
          "Gene": "orf1ab"
         },
         {
          "Allele Frequency": 0.048,
          "Counts": 0,
          "Effect": "stop_gained",
          "Gene": "orf1ab"
         },
         {
          "Allele Frequency": 0.052000000000000005,
          "Counts": 0,
          "Effect": "stop_gained",
          "Gene": "orf1ab"
         },
         {
          "Allele Frequency": 0.056,
          "Counts": 0,
          "Effect": "stop_gained",
          "Gene": "orf1ab"
         },
         {
          "Allele Frequency": 0.06,
          "Counts": 0,
          "Effect": "stop_gained",
          "Gene": "orf1ab"
         },
         {
          "Allele Frequency": 0.064,
          "Counts": 0,
          "Effect": "stop_gained",
          "Gene": "orf1ab"
         },
         {
          "Allele Frequency": 0.068,
          "Counts": 0,
          "Effect": "stop_gained",
          "Gene": "orf1ab"
         },
         {
          "Allele Frequency": 0.07200000000000001,
          "Counts": 0,
          "Effect": "stop_gained",
          "Gene": "orf1ab"
         },
         {
          "Allele Frequency": 0.076,
          "Counts": 0,
          "Effect": "stop_gained",
          "Gene": "orf1ab"
         },
         {
          "Allele Frequency": 0.08,
          "Counts": 0,
          "Effect": "stop_gained",
          "Gene": "orf1ab"
         },
         {
          "Allele Frequency": 0.084,
          "Counts": 0,
          "Effect": "stop_gained",
          "Gene": "orf1ab"
         },
         {
          "Allele Frequency": 0.088,
          "Counts": 0,
          "Effect": "stop_gained",
          "Gene": "orf1ab"
         },
         {
          "Allele Frequency": 0.092,
          "Counts": 0,
          "Effect": "stop_gained",
          "Gene": "orf1ab"
         },
         {
          "Allele Frequency": 0.096,
          "Counts": 0,
          "Effect": "stop_gained",
          "Gene": "orf1ab"
         },
         {
          "Allele Frequency": 0.1,
          "Counts": 0,
          "Effect": "stop_gained",
          "Gene": "orf1ab"
         },
         {
          "Allele Frequency": 0.10400000000000001,
          "Counts": 0,
          "Effect": "stop_gained",
          "Gene": "orf1ab"
         },
         {
          "Allele Frequency": 0.108,
          "Counts": 0,
          "Effect": "stop_gained",
          "Gene": "orf1ab"
         },
         {
          "Allele Frequency": 0.112,
          "Counts": 0,
          "Effect": "stop_gained",
          "Gene": "orf1ab"
         },
         {
          "Allele Frequency": 0.116,
          "Counts": 0,
          "Effect": "stop_gained",
          "Gene": "orf1ab"
         },
         {
          "Allele Frequency": 0.12,
          "Counts": 0,
          "Effect": "stop_gained",
          "Gene": "orf1ab"
         },
         {
          "Allele Frequency": 0.124,
          "Counts": 0,
          "Effect": "stop_gained",
          "Gene": "orf1ab"
         },
         {
          "Allele Frequency": 0.128,
          "Counts": 0,
          "Effect": "stop_gained",
          "Gene": "orf1ab"
         },
         {
          "Allele Frequency": 0.132,
          "Counts": 0,
          "Effect": "stop_gained",
          "Gene": "orf1ab"
         },
         {
          "Allele Frequency": 0.136,
          "Counts": 0,
          "Effect": "stop_gained",
          "Gene": "orf1ab"
         },
         {
          "Allele Frequency": 0.14,
          "Counts": 0,
          "Effect": "stop_gained",
          "Gene": "orf1ab"
         },
         {
          "Allele Frequency": 0.14400000000000002,
          "Counts": 1,
          "Effect": "stop_gained",
          "Gene": "orf1ab"
         },
         {
          "Allele Frequency": 0.148,
          "Counts": 0,
          "Effect": "stop_gained",
          "Gene": "orf1ab"
         },
         {
          "Allele Frequency": 0.152,
          "Counts": 0,
          "Effect": "stop_gained",
          "Gene": "orf1ab"
         },
         {
          "Allele Frequency": 0.156,
          "Counts": 0,
          "Effect": "stop_gained",
          "Gene": "orf1ab"
         },
         {
          "Allele Frequency": 0.16,
          "Counts": 0,
          "Effect": "stop_gained",
          "Gene": "orf1ab"
         },
         {
          "Allele Frequency": 0.164,
          "Counts": 0,
          "Effect": "stop_gained",
          "Gene": "orf1ab"
         },
         {
          "Allele Frequency": 0.168,
          "Counts": 0,
          "Effect": "stop_gained",
          "Gene": "orf1ab"
         },
         {
          "Allele Frequency": 0.17200000000000001,
          "Counts": 0,
          "Effect": "stop_gained",
          "Gene": "orf1ab"
         },
         {
          "Allele Frequency": 0.176,
          "Counts": 0,
          "Effect": "stop_gained",
          "Gene": "orf1ab"
         },
         {
          "Allele Frequency": 0.18,
          "Counts": 0,
          "Effect": "stop_gained",
          "Gene": "orf1ab"
         },
         {
          "Allele Frequency": 0.184,
          "Counts": 0,
          "Effect": "stop_gained",
          "Gene": "orf1ab"
         },
         {
          "Allele Frequency": 0.188,
          "Counts": 1,
          "Effect": "stop_gained",
          "Gene": "orf1ab"
         },
         {
          "Allele Frequency": 0.192,
          "Counts": 0,
          "Effect": "stop_gained",
          "Gene": "orf1ab"
         },
         {
          "Allele Frequency": 0.196,
          "Counts": 0,
          "Effect": "stop_gained",
          "Gene": "orf1ab"
         },
         {
          "Allele Frequency": 0,
          "Counts": 9,
          "Effect": "missense_variant",
          "Gene": "S"
         },
         {
          "Allele Frequency": 0.004,
          "Counts": 7,
          "Effect": "missense_variant",
          "Gene": "S"
         },
         {
          "Allele Frequency": 0.008,
          "Counts": 7,
          "Effect": "missense_variant",
          "Gene": "S"
         },
         {
          "Allele Frequency": 0.012,
          "Counts": 8,
          "Effect": "missense_variant",
          "Gene": "S"
         },
         {
          "Allele Frequency": 0.016,
          "Counts": 11,
          "Effect": "missense_variant",
          "Gene": "S"
         },
         {
          "Allele Frequency": 0.02,
          "Counts": 10,
          "Effect": "missense_variant",
          "Gene": "S"
         },
         {
          "Allele Frequency": 0.024,
          "Counts": 18,
          "Effect": "missense_variant",
          "Gene": "S"
         },
         {
          "Allele Frequency": 0.028,
          "Counts": 14,
          "Effect": "missense_variant",
          "Gene": "S"
         },
         {
          "Allele Frequency": 0.032,
          "Counts": 11,
          "Effect": "missense_variant",
          "Gene": "S"
         },
         {
          "Allele Frequency": 0.036000000000000004,
          "Counts": 15,
          "Effect": "missense_variant",
          "Gene": "S"
         },
         {
          "Allele Frequency": 0.04,
          "Counts": 18,
          "Effect": "missense_variant",
          "Gene": "S"
         },
         {
          "Allele Frequency": 0.044,
          "Counts": 13,
          "Effect": "missense_variant",
          "Gene": "S"
         },
         {
          "Allele Frequency": 0.048,
          "Counts": 12,
          "Effect": "missense_variant",
          "Gene": "S"
         },
         {
          "Allele Frequency": 0.052000000000000005,
          "Counts": 11,
          "Effect": "missense_variant",
          "Gene": "S"
         },
         {
          "Allele Frequency": 0.056,
          "Counts": 15,
          "Effect": "missense_variant",
          "Gene": "S"
         },
         {
          "Allele Frequency": 0.06,
          "Counts": 8,
          "Effect": "missense_variant",
          "Gene": "S"
         },
         {
          "Allele Frequency": 0.064,
          "Counts": 10,
          "Effect": "missense_variant",
          "Gene": "S"
         },
         {
          "Allele Frequency": 0.068,
          "Counts": 7,
          "Effect": "missense_variant",
          "Gene": "S"
         },
         {
          "Allele Frequency": 0.07200000000000001,
          "Counts": 9,
          "Effect": "missense_variant",
          "Gene": "S"
         },
         {
          "Allele Frequency": 0.076,
          "Counts": 12,
          "Effect": "missense_variant",
          "Gene": "S"
         },
         {
          "Allele Frequency": 0.08,
          "Counts": 10,
          "Effect": "missense_variant",
          "Gene": "S"
         },
         {
          "Allele Frequency": 0.084,
          "Counts": 7,
          "Effect": "missense_variant",
          "Gene": "S"
         },
         {
          "Allele Frequency": 0.088,
          "Counts": 11,
          "Effect": "missense_variant",
          "Gene": "S"
         },
         {
          "Allele Frequency": 0.092,
          "Counts": 11,
          "Effect": "missense_variant",
          "Gene": "S"
         },
         {
          "Allele Frequency": 0.096,
          "Counts": 11,
          "Effect": "missense_variant",
          "Gene": "S"
         },
         {
          "Allele Frequency": 0.1,
          "Counts": 16,
          "Effect": "missense_variant",
          "Gene": "S"
         },
         {
          "Allele Frequency": 0.10400000000000001,
          "Counts": 13,
          "Effect": "missense_variant",
          "Gene": "S"
         },
         {
          "Allele Frequency": 0.108,
          "Counts": 10,
          "Effect": "missense_variant",
          "Gene": "S"
         },
         {
          "Allele Frequency": 0.112,
          "Counts": 13,
          "Effect": "missense_variant",
          "Gene": "S"
         },
         {
          "Allele Frequency": 0.116,
          "Counts": 15,
          "Effect": "missense_variant",
          "Gene": "S"
         },
         {
          "Allele Frequency": 0.12,
          "Counts": 16,
          "Effect": "missense_variant",
          "Gene": "S"
         },
         {
          "Allele Frequency": 0.124,
          "Counts": 15,
          "Effect": "missense_variant",
          "Gene": "S"
         },
         {
          "Allele Frequency": 0.128,
          "Counts": 14,
          "Effect": "missense_variant",
          "Gene": "S"
         },
         {
          "Allele Frequency": 0.132,
          "Counts": 10,
          "Effect": "missense_variant",
          "Gene": "S"
         },
         {
          "Allele Frequency": 0.136,
          "Counts": 11,
          "Effect": "missense_variant",
          "Gene": "S"
         },
         {
          "Allele Frequency": 0.14,
          "Counts": 18,
          "Effect": "missense_variant",
          "Gene": "S"
         },
         {
          "Allele Frequency": 0.14400000000000002,
          "Counts": 5,
          "Effect": "missense_variant",
          "Gene": "S"
         },
         {
          "Allele Frequency": 0.148,
          "Counts": 12,
          "Effect": "missense_variant",
          "Gene": "S"
         },
         {
          "Allele Frequency": 0.152,
          "Counts": 13,
          "Effect": "missense_variant",
          "Gene": "S"
         },
         {
          "Allele Frequency": 0.156,
          "Counts": 7,
          "Effect": "missense_variant",
          "Gene": "S"
         },
         {
          "Allele Frequency": 0.16,
          "Counts": 9,
          "Effect": "missense_variant",
          "Gene": "S"
         },
         {
          "Allele Frequency": 0.164,
          "Counts": 17,
          "Effect": "missense_variant",
          "Gene": "S"
         },
         {
          "Allele Frequency": 0.168,
          "Counts": 11,
          "Effect": "missense_variant",
          "Gene": "S"
         },
         {
          "Allele Frequency": 0.17200000000000001,
          "Counts": 10,
          "Effect": "missense_variant",
          "Gene": "S"
         },
         {
          "Allele Frequency": 0.176,
          "Counts": 12,
          "Effect": "missense_variant",
          "Gene": "S"
         },
         {
          "Allele Frequency": 0.18,
          "Counts": 11,
          "Effect": "missense_variant",
          "Gene": "S"
         },
         {
          "Allele Frequency": 0.184,
          "Counts": 14,
          "Effect": "missense_variant",
          "Gene": "S"
         },
         {
          "Allele Frequency": 0.188,
          "Counts": 21,
          "Effect": "missense_variant",
          "Gene": "S"
         },
         {
          "Allele Frequency": 0.192,
          "Counts": 20,
          "Effect": "missense_variant",
          "Gene": "S"
         },
         {
          "Allele Frequency": 0.196,
          "Counts": 9,
          "Effect": "missense_variant",
          "Gene": "S"
         },
         {
          "Allele Frequency": 0,
          "Counts": 0,
          "Effect": "synonymous_variant",
          "Gene": "S"
         },
         {
          "Allele Frequency": 0.004,
          "Counts": 0,
          "Effect": "synonymous_variant",
          "Gene": "S"
         },
         {
          "Allele Frequency": 0.008,
          "Counts": 1,
          "Effect": "synonymous_variant",
          "Gene": "S"
         },
         {
          "Allele Frequency": 0.012,
          "Counts": 2,
          "Effect": "synonymous_variant",
          "Gene": "S"
         },
         {
          "Allele Frequency": 0.016,
          "Counts": 0,
          "Effect": "synonymous_variant",
          "Gene": "S"
         },
         {
          "Allele Frequency": 0.02,
          "Counts": 1,
          "Effect": "synonymous_variant",
          "Gene": "S"
         },
         {
          "Allele Frequency": 0.024,
          "Counts": 1,
          "Effect": "synonymous_variant",
          "Gene": "S"
         },
         {
          "Allele Frequency": 0.028,
          "Counts": 0,
          "Effect": "synonymous_variant",
          "Gene": "S"
         },
         {
          "Allele Frequency": 0.032,
          "Counts": 0,
          "Effect": "synonymous_variant",
          "Gene": "S"
         },
         {
          "Allele Frequency": 0.036000000000000004,
          "Counts": 3,
          "Effect": "synonymous_variant",
          "Gene": "S"
         },
         {
          "Allele Frequency": 0.04,
          "Counts": 0,
          "Effect": "synonymous_variant",
          "Gene": "S"
         },
         {
          "Allele Frequency": 0.044,
          "Counts": 0,
          "Effect": "synonymous_variant",
          "Gene": "S"
         },
         {
          "Allele Frequency": 0.048,
          "Counts": 0,
          "Effect": "synonymous_variant",
          "Gene": "S"
         },
         {
          "Allele Frequency": 0.052000000000000005,
          "Counts": 1,
          "Effect": "synonymous_variant",
          "Gene": "S"
         },
         {
          "Allele Frequency": 0.056,
          "Counts": 2,
          "Effect": "synonymous_variant",
          "Gene": "S"
         },
         {
          "Allele Frequency": 0.06,
          "Counts": 5,
          "Effect": "synonymous_variant",
          "Gene": "S"
         },
         {
          "Allele Frequency": 0.064,
          "Counts": 0,
          "Effect": "synonymous_variant",
          "Gene": "S"
         },
         {
          "Allele Frequency": 0.068,
          "Counts": 0,
          "Effect": "synonymous_variant",
          "Gene": "S"
         },
         {
          "Allele Frequency": 0.07200000000000001,
          "Counts": 0,
          "Effect": "synonymous_variant",
          "Gene": "S"
         },
         {
          "Allele Frequency": 0.076,
          "Counts": 1,
          "Effect": "synonymous_variant",
          "Gene": "S"
         },
         {
          "Allele Frequency": 0.08,
          "Counts": 1,
          "Effect": "synonymous_variant",
          "Gene": "S"
         },
         {
          "Allele Frequency": 0.084,
          "Counts": 1,
          "Effect": "synonymous_variant",
          "Gene": "S"
         },
         {
          "Allele Frequency": 0.088,
          "Counts": 1,
          "Effect": "synonymous_variant",
          "Gene": "S"
         },
         {
          "Allele Frequency": 0.092,
          "Counts": 1,
          "Effect": "synonymous_variant",
          "Gene": "S"
         },
         {
          "Allele Frequency": 0.096,
          "Counts": 1,
          "Effect": "synonymous_variant",
          "Gene": "S"
         },
         {
          "Allele Frequency": 0.1,
          "Counts": 0,
          "Effect": "synonymous_variant",
          "Gene": "S"
         },
         {
          "Allele Frequency": 0.10400000000000001,
          "Counts": 2,
          "Effect": "synonymous_variant",
          "Gene": "S"
         },
         {
          "Allele Frequency": 0.108,
          "Counts": 1,
          "Effect": "synonymous_variant",
          "Gene": "S"
         },
         {
          "Allele Frequency": 0.112,
          "Counts": 0,
          "Effect": "synonymous_variant",
          "Gene": "S"
         },
         {
          "Allele Frequency": 0.116,
          "Counts": 1,
          "Effect": "synonymous_variant",
          "Gene": "S"
         },
         {
          "Allele Frequency": 0.12,
          "Counts": 1,
          "Effect": "synonymous_variant",
          "Gene": "S"
         },
         {
          "Allele Frequency": 0.124,
          "Counts": 0,
          "Effect": "synonymous_variant",
          "Gene": "S"
         },
         {
          "Allele Frequency": 0.128,
          "Counts": 2,
          "Effect": "synonymous_variant",
          "Gene": "S"
         },
         {
          "Allele Frequency": 0.132,
          "Counts": 2,
          "Effect": "synonymous_variant",
          "Gene": "S"
         },
         {
          "Allele Frequency": 0.136,
          "Counts": 1,
          "Effect": "synonymous_variant",
          "Gene": "S"
         },
         {
          "Allele Frequency": 0.14,
          "Counts": 0,
          "Effect": "synonymous_variant",
          "Gene": "S"
         },
         {
          "Allele Frequency": 0.14400000000000002,
          "Counts": 1,
          "Effect": "synonymous_variant",
          "Gene": "S"
         },
         {
          "Allele Frequency": 0.148,
          "Counts": 1,
          "Effect": "synonymous_variant",
          "Gene": "S"
         },
         {
          "Allele Frequency": 0.152,
          "Counts": 0,
          "Effect": "synonymous_variant",
          "Gene": "S"
         },
         {
          "Allele Frequency": 0.156,
          "Counts": 1,
          "Effect": "synonymous_variant",
          "Gene": "S"
         },
         {
          "Allele Frequency": 0.16,
          "Counts": 0,
          "Effect": "synonymous_variant",
          "Gene": "S"
         },
         {
          "Allele Frequency": 0.164,
          "Counts": 2,
          "Effect": "synonymous_variant",
          "Gene": "S"
         },
         {
          "Allele Frequency": 0.168,
          "Counts": 1,
          "Effect": "synonymous_variant",
          "Gene": "S"
         },
         {
          "Allele Frequency": 0.17200000000000001,
          "Counts": 0,
          "Effect": "synonymous_variant",
          "Gene": "S"
         },
         {
          "Allele Frequency": 0.176,
          "Counts": 1,
          "Effect": "synonymous_variant",
          "Gene": "S"
         },
         {
          "Allele Frequency": 0.18,
          "Counts": 0,
          "Effect": "synonymous_variant",
          "Gene": "S"
         },
         {
          "Allele Frequency": 0.184,
          "Counts": 0,
          "Effect": "synonymous_variant",
          "Gene": "S"
         },
         {
          "Allele Frequency": 0.188,
          "Counts": 1,
          "Effect": "synonymous_variant",
          "Gene": "S"
         },
         {
          "Allele Frequency": 0.192,
          "Counts": 1,
          "Effect": "synonymous_variant",
          "Gene": "S"
         },
         {
          "Allele Frequency": 0.196,
          "Counts": 0,
          "Effect": "synonymous_variant",
          "Gene": "S"
         },
         {
          "Allele Frequency": 0,
          "Counts": 0,
          "Effect": "downstream_gene_variant",
          "Gene": "S"
         },
         {
          "Allele Frequency": 0.004,
          "Counts": 0,
          "Effect": "downstream_gene_variant",
          "Gene": "S"
         },
         {
          "Allele Frequency": 0.008,
          "Counts": 0,
          "Effect": "downstream_gene_variant",
          "Gene": "S"
         },
         {
          "Allele Frequency": 0.012,
          "Counts": 1,
          "Effect": "downstream_gene_variant",
          "Gene": "S"
         },
         {
          "Allele Frequency": 0.016,
          "Counts": 0,
          "Effect": "downstream_gene_variant",
          "Gene": "S"
         },
         {
          "Allele Frequency": 0.02,
          "Counts": 0,
          "Effect": "downstream_gene_variant",
          "Gene": "S"
         },
         {
          "Allele Frequency": 0.024,
          "Counts": 0,
          "Effect": "downstream_gene_variant",
          "Gene": "S"
         },
         {
          "Allele Frequency": 0.028,
          "Counts": 0,
          "Effect": "downstream_gene_variant",
          "Gene": "S"
         },
         {
          "Allele Frequency": 0.032,
          "Counts": 3,
          "Effect": "downstream_gene_variant",
          "Gene": "S"
         },
         {
          "Allele Frequency": 0.036000000000000004,
          "Counts": 1,
          "Effect": "downstream_gene_variant",
          "Gene": "S"
         },
         {
          "Allele Frequency": 0.04,
          "Counts": 0,
          "Effect": "downstream_gene_variant",
          "Gene": "S"
         },
         {
          "Allele Frequency": 0.044,
          "Counts": 0,
          "Effect": "downstream_gene_variant",
          "Gene": "S"
         },
         {
          "Allele Frequency": 0.048,
          "Counts": 1,
          "Effect": "downstream_gene_variant",
          "Gene": "S"
         },
         {
          "Allele Frequency": 0.052000000000000005,
          "Counts": 0,
          "Effect": "downstream_gene_variant",
          "Gene": "S"
         },
         {
          "Allele Frequency": 0.056,
          "Counts": 0,
          "Effect": "downstream_gene_variant",
          "Gene": "S"
         },
         {
          "Allele Frequency": 0.06,
          "Counts": 1,
          "Effect": "downstream_gene_variant",
          "Gene": "S"
         },
         {
          "Allele Frequency": 0.064,
          "Counts": 0,
          "Effect": "downstream_gene_variant",
          "Gene": "S"
         },
         {
          "Allele Frequency": 0.068,
          "Counts": 0,
          "Effect": "downstream_gene_variant",
          "Gene": "S"
         },
         {
          "Allele Frequency": 0.07200000000000001,
          "Counts": 0,
          "Effect": "downstream_gene_variant",
          "Gene": "S"
         },
         {
          "Allele Frequency": 0.076,
          "Counts": 1,
          "Effect": "downstream_gene_variant",
          "Gene": "S"
         },
         {
          "Allele Frequency": 0.08,
          "Counts": 0,
          "Effect": "downstream_gene_variant",
          "Gene": "S"
         },
         {
          "Allele Frequency": 0.084,
          "Counts": 0,
          "Effect": "downstream_gene_variant",
          "Gene": "S"
         },
         {
          "Allele Frequency": 0.088,
          "Counts": 0,
          "Effect": "downstream_gene_variant",
          "Gene": "S"
         },
         {
          "Allele Frequency": 0.092,
          "Counts": 1,
          "Effect": "downstream_gene_variant",
          "Gene": "S"
         },
         {
          "Allele Frequency": 0.096,
          "Counts": 1,
          "Effect": "downstream_gene_variant",
          "Gene": "S"
         },
         {
          "Allele Frequency": 0.1,
          "Counts": 0,
          "Effect": "downstream_gene_variant",
          "Gene": "S"
         },
         {
          "Allele Frequency": 0.10400000000000001,
          "Counts": 0,
          "Effect": "downstream_gene_variant",
          "Gene": "S"
         },
         {
          "Allele Frequency": 0.108,
          "Counts": 0,
          "Effect": "downstream_gene_variant",
          "Gene": "S"
         },
         {
          "Allele Frequency": 0.112,
          "Counts": 0,
          "Effect": "downstream_gene_variant",
          "Gene": "S"
         },
         {
          "Allele Frequency": 0.116,
          "Counts": 1,
          "Effect": "downstream_gene_variant",
          "Gene": "S"
         },
         {
          "Allele Frequency": 0.12,
          "Counts": 0,
          "Effect": "downstream_gene_variant",
          "Gene": "S"
         },
         {
          "Allele Frequency": 0.124,
          "Counts": 0,
          "Effect": "downstream_gene_variant",
          "Gene": "S"
         },
         {
          "Allele Frequency": 0.128,
          "Counts": 0,
          "Effect": "downstream_gene_variant",
          "Gene": "S"
         },
         {
          "Allele Frequency": 0.132,
          "Counts": 0,
          "Effect": "downstream_gene_variant",
          "Gene": "S"
         },
         {
          "Allele Frequency": 0.136,
          "Counts": 0,
          "Effect": "downstream_gene_variant",
          "Gene": "S"
         },
         {
          "Allele Frequency": 0.14,
          "Counts": 1,
          "Effect": "downstream_gene_variant",
          "Gene": "S"
         },
         {
          "Allele Frequency": 0.14400000000000002,
          "Counts": 0,
          "Effect": "downstream_gene_variant",
          "Gene": "S"
         },
         {
          "Allele Frequency": 0.148,
          "Counts": 0,
          "Effect": "downstream_gene_variant",
          "Gene": "S"
         },
         {
          "Allele Frequency": 0.152,
          "Counts": 0,
          "Effect": "downstream_gene_variant",
          "Gene": "S"
         },
         {
          "Allele Frequency": 0.156,
          "Counts": 0,
          "Effect": "downstream_gene_variant",
          "Gene": "S"
         },
         {
          "Allele Frequency": 0.16,
          "Counts": 0,
          "Effect": "downstream_gene_variant",
          "Gene": "S"
         },
         {
          "Allele Frequency": 0.164,
          "Counts": 0,
          "Effect": "downstream_gene_variant",
          "Gene": "S"
         },
         {
          "Allele Frequency": 0.168,
          "Counts": 0,
          "Effect": "downstream_gene_variant",
          "Gene": "S"
         },
         {
          "Allele Frequency": 0.17200000000000001,
          "Counts": 1,
          "Effect": "downstream_gene_variant",
          "Gene": "S"
         },
         {
          "Allele Frequency": 0.176,
          "Counts": 0,
          "Effect": "downstream_gene_variant",
          "Gene": "S"
         },
         {
          "Allele Frequency": 0.18,
          "Counts": 0,
          "Effect": "downstream_gene_variant",
          "Gene": "S"
         },
         {
          "Allele Frequency": 0.184,
          "Counts": 0,
          "Effect": "downstream_gene_variant",
          "Gene": "S"
         },
         {
          "Allele Frequency": 0.188,
          "Counts": 0,
          "Effect": "downstream_gene_variant",
          "Gene": "S"
         },
         {
          "Allele Frequency": 0.192,
          "Counts": 1,
          "Effect": "downstream_gene_variant",
          "Gene": "S"
         },
         {
          "Allele Frequency": 0.196,
          "Counts": 0,
          "Effect": "downstream_gene_variant",
          "Gene": "S"
         },
         {
          "Allele Frequency": 0,
          "Counts": 2,
          "Effect": "missense_variant",
          "Gene": "E"
         },
         {
          "Allele Frequency": 0.004,
          "Counts": 0,
          "Effect": "missense_variant",
          "Gene": "E"
         },
         {
          "Allele Frequency": 0.008,
          "Counts": 1,
          "Effect": "missense_variant",
          "Gene": "E"
         },
         {
          "Allele Frequency": 0.012,
          "Counts": 0,
          "Effect": "missense_variant",
          "Gene": "E"
         },
         {
          "Allele Frequency": 0.016,
          "Counts": 1,
          "Effect": "missense_variant",
          "Gene": "E"
         },
         {
          "Allele Frequency": 0.02,
          "Counts": 0,
          "Effect": "missense_variant",
          "Gene": "E"
         },
         {
          "Allele Frequency": 0.024,
          "Counts": 0,
          "Effect": "missense_variant",
          "Gene": "E"
         },
         {
          "Allele Frequency": 0.028,
          "Counts": 0,
          "Effect": "missense_variant",
          "Gene": "E"
         },
         {
          "Allele Frequency": 0.032,
          "Counts": 1,
          "Effect": "missense_variant",
          "Gene": "E"
         },
         {
          "Allele Frequency": 0.036000000000000004,
          "Counts": 0,
          "Effect": "missense_variant",
          "Gene": "E"
         },
         {
          "Allele Frequency": 0.04,
          "Counts": 0,
          "Effect": "missense_variant",
          "Gene": "E"
         },
         {
          "Allele Frequency": 0.044,
          "Counts": 0,
          "Effect": "missense_variant",
          "Gene": "E"
         },
         {
          "Allele Frequency": 0.048,
          "Counts": 0,
          "Effect": "missense_variant",
          "Gene": "E"
         },
         {
          "Allele Frequency": 0.052000000000000005,
          "Counts": 0,
          "Effect": "missense_variant",
          "Gene": "E"
         },
         {
          "Allele Frequency": 0.056,
          "Counts": 0,
          "Effect": "missense_variant",
          "Gene": "E"
         },
         {
          "Allele Frequency": 0.06,
          "Counts": 0,
          "Effect": "missense_variant",
          "Gene": "E"
         },
         {
          "Allele Frequency": 0.064,
          "Counts": 0,
          "Effect": "missense_variant",
          "Gene": "E"
         },
         {
          "Allele Frequency": 0.068,
          "Counts": 0,
          "Effect": "missense_variant",
          "Gene": "E"
         },
         {
          "Allele Frequency": 0.07200000000000001,
          "Counts": 0,
          "Effect": "missense_variant",
          "Gene": "E"
         },
         {
          "Allele Frequency": 0.076,
          "Counts": 1,
          "Effect": "missense_variant",
          "Gene": "E"
         },
         {
          "Allele Frequency": 0.08,
          "Counts": 1,
          "Effect": "missense_variant",
          "Gene": "E"
         },
         {
          "Allele Frequency": 0.084,
          "Counts": 0,
          "Effect": "missense_variant",
          "Gene": "E"
         },
         {
          "Allele Frequency": 0.088,
          "Counts": 0,
          "Effect": "missense_variant",
          "Gene": "E"
         },
         {
          "Allele Frequency": 0.092,
          "Counts": 0,
          "Effect": "missense_variant",
          "Gene": "E"
         },
         {
          "Allele Frequency": 0.096,
          "Counts": 0,
          "Effect": "missense_variant",
          "Gene": "E"
         },
         {
          "Allele Frequency": 0.1,
          "Counts": 0,
          "Effect": "missense_variant",
          "Gene": "E"
         },
         {
          "Allele Frequency": 0.10400000000000001,
          "Counts": 0,
          "Effect": "missense_variant",
          "Gene": "E"
         },
         {
          "Allele Frequency": 0.108,
          "Counts": 0,
          "Effect": "missense_variant",
          "Gene": "E"
         },
         {
          "Allele Frequency": 0.112,
          "Counts": 0,
          "Effect": "missense_variant",
          "Gene": "E"
         },
         {
          "Allele Frequency": 0.116,
          "Counts": 1,
          "Effect": "missense_variant",
          "Gene": "E"
         },
         {
          "Allele Frequency": 0.12,
          "Counts": 0,
          "Effect": "missense_variant",
          "Gene": "E"
         },
         {
          "Allele Frequency": 0.124,
          "Counts": 0,
          "Effect": "missense_variant",
          "Gene": "E"
         },
         {
          "Allele Frequency": 0.128,
          "Counts": 1,
          "Effect": "missense_variant",
          "Gene": "E"
         },
         {
          "Allele Frequency": 0.132,
          "Counts": 0,
          "Effect": "missense_variant",
          "Gene": "E"
         },
         {
          "Allele Frequency": 0.136,
          "Counts": 0,
          "Effect": "missense_variant",
          "Gene": "E"
         },
         {
          "Allele Frequency": 0.14,
          "Counts": 1,
          "Effect": "missense_variant",
          "Gene": "E"
         },
         {
          "Allele Frequency": 0.14400000000000002,
          "Counts": 0,
          "Effect": "missense_variant",
          "Gene": "E"
         },
         {
          "Allele Frequency": 0.148,
          "Counts": 0,
          "Effect": "missense_variant",
          "Gene": "E"
         },
         {
          "Allele Frequency": 0.152,
          "Counts": 1,
          "Effect": "missense_variant",
          "Gene": "E"
         },
         {
          "Allele Frequency": 0.156,
          "Counts": 0,
          "Effect": "missense_variant",
          "Gene": "E"
         },
         {
          "Allele Frequency": 0.16,
          "Counts": 1,
          "Effect": "missense_variant",
          "Gene": "E"
         },
         {
          "Allele Frequency": 0.164,
          "Counts": 0,
          "Effect": "missense_variant",
          "Gene": "E"
         },
         {
          "Allele Frequency": 0.168,
          "Counts": 0,
          "Effect": "missense_variant",
          "Gene": "E"
         },
         {
          "Allele Frequency": 0.17200000000000001,
          "Counts": 0,
          "Effect": "missense_variant",
          "Gene": "E"
         },
         {
          "Allele Frequency": 0.176,
          "Counts": 0,
          "Effect": "missense_variant",
          "Gene": "E"
         },
         {
          "Allele Frequency": 0.18,
          "Counts": 0,
          "Effect": "missense_variant",
          "Gene": "E"
         },
         {
          "Allele Frequency": 0.184,
          "Counts": 0,
          "Effect": "missense_variant",
          "Gene": "E"
         },
         {
          "Allele Frequency": 0.188,
          "Counts": 0,
          "Effect": "missense_variant",
          "Gene": "E"
         },
         {
          "Allele Frequency": 0.192,
          "Counts": 0,
          "Effect": "missense_variant",
          "Gene": "E"
         },
         {
          "Allele Frequency": 0.196,
          "Counts": 1,
          "Effect": "missense_variant",
          "Gene": "E"
         },
         {
          "Allele Frequency": 0,
          "Counts": 3,
          "Effect": "missense_variant",
          "Gene": "Accessory genes"
         },
         {
          "Allele Frequency": 0.004,
          "Counts": 8,
          "Effect": "missense_variant",
          "Gene": "Accessory genes"
         },
         {
          "Allele Frequency": 0.008,
          "Counts": 7,
          "Effect": "missense_variant",
          "Gene": "Accessory genes"
         },
         {
          "Allele Frequency": 0.012,
          "Counts": 4,
          "Effect": "missense_variant",
          "Gene": "Accessory genes"
         },
         {
          "Allele Frequency": 0.016,
          "Counts": 3,
          "Effect": "missense_variant",
          "Gene": "Accessory genes"
         },
         {
          "Allele Frequency": 0.02,
          "Counts": 5,
          "Effect": "missense_variant",
          "Gene": "Accessory genes"
         },
         {
          "Allele Frequency": 0.024,
          "Counts": 7,
          "Effect": "missense_variant",
          "Gene": "Accessory genes"
         },
         {
          "Allele Frequency": 0.028,
          "Counts": 5,
          "Effect": "missense_variant",
          "Gene": "Accessory genes"
         },
         {
          "Allele Frequency": 0.032,
          "Counts": 8,
          "Effect": "missense_variant",
          "Gene": "Accessory genes"
         },
         {
          "Allele Frequency": 0.036000000000000004,
          "Counts": 3,
          "Effect": "missense_variant",
          "Gene": "Accessory genes"
         },
         {
          "Allele Frequency": 0.04,
          "Counts": 9,
          "Effect": "missense_variant",
          "Gene": "Accessory genes"
         },
         {
          "Allele Frequency": 0.044,
          "Counts": 8,
          "Effect": "missense_variant",
          "Gene": "Accessory genes"
         },
         {
          "Allele Frequency": 0.048,
          "Counts": 4,
          "Effect": "missense_variant",
          "Gene": "Accessory genes"
         },
         {
          "Allele Frequency": 0.052000000000000005,
          "Counts": 4,
          "Effect": "missense_variant",
          "Gene": "Accessory genes"
         },
         {
          "Allele Frequency": 0.056,
          "Counts": 5,
          "Effect": "missense_variant",
          "Gene": "Accessory genes"
         },
         {
          "Allele Frequency": 0.06,
          "Counts": 6,
          "Effect": "missense_variant",
          "Gene": "Accessory genes"
         },
         {
          "Allele Frequency": 0.064,
          "Counts": 5,
          "Effect": "missense_variant",
          "Gene": "Accessory genes"
         },
         {
          "Allele Frequency": 0.068,
          "Counts": 7,
          "Effect": "missense_variant",
          "Gene": "Accessory genes"
         },
         {
          "Allele Frequency": 0.07200000000000001,
          "Counts": 4,
          "Effect": "missense_variant",
          "Gene": "Accessory genes"
         },
         {
          "Allele Frequency": 0.076,
          "Counts": 4,
          "Effect": "missense_variant",
          "Gene": "Accessory genes"
         },
         {
          "Allele Frequency": 0.08,
          "Counts": 4,
          "Effect": "missense_variant",
          "Gene": "Accessory genes"
         },
         {
          "Allele Frequency": 0.084,
          "Counts": 12,
          "Effect": "missense_variant",
          "Gene": "Accessory genes"
         },
         {
          "Allele Frequency": 0.088,
          "Counts": 4,
          "Effect": "missense_variant",
          "Gene": "Accessory genes"
         },
         {
          "Allele Frequency": 0.092,
          "Counts": 6,
          "Effect": "missense_variant",
          "Gene": "Accessory genes"
         },
         {
          "Allele Frequency": 0.096,
          "Counts": 2,
          "Effect": "missense_variant",
          "Gene": "Accessory genes"
         },
         {
          "Allele Frequency": 0.1,
          "Counts": 10,
          "Effect": "missense_variant",
          "Gene": "Accessory genes"
         },
         {
          "Allele Frequency": 0.10400000000000001,
          "Counts": 4,
          "Effect": "missense_variant",
          "Gene": "Accessory genes"
         },
         {
          "Allele Frequency": 0.108,
          "Counts": 10,
          "Effect": "missense_variant",
          "Gene": "Accessory genes"
         },
         {
          "Allele Frequency": 0.112,
          "Counts": 8,
          "Effect": "missense_variant",
          "Gene": "Accessory genes"
         },
         {
          "Allele Frequency": 0.116,
          "Counts": 4,
          "Effect": "missense_variant",
          "Gene": "Accessory genes"
         },
         {
          "Allele Frequency": 0.12,
          "Counts": 4,
          "Effect": "missense_variant",
          "Gene": "Accessory genes"
         },
         {
          "Allele Frequency": 0.124,
          "Counts": 6,
          "Effect": "missense_variant",
          "Gene": "Accessory genes"
         },
         {
          "Allele Frequency": 0.128,
          "Counts": 6,
          "Effect": "missense_variant",
          "Gene": "Accessory genes"
         },
         {
          "Allele Frequency": 0.132,
          "Counts": 5,
          "Effect": "missense_variant",
          "Gene": "Accessory genes"
         },
         {
          "Allele Frequency": 0.136,
          "Counts": 2,
          "Effect": "missense_variant",
          "Gene": "Accessory genes"
         },
         {
          "Allele Frequency": 0.14,
          "Counts": 5,
          "Effect": "missense_variant",
          "Gene": "Accessory genes"
         },
         {
          "Allele Frequency": 0.14400000000000002,
          "Counts": 5,
          "Effect": "missense_variant",
          "Gene": "Accessory genes"
         },
         {
          "Allele Frequency": 0.148,
          "Counts": 7,
          "Effect": "missense_variant",
          "Gene": "Accessory genes"
         },
         {
          "Allele Frequency": 0.152,
          "Counts": 5,
          "Effect": "missense_variant",
          "Gene": "Accessory genes"
         },
         {
          "Allele Frequency": 0.156,
          "Counts": 7,
          "Effect": "missense_variant",
          "Gene": "Accessory genes"
         },
         {
          "Allele Frequency": 0.16,
          "Counts": 4,
          "Effect": "missense_variant",
          "Gene": "Accessory genes"
         },
         {
          "Allele Frequency": 0.164,
          "Counts": 5,
          "Effect": "missense_variant",
          "Gene": "Accessory genes"
         },
         {
          "Allele Frequency": 0.168,
          "Counts": 5,
          "Effect": "missense_variant",
          "Gene": "Accessory genes"
         },
         {
          "Allele Frequency": 0.17200000000000001,
          "Counts": 9,
          "Effect": "missense_variant",
          "Gene": "Accessory genes"
         },
         {
          "Allele Frequency": 0.176,
          "Counts": 7,
          "Effect": "missense_variant",
          "Gene": "Accessory genes"
         },
         {
          "Allele Frequency": 0.18,
          "Counts": 6,
          "Effect": "missense_variant",
          "Gene": "Accessory genes"
         },
         {
          "Allele Frequency": 0.184,
          "Counts": 10,
          "Effect": "missense_variant",
          "Gene": "Accessory genes"
         },
         {
          "Allele Frequency": 0.188,
          "Counts": 2,
          "Effect": "missense_variant",
          "Gene": "Accessory genes"
         },
         {
          "Allele Frequency": 0.192,
          "Counts": 6,
          "Effect": "missense_variant",
          "Gene": "Accessory genes"
         },
         {
          "Allele Frequency": 0.196,
          "Counts": 6,
          "Effect": "missense_variant",
          "Gene": "Accessory genes"
         },
         {
          "Allele Frequency": 0,
          "Counts": 0,
          "Effect": "upstream_gene_variant",
          "Gene": "Accessory genes"
         },
         {
          "Allele Frequency": 0.004,
          "Counts": 0,
          "Effect": "upstream_gene_variant",
          "Gene": "Accessory genes"
         },
         {
          "Allele Frequency": 0.008,
          "Counts": 0,
          "Effect": "upstream_gene_variant",
          "Gene": "Accessory genes"
         },
         {
          "Allele Frequency": 0.012,
          "Counts": 3,
          "Effect": "upstream_gene_variant",
          "Gene": "Accessory genes"
         },
         {
          "Allele Frequency": 0.016,
          "Counts": 2,
          "Effect": "upstream_gene_variant",
          "Gene": "Accessory genes"
         },
         {
          "Allele Frequency": 0.02,
          "Counts": 1,
          "Effect": "upstream_gene_variant",
          "Gene": "Accessory genes"
         },
         {
          "Allele Frequency": 0.024,
          "Counts": 0,
          "Effect": "upstream_gene_variant",
          "Gene": "Accessory genes"
         },
         {
          "Allele Frequency": 0.028,
          "Counts": 0,
          "Effect": "upstream_gene_variant",
          "Gene": "Accessory genes"
         },
         {
          "Allele Frequency": 0.032,
          "Counts": 1,
          "Effect": "upstream_gene_variant",
          "Gene": "Accessory genes"
         },
         {
          "Allele Frequency": 0.036000000000000004,
          "Counts": 1,
          "Effect": "upstream_gene_variant",
          "Gene": "Accessory genes"
         },
         {
          "Allele Frequency": 0.04,
          "Counts": 1,
          "Effect": "upstream_gene_variant",
          "Gene": "Accessory genes"
         },
         {
          "Allele Frequency": 0.044,
          "Counts": 0,
          "Effect": "upstream_gene_variant",
          "Gene": "Accessory genes"
         },
         {
          "Allele Frequency": 0.048,
          "Counts": 2,
          "Effect": "upstream_gene_variant",
          "Gene": "Accessory genes"
         },
         {
          "Allele Frequency": 0.052000000000000005,
          "Counts": 1,
          "Effect": "upstream_gene_variant",
          "Gene": "Accessory genes"
         },
         {
          "Allele Frequency": 0.056,
          "Counts": 0,
          "Effect": "upstream_gene_variant",
          "Gene": "Accessory genes"
         },
         {
          "Allele Frequency": 0.06,
          "Counts": 1,
          "Effect": "upstream_gene_variant",
          "Gene": "Accessory genes"
         },
         {
          "Allele Frequency": 0.064,
          "Counts": 1,
          "Effect": "upstream_gene_variant",
          "Gene": "Accessory genes"
         },
         {
          "Allele Frequency": 0.068,
          "Counts": 0,
          "Effect": "upstream_gene_variant",
          "Gene": "Accessory genes"
         },
         {
          "Allele Frequency": 0.07200000000000001,
          "Counts": 1,
          "Effect": "upstream_gene_variant",
          "Gene": "Accessory genes"
         },
         {
          "Allele Frequency": 0.076,
          "Counts": 2,
          "Effect": "upstream_gene_variant",
          "Gene": "Accessory genes"
         },
         {
          "Allele Frequency": 0.08,
          "Counts": 2,
          "Effect": "upstream_gene_variant",
          "Gene": "Accessory genes"
         },
         {
          "Allele Frequency": 0.084,
          "Counts": 2,
          "Effect": "upstream_gene_variant",
          "Gene": "Accessory genes"
         },
         {
          "Allele Frequency": 0.088,
          "Counts": 0,
          "Effect": "upstream_gene_variant",
          "Gene": "Accessory genes"
         },
         {
          "Allele Frequency": 0.092,
          "Counts": 0,
          "Effect": "upstream_gene_variant",
          "Gene": "Accessory genes"
         },
         {
          "Allele Frequency": 0.096,
          "Counts": 2,
          "Effect": "upstream_gene_variant",
          "Gene": "Accessory genes"
         },
         {
          "Allele Frequency": 0.1,
          "Counts": 0,
          "Effect": "upstream_gene_variant",
          "Gene": "Accessory genes"
         },
         {
          "Allele Frequency": 0.10400000000000001,
          "Counts": 0,
          "Effect": "upstream_gene_variant",
          "Gene": "Accessory genes"
         },
         {
          "Allele Frequency": 0.108,
          "Counts": 1,
          "Effect": "upstream_gene_variant",
          "Gene": "Accessory genes"
         },
         {
          "Allele Frequency": 0.112,
          "Counts": 1,
          "Effect": "upstream_gene_variant",
          "Gene": "Accessory genes"
         },
         {
          "Allele Frequency": 0.116,
          "Counts": 1,
          "Effect": "upstream_gene_variant",
          "Gene": "Accessory genes"
         },
         {
          "Allele Frequency": 0.12,
          "Counts": 0,
          "Effect": "upstream_gene_variant",
          "Gene": "Accessory genes"
         },
         {
          "Allele Frequency": 0.124,
          "Counts": 1,
          "Effect": "upstream_gene_variant",
          "Gene": "Accessory genes"
         },
         {
          "Allele Frequency": 0.128,
          "Counts": 2,
          "Effect": "upstream_gene_variant",
          "Gene": "Accessory genes"
         },
         {
          "Allele Frequency": 0.132,
          "Counts": 0,
          "Effect": "upstream_gene_variant",
          "Gene": "Accessory genes"
         },
         {
          "Allele Frequency": 0.136,
          "Counts": 1,
          "Effect": "upstream_gene_variant",
          "Gene": "Accessory genes"
         },
         {
          "Allele Frequency": 0.14,
          "Counts": 0,
          "Effect": "upstream_gene_variant",
          "Gene": "Accessory genes"
         },
         {
          "Allele Frequency": 0.14400000000000002,
          "Counts": 2,
          "Effect": "upstream_gene_variant",
          "Gene": "Accessory genes"
         },
         {
          "Allele Frequency": 0.148,
          "Counts": 2,
          "Effect": "upstream_gene_variant",
          "Gene": "Accessory genes"
         },
         {
          "Allele Frequency": 0.152,
          "Counts": 3,
          "Effect": "upstream_gene_variant",
          "Gene": "Accessory genes"
         },
         {
          "Allele Frequency": 0.156,
          "Counts": 1,
          "Effect": "upstream_gene_variant",
          "Gene": "Accessory genes"
         },
         {
          "Allele Frequency": 0.16,
          "Counts": 1,
          "Effect": "upstream_gene_variant",
          "Gene": "Accessory genes"
         },
         {
          "Allele Frequency": 0.164,
          "Counts": 2,
          "Effect": "upstream_gene_variant",
          "Gene": "Accessory genes"
         },
         {
          "Allele Frequency": 0.168,
          "Counts": 1,
          "Effect": "upstream_gene_variant",
          "Gene": "Accessory genes"
         },
         {
          "Allele Frequency": 0.17200000000000001,
          "Counts": 0,
          "Effect": "upstream_gene_variant",
          "Gene": "Accessory genes"
         },
         {
          "Allele Frequency": 0.176,
          "Counts": 0,
          "Effect": "upstream_gene_variant",
          "Gene": "Accessory genes"
         },
         {
          "Allele Frequency": 0.18,
          "Counts": 0,
          "Effect": "upstream_gene_variant",
          "Gene": "Accessory genes"
         },
         {
          "Allele Frequency": 0.184,
          "Counts": 0,
          "Effect": "upstream_gene_variant",
          "Gene": "Accessory genes"
         },
         {
          "Allele Frequency": 0.188,
          "Counts": 1,
          "Effect": "upstream_gene_variant",
          "Gene": "Accessory genes"
         },
         {
          "Allele Frequency": 0.192,
          "Counts": 3,
          "Effect": "upstream_gene_variant",
          "Gene": "Accessory genes"
         },
         {
          "Allele Frequency": 0.196,
          "Counts": 1,
          "Effect": "upstream_gene_variant",
          "Gene": "Accessory genes"
         },
         {
          "Allele Frequency": 0,
          "Counts": 2,
          "Effect": "synonymous_variant",
          "Gene": "Accessory genes"
         },
         {
          "Allele Frequency": 0.004,
          "Counts": 2,
          "Effect": "synonymous_variant",
          "Gene": "Accessory genes"
         },
         {
          "Allele Frequency": 0.008,
          "Counts": 1,
          "Effect": "synonymous_variant",
          "Gene": "Accessory genes"
         },
         {
          "Allele Frequency": 0.012,
          "Counts": 3,
          "Effect": "synonymous_variant",
          "Gene": "Accessory genes"
         },
         {
          "Allele Frequency": 0.016,
          "Counts": 2,
          "Effect": "synonymous_variant",
          "Gene": "Accessory genes"
         },
         {
          "Allele Frequency": 0.02,
          "Counts": 1,
          "Effect": "synonymous_variant",
          "Gene": "Accessory genes"
         },
         {
          "Allele Frequency": 0.024,
          "Counts": 1,
          "Effect": "synonymous_variant",
          "Gene": "Accessory genes"
         },
         {
          "Allele Frequency": 0.028,
          "Counts": 1,
          "Effect": "synonymous_variant",
          "Gene": "Accessory genes"
         },
         {
          "Allele Frequency": 0.032,
          "Counts": 0,
          "Effect": "synonymous_variant",
          "Gene": "Accessory genes"
         },
         {
          "Allele Frequency": 0.036000000000000004,
          "Counts": 1,
          "Effect": "synonymous_variant",
          "Gene": "Accessory genes"
         },
         {
          "Allele Frequency": 0.04,
          "Counts": 2,
          "Effect": "synonymous_variant",
          "Gene": "Accessory genes"
         },
         {
          "Allele Frequency": 0.044,
          "Counts": 1,
          "Effect": "synonymous_variant",
          "Gene": "Accessory genes"
         },
         {
          "Allele Frequency": 0.048,
          "Counts": 1,
          "Effect": "synonymous_variant",
          "Gene": "Accessory genes"
         },
         {
          "Allele Frequency": 0.052000000000000005,
          "Counts": 1,
          "Effect": "synonymous_variant",
          "Gene": "Accessory genes"
         },
         {
          "Allele Frequency": 0.056,
          "Counts": 2,
          "Effect": "synonymous_variant",
          "Gene": "Accessory genes"
         },
         {
          "Allele Frequency": 0.06,
          "Counts": 1,
          "Effect": "synonymous_variant",
          "Gene": "Accessory genes"
         },
         {
          "Allele Frequency": 0.064,
          "Counts": 0,
          "Effect": "synonymous_variant",
          "Gene": "Accessory genes"
         },
         {
          "Allele Frequency": 0.068,
          "Counts": 1,
          "Effect": "synonymous_variant",
          "Gene": "Accessory genes"
         },
         {
          "Allele Frequency": 0.07200000000000001,
          "Counts": 0,
          "Effect": "synonymous_variant",
          "Gene": "Accessory genes"
         },
         {
          "Allele Frequency": 0.076,
          "Counts": 0,
          "Effect": "synonymous_variant",
          "Gene": "Accessory genes"
         },
         {
          "Allele Frequency": 0.08,
          "Counts": 2,
          "Effect": "synonymous_variant",
          "Gene": "Accessory genes"
         },
         {
          "Allele Frequency": 0.084,
          "Counts": 0,
          "Effect": "synonymous_variant",
          "Gene": "Accessory genes"
         },
         {
          "Allele Frequency": 0.088,
          "Counts": 0,
          "Effect": "synonymous_variant",
          "Gene": "Accessory genes"
         },
         {
          "Allele Frequency": 0.092,
          "Counts": 1,
          "Effect": "synonymous_variant",
          "Gene": "Accessory genes"
         },
         {
          "Allele Frequency": 0.096,
          "Counts": 2,
          "Effect": "synonymous_variant",
          "Gene": "Accessory genes"
         },
         {
          "Allele Frequency": 0.1,
          "Counts": 0,
          "Effect": "synonymous_variant",
          "Gene": "Accessory genes"
         },
         {
          "Allele Frequency": 0.10400000000000001,
          "Counts": 1,
          "Effect": "synonymous_variant",
          "Gene": "Accessory genes"
         },
         {
          "Allele Frequency": 0.108,
          "Counts": 2,
          "Effect": "synonymous_variant",
          "Gene": "Accessory genes"
         },
         {
          "Allele Frequency": 0.112,
          "Counts": 2,
          "Effect": "synonymous_variant",
          "Gene": "Accessory genes"
         },
         {
          "Allele Frequency": 0.116,
          "Counts": 2,
          "Effect": "synonymous_variant",
          "Gene": "Accessory genes"
         },
         {
          "Allele Frequency": 0.12,
          "Counts": 2,
          "Effect": "synonymous_variant",
          "Gene": "Accessory genes"
         },
         {
          "Allele Frequency": 0.124,
          "Counts": 0,
          "Effect": "synonymous_variant",
          "Gene": "Accessory genes"
         },
         {
          "Allele Frequency": 0.128,
          "Counts": 0,
          "Effect": "synonymous_variant",
          "Gene": "Accessory genes"
         },
         {
          "Allele Frequency": 0.132,
          "Counts": 0,
          "Effect": "synonymous_variant",
          "Gene": "Accessory genes"
         },
         {
          "Allele Frequency": 0.136,
          "Counts": 1,
          "Effect": "synonymous_variant",
          "Gene": "Accessory genes"
         },
         {
          "Allele Frequency": 0.14,
          "Counts": 2,
          "Effect": "synonymous_variant",
          "Gene": "Accessory genes"
         },
         {
          "Allele Frequency": 0.14400000000000002,
          "Counts": 0,
          "Effect": "synonymous_variant",
          "Gene": "Accessory genes"
         },
         {
          "Allele Frequency": 0.148,
          "Counts": 1,
          "Effect": "synonymous_variant",
          "Gene": "Accessory genes"
         },
         {
          "Allele Frequency": 0.152,
          "Counts": 2,
          "Effect": "synonymous_variant",
          "Gene": "Accessory genes"
         },
         {
          "Allele Frequency": 0.156,
          "Counts": 1,
          "Effect": "synonymous_variant",
          "Gene": "Accessory genes"
         },
         {
          "Allele Frequency": 0.16,
          "Counts": 3,
          "Effect": "synonymous_variant",
          "Gene": "Accessory genes"
         },
         {
          "Allele Frequency": 0.164,
          "Counts": 1,
          "Effect": "synonymous_variant",
          "Gene": "Accessory genes"
         },
         {
          "Allele Frequency": 0.168,
          "Counts": 2,
          "Effect": "synonymous_variant",
          "Gene": "Accessory genes"
         },
         {
          "Allele Frequency": 0.17200000000000001,
          "Counts": 0,
          "Effect": "synonymous_variant",
          "Gene": "Accessory genes"
         },
         {
          "Allele Frequency": 0.176,
          "Counts": 0,
          "Effect": "synonymous_variant",
          "Gene": "Accessory genes"
         },
         {
          "Allele Frequency": 0.18,
          "Counts": 0,
          "Effect": "synonymous_variant",
          "Gene": "Accessory genes"
         },
         {
          "Allele Frequency": 0.184,
          "Counts": 2,
          "Effect": "synonymous_variant",
          "Gene": "Accessory genes"
         },
         {
          "Allele Frequency": 0.188,
          "Counts": 2,
          "Effect": "synonymous_variant",
          "Gene": "Accessory genes"
         },
         {
          "Allele Frequency": 0.192,
          "Counts": 1,
          "Effect": "synonymous_variant",
          "Gene": "Accessory genes"
         },
         {
          "Allele Frequency": 0.196,
          "Counts": 1,
          "Effect": "synonymous_variant",
          "Gene": "Accessory genes"
         },
         {
          "Allele Frequency": 0,
          "Counts": 0,
          "Effect": "stop_gained",
          "Gene": "Accessory genes"
         },
         {
          "Allele Frequency": 0.004,
          "Counts": 1,
          "Effect": "stop_gained",
          "Gene": "Accessory genes"
         },
         {
          "Allele Frequency": 0.008,
          "Counts": 0,
          "Effect": "stop_gained",
          "Gene": "Accessory genes"
         },
         {
          "Allele Frequency": 0.012,
          "Counts": 0,
          "Effect": "stop_gained",
          "Gene": "Accessory genes"
         },
         {
          "Allele Frequency": 0.016,
          "Counts": 0,
          "Effect": "stop_gained",
          "Gene": "Accessory genes"
         },
         {
          "Allele Frequency": 0.02,
          "Counts": 0,
          "Effect": "stop_gained",
          "Gene": "Accessory genes"
         },
         {
          "Allele Frequency": 0.024,
          "Counts": 0,
          "Effect": "stop_gained",
          "Gene": "Accessory genes"
         },
         {
          "Allele Frequency": 0.028,
          "Counts": 0,
          "Effect": "stop_gained",
          "Gene": "Accessory genes"
         },
         {
          "Allele Frequency": 0.032,
          "Counts": 0,
          "Effect": "stop_gained",
          "Gene": "Accessory genes"
         },
         {
          "Allele Frequency": 0.036000000000000004,
          "Counts": 0,
          "Effect": "stop_gained",
          "Gene": "Accessory genes"
         },
         {
          "Allele Frequency": 0.04,
          "Counts": 0,
          "Effect": "stop_gained",
          "Gene": "Accessory genes"
         },
         {
          "Allele Frequency": 0.044,
          "Counts": 0,
          "Effect": "stop_gained",
          "Gene": "Accessory genes"
         },
         {
          "Allele Frequency": 0.048,
          "Counts": 1,
          "Effect": "stop_gained",
          "Gene": "Accessory genes"
         },
         {
          "Allele Frequency": 0.052000000000000005,
          "Counts": 1,
          "Effect": "stop_gained",
          "Gene": "Accessory genes"
         },
         {
          "Allele Frequency": 0.056,
          "Counts": 0,
          "Effect": "stop_gained",
          "Gene": "Accessory genes"
         },
         {
          "Allele Frequency": 0.06,
          "Counts": 0,
          "Effect": "stop_gained",
          "Gene": "Accessory genes"
         },
         {
          "Allele Frequency": 0.064,
          "Counts": 0,
          "Effect": "stop_gained",
          "Gene": "Accessory genes"
         },
         {
          "Allele Frequency": 0.068,
          "Counts": 0,
          "Effect": "stop_gained",
          "Gene": "Accessory genes"
         },
         {
          "Allele Frequency": 0.07200000000000001,
          "Counts": 0,
          "Effect": "stop_gained",
          "Gene": "Accessory genes"
         },
         {
          "Allele Frequency": 0.076,
          "Counts": 0,
          "Effect": "stop_gained",
          "Gene": "Accessory genes"
         },
         {
          "Allele Frequency": 0.08,
          "Counts": 0,
          "Effect": "stop_gained",
          "Gene": "Accessory genes"
         },
         {
          "Allele Frequency": 0.084,
          "Counts": 0,
          "Effect": "stop_gained",
          "Gene": "Accessory genes"
         },
         {
          "Allele Frequency": 0.088,
          "Counts": 0,
          "Effect": "stop_gained",
          "Gene": "Accessory genes"
         },
         {
          "Allele Frequency": 0.092,
          "Counts": 0,
          "Effect": "stop_gained",
          "Gene": "Accessory genes"
         },
         {
          "Allele Frequency": 0.096,
          "Counts": 1,
          "Effect": "stop_gained",
          "Gene": "Accessory genes"
         },
         {
          "Allele Frequency": 0.1,
          "Counts": 0,
          "Effect": "stop_gained",
          "Gene": "Accessory genes"
         },
         {
          "Allele Frequency": 0.10400000000000001,
          "Counts": 0,
          "Effect": "stop_gained",
          "Gene": "Accessory genes"
         },
         {
          "Allele Frequency": 0.108,
          "Counts": 0,
          "Effect": "stop_gained",
          "Gene": "Accessory genes"
         },
         {
          "Allele Frequency": 0.112,
          "Counts": 0,
          "Effect": "stop_gained",
          "Gene": "Accessory genes"
         },
         {
          "Allele Frequency": 0.116,
          "Counts": 0,
          "Effect": "stop_gained",
          "Gene": "Accessory genes"
         },
         {
          "Allele Frequency": 0.12,
          "Counts": 0,
          "Effect": "stop_gained",
          "Gene": "Accessory genes"
         },
         {
          "Allele Frequency": 0.124,
          "Counts": 0,
          "Effect": "stop_gained",
          "Gene": "Accessory genes"
         },
         {
          "Allele Frequency": 0.128,
          "Counts": 1,
          "Effect": "stop_gained",
          "Gene": "Accessory genes"
         },
         {
          "Allele Frequency": 0.132,
          "Counts": 0,
          "Effect": "stop_gained",
          "Gene": "Accessory genes"
         },
         {
          "Allele Frequency": 0.136,
          "Counts": 0,
          "Effect": "stop_gained",
          "Gene": "Accessory genes"
         },
         {
          "Allele Frequency": 0.14,
          "Counts": 0,
          "Effect": "stop_gained",
          "Gene": "Accessory genes"
         },
         {
          "Allele Frequency": 0.14400000000000002,
          "Counts": 0,
          "Effect": "stop_gained",
          "Gene": "Accessory genes"
         },
         {
          "Allele Frequency": 0.148,
          "Counts": 0,
          "Effect": "stop_gained",
          "Gene": "Accessory genes"
         },
         {
          "Allele Frequency": 0.152,
          "Counts": 0,
          "Effect": "stop_gained",
          "Gene": "Accessory genes"
         },
         {
          "Allele Frequency": 0.156,
          "Counts": 0,
          "Effect": "stop_gained",
          "Gene": "Accessory genes"
         },
         {
          "Allele Frequency": 0.16,
          "Counts": 0,
          "Effect": "stop_gained",
          "Gene": "Accessory genes"
         },
         {
          "Allele Frequency": 0.164,
          "Counts": 0,
          "Effect": "stop_gained",
          "Gene": "Accessory genes"
         },
         {
          "Allele Frequency": 0.168,
          "Counts": 0,
          "Effect": "stop_gained",
          "Gene": "Accessory genes"
         },
         {
          "Allele Frequency": 0.17200000000000001,
          "Counts": 0,
          "Effect": "stop_gained",
          "Gene": "Accessory genes"
         },
         {
          "Allele Frequency": 0.176,
          "Counts": 0,
          "Effect": "stop_gained",
          "Gene": "Accessory genes"
         },
         {
          "Allele Frequency": 0.18,
          "Counts": 0,
          "Effect": "stop_gained",
          "Gene": "Accessory genes"
         },
         {
          "Allele Frequency": 0.184,
          "Counts": 1,
          "Effect": "stop_gained",
          "Gene": "Accessory genes"
         },
         {
          "Allele Frequency": 0.188,
          "Counts": 0,
          "Effect": "stop_gained",
          "Gene": "Accessory genes"
         },
         {
          "Allele Frequency": 0.192,
          "Counts": 1,
          "Effect": "stop_gained",
          "Gene": "Accessory genes"
         },
         {
          "Allele Frequency": 0.196,
          "Counts": 0,
          "Effect": "stop_gained",
          "Gene": "Accessory genes"
         }
        ]
       },
       "facet": {
        "column": {
         "field": "Gene",
         "title": "Gene Category",
         "type": "nominal"
        }
       },
       "resolve": {
        "scale": {
         "y": "independent"
        }
       },
       "spec": {
        "encoding": {
         "color": {
          "field": "Effect",
          "legend": {
           "title": "Effect"
          },
          "scale": {
           "domain": [
            "upstream_gene_variant",
            "missense_variant",
            "synonymous_variant",
            "stop_lost",
            "stop_gained",
            "downstream_gene_variant"
           ],
           "scheme": "category10"
          },
          "type": "nominal"
         },
         "x": {
          "bin": {
           "maxbins": 50
          },
          "field": "Allele Frequency",
          "title": "Allele Frequency (AF)",
          "type": "quantitative"
         },
         "y": {
          "field": "Counts",
          "title": "Counts",
          "type": "quantitative"
         }
        },
        "height": 200,
        "mark": {
         "type": "bar"
        },
        "width": 300
       }
      },
      "text/plain": [
       "<VegaLite 5 object>\n",
       "\n",
       "If you see this message, it means the renderer has not been properly enabled\n",
       "for the frontend that you are using. For more information, see\n",
       "https://altair-viz.github.io/user_guide/display_frontends.html#troubleshooting\n"
      ]
     },
     "metadata": {},
     "output_type": "display_data"
    }
   ],
   "source": [
    "#  make altair plot AF freq \n",
    "\n",
    "alt_data = pd.DataFrame()\n",
    "for gene, gene_data in gene_categories.items():\n",
    "    effects = gene_data['EFFECT'].unique()\n",
    "    for effect in effects:\n",
    "        effect_data = gene_data[gene_data['EFFECT'] == effect]['AF']\n",
    "        hist, edges = np.histogram(effect_data, bins=bin_edges)\n",
    "        df = pd.DataFrame({\n",
    "            'Counts': hist,\n",
    "            'Allele Frequency': edges[:-1],\n",
    "            'Gene': gene,\n",
    "            'Effect': effect\n",
    "        })\n",
    "        alt_data = pd.concat([alt_data, df], ignore_index=True)\n",
    "\n",
    "# set color scheme\n",
    "color_scheme = alt.Scale(domain=list(alt_data['Effect'].unique()), scheme='category10')\n",
    "\n",
    "# make plot\n",
    "plot = alt.Chart(alt_data).mark_bar().encode(\n",
    "    alt.X('Allele Frequency:Q', bin=alt.Bin(maxbins=n_bins), title='Allele Frequency (AF)'),\n",
    "    alt.Y('Counts:Q', title='Counts'),\n",
    "    alt.Color('Effect:N', scale=color_scheme, legend=alt.Legend(title=\"Effect\"))\n",
    ").properties(\n",
    "    width=300,\n",
    "    height=200\n",
    ").facet(\n",
    "    column=alt.Column('Gene:N', title='Gene Category')\n",
    ").resolve_scale(\n",
    "    y='independent'\n",
    ").configure_title(\n",
    "    fontSize=20,\n",
    "    font='Arial',\n",
    "    anchor='start',\n",
    "    color='black'\n",
    ").configure_axis(\n",
    "    labelFontSize=12,\n",
    "    titleFontSize=14\n",
    ").configure_legend(\n",
    "    titleFontSize=14,\n",
    "    labelFontSize=12\n",
    ")\n",
    "\n",
    "\n",
    "plot.display()\n"
   ]
  },
  {
   "cell_type": "code",
   "execution_count": null,
   "id": "473f409a-a161-4b3f-b923-8ecc81d55596",
   "metadata": {},
   "outputs": [],
   "source": []
  },
  {
   "cell_type": "code",
   "execution_count": 5,
   "id": "7ce43db1-8a28-4f5c-b073-86a21d570c1a",
   "metadata": {},
   "outputs": [
    {
     "data": {
      "application/vnd.vegalite.v5+json": {
       "$schema": "https://vega.github.io/schema/vega-lite/v5.17.0.json",
       "config": {
        "axis": {
         "labelFontSize": 12,
         "titleFontSize": 14
        },
        "legend": {
         "labelFontSize": 12,
         "titleFontSize": 14
        },
        "title": {
         "anchor": "start",
         "color": "black",
         "font": "Arial",
         "fontSize": 20
        },
        "view": {
         "continuousHeight": 300,
         "continuousWidth": 300,
         "strokeWidth": 0
        }
       },
       "data": {
        "name": "data-4eba5b6b48c98a6f1d44b7c921d17f7d"
       },
       "datasets": {
        "data-4eba5b6b48c98a6f1d44b7c921d17f7d": [
         {
          "Allele Frequency": 0,
          "Counts": 2,
          "Cumulative Counts": 2,
          "Effect": "upstream_gene_variant",
          "Gene": "orf1ab"
         },
         {
          "Allele Frequency": 0.004,
          "Counts": 2,
          "Cumulative Counts": 4,
          "Effect": "upstream_gene_variant",
          "Gene": "orf1ab"
         },
         {
          "Allele Frequency": 0.008,
          "Counts": 0,
          "Cumulative Counts": 4,
          "Effect": "upstream_gene_variant",
          "Gene": "orf1ab"
         },
         {
          "Allele Frequency": 0.012,
          "Counts": 2,
          "Cumulative Counts": 6,
          "Effect": "upstream_gene_variant",
          "Gene": "orf1ab"
         },
         {
          "Allele Frequency": 0.016,
          "Counts": 1,
          "Cumulative Counts": 7,
          "Effect": "upstream_gene_variant",
          "Gene": "orf1ab"
         },
         {
          "Allele Frequency": 0.02,
          "Counts": 1,
          "Cumulative Counts": 8,
          "Effect": "upstream_gene_variant",
          "Gene": "orf1ab"
         },
         {
          "Allele Frequency": 0.024,
          "Counts": 1,
          "Cumulative Counts": 9,
          "Effect": "upstream_gene_variant",
          "Gene": "orf1ab"
         },
         {
          "Allele Frequency": 0.028,
          "Counts": 0,
          "Cumulative Counts": 9,
          "Effect": "upstream_gene_variant",
          "Gene": "orf1ab"
         },
         {
          "Allele Frequency": 0.032,
          "Counts": 4,
          "Cumulative Counts": 13,
          "Effect": "upstream_gene_variant",
          "Gene": "orf1ab"
         },
         {
          "Allele Frequency": 0.036000000000000004,
          "Counts": 1,
          "Cumulative Counts": 14,
          "Effect": "upstream_gene_variant",
          "Gene": "orf1ab"
         },
         {
          "Allele Frequency": 0.04,
          "Counts": 0,
          "Cumulative Counts": 14,
          "Effect": "upstream_gene_variant",
          "Gene": "orf1ab"
         },
         {
          "Allele Frequency": 0.044,
          "Counts": 1,
          "Cumulative Counts": 15,
          "Effect": "upstream_gene_variant",
          "Gene": "orf1ab"
         },
         {
          "Allele Frequency": 0.048,
          "Counts": 2,
          "Cumulative Counts": 17,
          "Effect": "upstream_gene_variant",
          "Gene": "orf1ab"
         },
         {
          "Allele Frequency": 0.052000000000000005,
          "Counts": 3,
          "Cumulative Counts": 20,
          "Effect": "upstream_gene_variant",
          "Gene": "orf1ab"
         },
         {
          "Allele Frequency": 0.056,
          "Counts": 1,
          "Cumulative Counts": 21,
          "Effect": "upstream_gene_variant",
          "Gene": "orf1ab"
         },
         {
          "Allele Frequency": 0.06,
          "Counts": 1,
          "Cumulative Counts": 22,
          "Effect": "upstream_gene_variant",
          "Gene": "orf1ab"
         },
         {
          "Allele Frequency": 0.064,
          "Counts": 2,
          "Cumulative Counts": 24,
          "Effect": "upstream_gene_variant",
          "Gene": "orf1ab"
         },
         {
          "Allele Frequency": 0.068,
          "Counts": 1,
          "Cumulative Counts": 25,
          "Effect": "upstream_gene_variant",
          "Gene": "orf1ab"
         },
         {
          "Allele Frequency": 0.07200000000000001,
          "Counts": 5,
          "Cumulative Counts": 30,
          "Effect": "upstream_gene_variant",
          "Gene": "orf1ab"
         },
         {
          "Allele Frequency": 0.076,
          "Counts": 0,
          "Cumulative Counts": 30,
          "Effect": "upstream_gene_variant",
          "Gene": "orf1ab"
         },
         {
          "Allele Frequency": 0.08,
          "Counts": 1,
          "Cumulative Counts": 31,
          "Effect": "upstream_gene_variant",
          "Gene": "orf1ab"
         },
         {
          "Allele Frequency": 0.084,
          "Counts": 2,
          "Cumulative Counts": 33,
          "Effect": "upstream_gene_variant",
          "Gene": "orf1ab"
         },
         {
          "Allele Frequency": 0.088,
          "Counts": 1,
          "Cumulative Counts": 34,
          "Effect": "upstream_gene_variant",
          "Gene": "orf1ab"
         },
         {
          "Allele Frequency": 0.092,
          "Counts": 1,
          "Cumulative Counts": 35,
          "Effect": "upstream_gene_variant",
          "Gene": "orf1ab"
         },
         {
          "Allele Frequency": 0.096,
          "Counts": 1,
          "Cumulative Counts": 36,
          "Effect": "upstream_gene_variant",
          "Gene": "orf1ab"
         },
         {
          "Allele Frequency": 0.1,
          "Counts": 1,
          "Cumulative Counts": 37,
          "Effect": "upstream_gene_variant",
          "Gene": "orf1ab"
         },
         {
          "Allele Frequency": 0.10400000000000001,
          "Counts": 2,
          "Cumulative Counts": 39,
          "Effect": "upstream_gene_variant",
          "Gene": "orf1ab"
         },
         {
          "Allele Frequency": 0.108,
          "Counts": 0,
          "Cumulative Counts": 39,
          "Effect": "upstream_gene_variant",
          "Gene": "orf1ab"
         },
         {
          "Allele Frequency": 0.112,
          "Counts": 2,
          "Cumulative Counts": 41,
          "Effect": "upstream_gene_variant",
          "Gene": "orf1ab"
         },
         {
          "Allele Frequency": 0.116,
          "Counts": 0,
          "Cumulative Counts": 41,
          "Effect": "upstream_gene_variant",
          "Gene": "orf1ab"
         },
         {
          "Allele Frequency": 0.12,
          "Counts": 1,
          "Cumulative Counts": 42,
          "Effect": "upstream_gene_variant",
          "Gene": "orf1ab"
         },
         {
          "Allele Frequency": 0.124,
          "Counts": 0,
          "Cumulative Counts": 42,
          "Effect": "upstream_gene_variant",
          "Gene": "orf1ab"
         },
         {
          "Allele Frequency": 0.128,
          "Counts": 1,
          "Cumulative Counts": 43,
          "Effect": "upstream_gene_variant",
          "Gene": "orf1ab"
         },
         {
          "Allele Frequency": 0.132,
          "Counts": 0,
          "Cumulative Counts": 43,
          "Effect": "upstream_gene_variant",
          "Gene": "orf1ab"
         },
         {
          "Allele Frequency": 0.136,
          "Counts": 1,
          "Cumulative Counts": 44,
          "Effect": "upstream_gene_variant",
          "Gene": "orf1ab"
         },
         {
          "Allele Frequency": 0.14,
          "Counts": 2,
          "Cumulative Counts": 46,
          "Effect": "upstream_gene_variant",
          "Gene": "orf1ab"
         },
         {
          "Allele Frequency": 0.14400000000000002,
          "Counts": 1,
          "Cumulative Counts": 47,
          "Effect": "upstream_gene_variant",
          "Gene": "orf1ab"
         },
         {
          "Allele Frequency": 0.148,
          "Counts": 3,
          "Cumulative Counts": 50,
          "Effect": "upstream_gene_variant",
          "Gene": "orf1ab"
         },
         {
          "Allele Frequency": 0.152,
          "Counts": 4,
          "Cumulative Counts": 54,
          "Effect": "upstream_gene_variant",
          "Gene": "orf1ab"
         },
         {
          "Allele Frequency": 0.156,
          "Counts": 2,
          "Cumulative Counts": 56,
          "Effect": "upstream_gene_variant",
          "Gene": "orf1ab"
         },
         {
          "Allele Frequency": 0.16,
          "Counts": 0,
          "Cumulative Counts": 56,
          "Effect": "upstream_gene_variant",
          "Gene": "orf1ab"
         },
         {
          "Allele Frequency": 0.164,
          "Counts": 0,
          "Cumulative Counts": 56,
          "Effect": "upstream_gene_variant",
          "Gene": "orf1ab"
         },
         {
          "Allele Frequency": 0.168,
          "Counts": 1,
          "Cumulative Counts": 57,
          "Effect": "upstream_gene_variant",
          "Gene": "orf1ab"
         },
         {
          "Allele Frequency": 0.17200000000000001,
          "Counts": 1,
          "Cumulative Counts": 58,
          "Effect": "upstream_gene_variant",
          "Gene": "orf1ab"
         },
         {
          "Allele Frequency": 0.176,
          "Counts": 0,
          "Cumulative Counts": 58,
          "Effect": "upstream_gene_variant",
          "Gene": "orf1ab"
         },
         {
          "Allele Frequency": 0.18,
          "Counts": 1,
          "Cumulative Counts": 59,
          "Effect": "upstream_gene_variant",
          "Gene": "orf1ab"
         },
         {
          "Allele Frequency": 0.184,
          "Counts": 1,
          "Cumulative Counts": 60,
          "Effect": "upstream_gene_variant",
          "Gene": "orf1ab"
         },
         {
          "Allele Frequency": 0.188,
          "Counts": 0,
          "Cumulative Counts": 60,
          "Effect": "upstream_gene_variant",
          "Gene": "orf1ab"
         },
         {
          "Allele Frequency": 0.192,
          "Counts": 1,
          "Cumulative Counts": 61,
          "Effect": "upstream_gene_variant",
          "Gene": "orf1ab"
         },
         {
          "Allele Frequency": 0.196,
          "Counts": 3,
          "Cumulative Counts": 64,
          "Effect": "upstream_gene_variant",
          "Gene": "orf1ab"
         },
         {
          "Allele Frequency": 0,
          "Counts": 5,
          "Cumulative Counts": 5,
          "Effect": "missense_variant",
          "Gene": "orf1ab"
         },
         {
          "Allele Frequency": 0.004,
          "Counts": 8,
          "Cumulative Counts": 13,
          "Effect": "missense_variant",
          "Gene": "orf1ab"
         },
         {
          "Allele Frequency": 0.008,
          "Counts": 4,
          "Cumulative Counts": 17,
          "Effect": "missense_variant",
          "Gene": "orf1ab"
         },
         {
          "Allele Frequency": 0.012,
          "Counts": 6,
          "Cumulative Counts": 23,
          "Effect": "missense_variant",
          "Gene": "orf1ab"
         },
         {
          "Allele Frequency": 0.016,
          "Counts": 8,
          "Cumulative Counts": 31,
          "Effect": "missense_variant",
          "Gene": "orf1ab"
         },
         {
          "Allele Frequency": 0.02,
          "Counts": 7,
          "Cumulative Counts": 38,
          "Effect": "missense_variant",
          "Gene": "orf1ab"
         },
         {
          "Allele Frequency": 0.024,
          "Counts": 7,
          "Cumulative Counts": 45,
          "Effect": "missense_variant",
          "Gene": "orf1ab"
         },
         {
          "Allele Frequency": 0.028,
          "Counts": 6,
          "Cumulative Counts": 51,
          "Effect": "missense_variant",
          "Gene": "orf1ab"
         },
         {
          "Allele Frequency": 0.032,
          "Counts": 7,
          "Cumulative Counts": 58,
          "Effect": "missense_variant",
          "Gene": "orf1ab"
         },
         {
          "Allele Frequency": 0.036000000000000004,
          "Counts": 10,
          "Cumulative Counts": 68,
          "Effect": "missense_variant",
          "Gene": "orf1ab"
         },
         {
          "Allele Frequency": 0.04,
          "Counts": 10,
          "Cumulative Counts": 78,
          "Effect": "missense_variant",
          "Gene": "orf1ab"
         },
         {
          "Allele Frequency": 0.044,
          "Counts": 6,
          "Cumulative Counts": 84,
          "Effect": "missense_variant",
          "Gene": "orf1ab"
         },
         {
          "Allele Frequency": 0.048,
          "Counts": 9,
          "Cumulative Counts": 93,
          "Effect": "missense_variant",
          "Gene": "orf1ab"
         },
         {
          "Allele Frequency": 0.052000000000000005,
          "Counts": 8,
          "Cumulative Counts": 101,
          "Effect": "missense_variant",
          "Gene": "orf1ab"
         },
         {
          "Allele Frequency": 0.056,
          "Counts": 10,
          "Cumulative Counts": 111,
          "Effect": "missense_variant",
          "Gene": "orf1ab"
         },
         {
          "Allele Frequency": 0.06,
          "Counts": 8,
          "Cumulative Counts": 119,
          "Effect": "missense_variant",
          "Gene": "orf1ab"
         },
         {
          "Allele Frequency": 0.064,
          "Counts": 3,
          "Cumulative Counts": 122,
          "Effect": "missense_variant",
          "Gene": "orf1ab"
         },
         {
          "Allele Frequency": 0.068,
          "Counts": 10,
          "Cumulative Counts": 132,
          "Effect": "missense_variant",
          "Gene": "orf1ab"
         },
         {
          "Allele Frequency": 0.07200000000000001,
          "Counts": 5,
          "Cumulative Counts": 137,
          "Effect": "missense_variant",
          "Gene": "orf1ab"
         },
         {
          "Allele Frequency": 0.076,
          "Counts": 7,
          "Cumulative Counts": 144,
          "Effect": "missense_variant",
          "Gene": "orf1ab"
         },
         {
          "Allele Frequency": 0.08,
          "Counts": 6,
          "Cumulative Counts": 150,
          "Effect": "missense_variant",
          "Gene": "orf1ab"
         },
         {
          "Allele Frequency": 0.084,
          "Counts": 8,
          "Cumulative Counts": 158,
          "Effect": "missense_variant",
          "Gene": "orf1ab"
         },
         {
          "Allele Frequency": 0.088,
          "Counts": 6,
          "Cumulative Counts": 164,
          "Effect": "missense_variant",
          "Gene": "orf1ab"
         },
         {
          "Allele Frequency": 0.092,
          "Counts": 2,
          "Cumulative Counts": 166,
          "Effect": "missense_variant",
          "Gene": "orf1ab"
         },
         {
          "Allele Frequency": 0.096,
          "Counts": 3,
          "Cumulative Counts": 169,
          "Effect": "missense_variant",
          "Gene": "orf1ab"
         },
         {
          "Allele Frequency": 0.1,
          "Counts": 10,
          "Cumulative Counts": 179,
          "Effect": "missense_variant",
          "Gene": "orf1ab"
         },
         {
          "Allele Frequency": 0.10400000000000001,
          "Counts": 4,
          "Cumulative Counts": 183,
          "Effect": "missense_variant",
          "Gene": "orf1ab"
         },
         {
          "Allele Frequency": 0.108,
          "Counts": 9,
          "Cumulative Counts": 192,
          "Effect": "missense_variant",
          "Gene": "orf1ab"
         },
         {
          "Allele Frequency": 0.112,
          "Counts": 9,
          "Cumulative Counts": 201,
          "Effect": "missense_variant",
          "Gene": "orf1ab"
         },
         {
          "Allele Frequency": 0.116,
          "Counts": 8,
          "Cumulative Counts": 209,
          "Effect": "missense_variant",
          "Gene": "orf1ab"
         },
         {
          "Allele Frequency": 0.12,
          "Counts": 6,
          "Cumulative Counts": 215,
          "Effect": "missense_variant",
          "Gene": "orf1ab"
         },
         {
          "Allele Frequency": 0.124,
          "Counts": 6,
          "Cumulative Counts": 221,
          "Effect": "missense_variant",
          "Gene": "orf1ab"
         },
         {
          "Allele Frequency": 0.128,
          "Counts": 9,
          "Cumulative Counts": 230,
          "Effect": "missense_variant",
          "Gene": "orf1ab"
         },
         {
          "Allele Frequency": 0.132,
          "Counts": 7,
          "Cumulative Counts": 237,
          "Effect": "missense_variant",
          "Gene": "orf1ab"
         },
         {
          "Allele Frequency": 0.136,
          "Counts": 11,
          "Cumulative Counts": 248,
          "Effect": "missense_variant",
          "Gene": "orf1ab"
         },
         {
          "Allele Frequency": 0.14,
          "Counts": 5,
          "Cumulative Counts": 253,
          "Effect": "missense_variant",
          "Gene": "orf1ab"
         },
         {
          "Allele Frequency": 0.14400000000000002,
          "Counts": 6,
          "Cumulative Counts": 259,
          "Effect": "missense_variant",
          "Gene": "orf1ab"
         },
         {
          "Allele Frequency": 0.148,
          "Counts": 8,
          "Cumulative Counts": 267,
          "Effect": "missense_variant",
          "Gene": "orf1ab"
         },
         {
          "Allele Frequency": 0.152,
          "Counts": 7,
          "Cumulative Counts": 274,
          "Effect": "missense_variant",
          "Gene": "orf1ab"
         },
         {
          "Allele Frequency": 0.156,
          "Counts": 9,
          "Cumulative Counts": 283,
          "Effect": "missense_variant",
          "Gene": "orf1ab"
         },
         {
          "Allele Frequency": 0.16,
          "Counts": 6,
          "Cumulative Counts": 289,
          "Effect": "missense_variant",
          "Gene": "orf1ab"
         },
         {
          "Allele Frequency": 0.164,
          "Counts": 5,
          "Cumulative Counts": 294,
          "Effect": "missense_variant",
          "Gene": "orf1ab"
         },
         {
          "Allele Frequency": 0.168,
          "Counts": 6,
          "Cumulative Counts": 300,
          "Effect": "missense_variant",
          "Gene": "orf1ab"
         },
         {
          "Allele Frequency": 0.17200000000000001,
          "Counts": 5,
          "Cumulative Counts": 305,
          "Effect": "missense_variant",
          "Gene": "orf1ab"
         },
         {
          "Allele Frequency": 0.176,
          "Counts": 4,
          "Cumulative Counts": 309,
          "Effect": "missense_variant",
          "Gene": "orf1ab"
         },
         {
          "Allele Frequency": 0.18,
          "Counts": 7,
          "Cumulative Counts": 316,
          "Effect": "missense_variant",
          "Gene": "orf1ab"
         },
         {
          "Allele Frequency": 0.184,
          "Counts": 8,
          "Cumulative Counts": 324,
          "Effect": "missense_variant",
          "Gene": "orf1ab"
         },
         {
          "Allele Frequency": 0.188,
          "Counts": 5,
          "Cumulative Counts": 329,
          "Effect": "missense_variant",
          "Gene": "orf1ab"
         },
         {
          "Allele Frequency": 0.192,
          "Counts": 7,
          "Cumulative Counts": 336,
          "Effect": "missense_variant",
          "Gene": "orf1ab"
         },
         {
          "Allele Frequency": 0.196,
          "Counts": 6,
          "Cumulative Counts": 342,
          "Effect": "missense_variant",
          "Gene": "orf1ab"
         },
         {
          "Allele Frequency": 0,
          "Counts": 7,
          "Cumulative Counts": 7,
          "Effect": "synonymous_variant",
          "Gene": "orf1ab"
         },
         {
          "Allele Frequency": 0.004,
          "Counts": 2,
          "Cumulative Counts": 9,
          "Effect": "synonymous_variant",
          "Gene": "orf1ab"
         },
         {
          "Allele Frequency": 0.008,
          "Counts": 11,
          "Cumulative Counts": 20,
          "Effect": "synonymous_variant",
          "Gene": "orf1ab"
         },
         {
          "Allele Frequency": 0.012,
          "Counts": 9,
          "Cumulative Counts": 29,
          "Effect": "synonymous_variant",
          "Gene": "orf1ab"
         },
         {
          "Allele Frequency": 0.016,
          "Counts": 5,
          "Cumulative Counts": 34,
          "Effect": "synonymous_variant",
          "Gene": "orf1ab"
         },
         {
          "Allele Frequency": 0.02,
          "Counts": 5,
          "Cumulative Counts": 39,
          "Effect": "synonymous_variant",
          "Gene": "orf1ab"
         },
         {
          "Allele Frequency": 0.024,
          "Counts": 4,
          "Cumulative Counts": 43,
          "Effect": "synonymous_variant",
          "Gene": "orf1ab"
         },
         {
          "Allele Frequency": 0.028,
          "Counts": 8,
          "Cumulative Counts": 51,
          "Effect": "synonymous_variant",
          "Gene": "orf1ab"
         },
         {
          "Allele Frequency": 0.032,
          "Counts": 6,
          "Cumulative Counts": 57,
          "Effect": "synonymous_variant",
          "Gene": "orf1ab"
         },
         {
          "Allele Frequency": 0.036000000000000004,
          "Counts": 7,
          "Cumulative Counts": 64,
          "Effect": "synonymous_variant",
          "Gene": "orf1ab"
         },
         {
          "Allele Frequency": 0.04,
          "Counts": 3,
          "Cumulative Counts": 67,
          "Effect": "synonymous_variant",
          "Gene": "orf1ab"
         },
         {
          "Allele Frequency": 0.044,
          "Counts": 5,
          "Cumulative Counts": 72,
          "Effect": "synonymous_variant",
          "Gene": "orf1ab"
         },
         {
          "Allele Frequency": 0.048,
          "Counts": 7,
          "Cumulative Counts": 79,
          "Effect": "synonymous_variant",
          "Gene": "orf1ab"
         },
         {
          "Allele Frequency": 0.052000000000000005,
          "Counts": 4,
          "Cumulative Counts": 83,
          "Effect": "synonymous_variant",
          "Gene": "orf1ab"
         },
         {
          "Allele Frequency": 0.056,
          "Counts": 10,
          "Cumulative Counts": 93,
          "Effect": "synonymous_variant",
          "Gene": "orf1ab"
         },
         {
          "Allele Frequency": 0.06,
          "Counts": 13,
          "Cumulative Counts": 106,
          "Effect": "synonymous_variant",
          "Gene": "orf1ab"
         },
         {
          "Allele Frequency": 0.064,
          "Counts": 7,
          "Cumulative Counts": 113,
          "Effect": "synonymous_variant",
          "Gene": "orf1ab"
         },
         {
          "Allele Frequency": 0.068,
          "Counts": 6,
          "Cumulative Counts": 119,
          "Effect": "synonymous_variant",
          "Gene": "orf1ab"
         },
         {
          "Allele Frequency": 0.07200000000000001,
          "Counts": 6,
          "Cumulative Counts": 125,
          "Effect": "synonymous_variant",
          "Gene": "orf1ab"
         },
         {
          "Allele Frequency": 0.076,
          "Counts": 8,
          "Cumulative Counts": 133,
          "Effect": "synonymous_variant",
          "Gene": "orf1ab"
         },
         {
          "Allele Frequency": 0.08,
          "Counts": 7,
          "Cumulative Counts": 140,
          "Effect": "synonymous_variant",
          "Gene": "orf1ab"
         },
         {
          "Allele Frequency": 0.084,
          "Counts": 5,
          "Cumulative Counts": 145,
          "Effect": "synonymous_variant",
          "Gene": "orf1ab"
         },
         {
          "Allele Frequency": 0.088,
          "Counts": 3,
          "Cumulative Counts": 148,
          "Effect": "synonymous_variant",
          "Gene": "orf1ab"
         },
         {
          "Allele Frequency": 0.092,
          "Counts": 6,
          "Cumulative Counts": 154,
          "Effect": "synonymous_variant",
          "Gene": "orf1ab"
         },
         {
          "Allele Frequency": 0.096,
          "Counts": 7,
          "Cumulative Counts": 161,
          "Effect": "synonymous_variant",
          "Gene": "orf1ab"
         },
         {
          "Allele Frequency": 0.1,
          "Counts": 7,
          "Cumulative Counts": 168,
          "Effect": "synonymous_variant",
          "Gene": "orf1ab"
         },
         {
          "Allele Frequency": 0.10400000000000001,
          "Counts": 7,
          "Cumulative Counts": 175,
          "Effect": "synonymous_variant",
          "Gene": "orf1ab"
         },
         {
          "Allele Frequency": 0.108,
          "Counts": 11,
          "Cumulative Counts": 186,
          "Effect": "synonymous_variant",
          "Gene": "orf1ab"
         },
         {
          "Allele Frequency": 0.112,
          "Counts": 6,
          "Cumulative Counts": 192,
          "Effect": "synonymous_variant",
          "Gene": "orf1ab"
         },
         {
          "Allele Frequency": 0.116,
          "Counts": 9,
          "Cumulative Counts": 201,
          "Effect": "synonymous_variant",
          "Gene": "orf1ab"
         },
         {
          "Allele Frequency": 0.12,
          "Counts": 4,
          "Cumulative Counts": 205,
          "Effect": "synonymous_variant",
          "Gene": "orf1ab"
         },
         {
          "Allele Frequency": 0.124,
          "Counts": 8,
          "Cumulative Counts": 213,
          "Effect": "synonymous_variant",
          "Gene": "orf1ab"
         },
         {
          "Allele Frequency": 0.128,
          "Counts": 7,
          "Cumulative Counts": 220,
          "Effect": "synonymous_variant",
          "Gene": "orf1ab"
         },
         {
          "Allele Frequency": 0.132,
          "Counts": 7,
          "Cumulative Counts": 227,
          "Effect": "synonymous_variant",
          "Gene": "orf1ab"
         },
         {
          "Allele Frequency": 0.136,
          "Counts": 11,
          "Cumulative Counts": 238,
          "Effect": "synonymous_variant",
          "Gene": "orf1ab"
         },
         {
          "Allele Frequency": 0.14,
          "Counts": 4,
          "Cumulative Counts": 242,
          "Effect": "synonymous_variant",
          "Gene": "orf1ab"
         },
         {
          "Allele Frequency": 0.14400000000000002,
          "Counts": 5,
          "Cumulative Counts": 247,
          "Effect": "synonymous_variant",
          "Gene": "orf1ab"
         },
         {
          "Allele Frequency": 0.148,
          "Counts": 4,
          "Cumulative Counts": 251,
          "Effect": "synonymous_variant",
          "Gene": "orf1ab"
         },
         {
          "Allele Frequency": 0.152,
          "Counts": 1,
          "Cumulative Counts": 252,
          "Effect": "synonymous_variant",
          "Gene": "orf1ab"
         },
         {
          "Allele Frequency": 0.156,
          "Counts": 6,
          "Cumulative Counts": 258,
          "Effect": "synonymous_variant",
          "Gene": "orf1ab"
         },
         {
          "Allele Frequency": 0.16,
          "Counts": 9,
          "Cumulative Counts": 267,
          "Effect": "synonymous_variant",
          "Gene": "orf1ab"
         },
         {
          "Allele Frequency": 0.164,
          "Counts": 13,
          "Cumulative Counts": 280,
          "Effect": "synonymous_variant",
          "Gene": "orf1ab"
         },
         {
          "Allele Frequency": 0.168,
          "Counts": 7,
          "Cumulative Counts": 287,
          "Effect": "synonymous_variant",
          "Gene": "orf1ab"
         },
         {
          "Allele Frequency": 0.17200000000000001,
          "Counts": 7,
          "Cumulative Counts": 294,
          "Effect": "synonymous_variant",
          "Gene": "orf1ab"
         },
         {
          "Allele Frequency": 0.176,
          "Counts": 10,
          "Cumulative Counts": 304,
          "Effect": "synonymous_variant",
          "Gene": "orf1ab"
         },
         {
          "Allele Frequency": 0.18,
          "Counts": 4,
          "Cumulative Counts": 308,
          "Effect": "synonymous_variant",
          "Gene": "orf1ab"
         },
         {
          "Allele Frequency": 0.184,
          "Counts": 2,
          "Cumulative Counts": 310,
          "Effect": "synonymous_variant",
          "Gene": "orf1ab"
         },
         {
          "Allele Frequency": 0.188,
          "Counts": 7,
          "Cumulative Counts": 317,
          "Effect": "synonymous_variant",
          "Gene": "orf1ab"
         },
         {
          "Allele Frequency": 0.192,
          "Counts": 7,
          "Cumulative Counts": 324,
          "Effect": "synonymous_variant",
          "Gene": "orf1ab"
         },
         {
          "Allele Frequency": 0.196,
          "Counts": 6,
          "Cumulative Counts": 330,
          "Effect": "synonymous_variant",
          "Gene": "orf1ab"
         },
         {
          "Allele Frequency": 0,
          "Counts": 0,
          "Cumulative Counts": 0,
          "Effect": "stop_lost",
          "Gene": "orf1ab"
         },
         {
          "Allele Frequency": 0.004,
          "Counts": 0,
          "Cumulative Counts": 0,
          "Effect": "stop_lost",
          "Gene": "orf1ab"
         },
         {
          "Allele Frequency": 0.008,
          "Counts": 0,
          "Cumulative Counts": 0,
          "Effect": "stop_lost",
          "Gene": "orf1ab"
         },
         {
          "Allele Frequency": 0.012,
          "Counts": 0,
          "Cumulative Counts": 0,
          "Effect": "stop_lost",
          "Gene": "orf1ab"
         },
         {
          "Allele Frequency": 0.016,
          "Counts": 0,
          "Cumulative Counts": 0,
          "Effect": "stop_lost",
          "Gene": "orf1ab"
         },
         {
          "Allele Frequency": 0.02,
          "Counts": 1,
          "Cumulative Counts": 1,
          "Effect": "stop_lost",
          "Gene": "orf1ab"
         },
         {
          "Allele Frequency": 0.024,
          "Counts": 0,
          "Cumulative Counts": 1,
          "Effect": "stop_lost",
          "Gene": "orf1ab"
         },
         {
          "Allele Frequency": 0.028,
          "Counts": 0,
          "Cumulative Counts": 1,
          "Effect": "stop_lost",
          "Gene": "orf1ab"
         },
         {
          "Allele Frequency": 0.032,
          "Counts": 1,
          "Cumulative Counts": 2,
          "Effect": "stop_lost",
          "Gene": "orf1ab"
         },
         {
          "Allele Frequency": 0.036000000000000004,
          "Counts": 0,
          "Cumulative Counts": 2,
          "Effect": "stop_lost",
          "Gene": "orf1ab"
         },
         {
          "Allele Frequency": 0.04,
          "Counts": 1,
          "Cumulative Counts": 3,
          "Effect": "stop_lost",
          "Gene": "orf1ab"
         },
         {
          "Allele Frequency": 0.044,
          "Counts": 2,
          "Cumulative Counts": 5,
          "Effect": "stop_lost",
          "Gene": "orf1ab"
         },
         {
          "Allele Frequency": 0.048,
          "Counts": 0,
          "Cumulative Counts": 5,
          "Effect": "stop_lost",
          "Gene": "orf1ab"
         },
         {
          "Allele Frequency": 0.052000000000000005,
          "Counts": 0,
          "Cumulative Counts": 5,
          "Effect": "stop_lost",
          "Gene": "orf1ab"
         },
         {
          "Allele Frequency": 0.056,
          "Counts": 0,
          "Cumulative Counts": 5,
          "Effect": "stop_lost",
          "Gene": "orf1ab"
         },
         {
          "Allele Frequency": 0.06,
          "Counts": 0,
          "Cumulative Counts": 5,
          "Effect": "stop_lost",
          "Gene": "orf1ab"
         },
         {
          "Allele Frequency": 0.064,
          "Counts": 0,
          "Cumulative Counts": 5,
          "Effect": "stop_lost",
          "Gene": "orf1ab"
         },
         {
          "Allele Frequency": 0.068,
          "Counts": 0,
          "Cumulative Counts": 5,
          "Effect": "stop_lost",
          "Gene": "orf1ab"
         },
         {
          "Allele Frequency": 0.07200000000000001,
          "Counts": 0,
          "Cumulative Counts": 5,
          "Effect": "stop_lost",
          "Gene": "orf1ab"
         },
         {
          "Allele Frequency": 0.076,
          "Counts": 1,
          "Cumulative Counts": 6,
          "Effect": "stop_lost",
          "Gene": "orf1ab"
         },
         {
          "Allele Frequency": 0.08,
          "Counts": 1,
          "Cumulative Counts": 7,
          "Effect": "stop_lost",
          "Gene": "orf1ab"
         },
         {
          "Allele Frequency": 0.084,
          "Counts": 1,
          "Cumulative Counts": 8,
          "Effect": "stop_lost",
          "Gene": "orf1ab"
         },
         {
          "Allele Frequency": 0.088,
          "Counts": 0,
          "Cumulative Counts": 8,
          "Effect": "stop_lost",
          "Gene": "orf1ab"
         },
         {
          "Allele Frequency": 0.092,
          "Counts": 0,
          "Cumulative Counts": 8,
          "Effect": "stop_lost",
          "Gene": "orf1ab"
         },
         {
          "Allele Frequency": 0.096,
          "Counts": 0,
          "Cumulative Counts": 8,
          "Effect": "stop_lost",
          "Gene": "orf1ab"
         },
         {
          "Allele Frequency": 0.1,
          "Counts": 0,
          "Cumulative Counts": 8,
          "Effect": "stop_lost",
          "Gene": "orf1ab"
         },
         {
          "Allele Frequency": 0.10400000000000001,
          "Counts": 0,
          "Cumulative Counts": 8,
          "Effect": "stop_lost",
          "Gene": "orf1ab"
         },
         {
          "Allele Frequency": 0.108,
          "Counts": 0,
          "Cumulative Counts": 8,
          "Effect": "stop_lost",
          "Gene": "orf1ab"
         },
         {
          "Allele Frequency": 0.112,
          "Counts": 0,
          "Cumulative Counts": 8,
          "Effect": "stop_lost",
          "Gene": "orf1ab"
         },
         {
          "Allele Frequency": 0.116,
          "Counts": 0,
          "Cumulative Counts": 8,
          "Effect": "stop_lost",
          "Gene": "orf1ab"
         },
         {
          "Allele Frequency": 0.12,
          "Counts": 0,
          "Cumulative Counts": 8,
          "Effect": "stop_lost",
          "Gene": "orf1ab"
         },
         {
          "Allele Frequency": 0.124,
          "Counts": 0,
          "Cumulative Counts": 8,
          "Effect": "stop_lost",
          "Gene": "orf1ab"
         },
         {
          "Allele Frequency": 0.128,
          "Counts": 0,
          "Cumulative Counts": 8,
          "Effect": "stop_lost",
          "Gene": "orf1ab"
         },
         {
          "Allele Frequency": 0.132,
          "Counts": 0,
          "Cumulative Counts": 8,
          "Effect": "stop_lost",
          "Gene": "orf1ab"
         },
         {
          "Allele Frequency": 0.136,
          "Counts": 0,
          "Cumulative Counts": 8,
          "Effect": "stop_lost",
          "Gene": "orf1ab"
         },
         {
          "Allele Frequency": 0.14,
          "Counts": 0,
          "Cumulative Counts": 8,
          "Effect": "stop_lost",
          "Gene": "orf1ab"
         },
         {
          "Allele Frequency": 0.14400000000000002,
          "Counts": 0,
          "Cumulative Counts": 8,
          "Effect": "stop_lost",
          "Gene": "orf1ab"
         },
         {
          "Allele Frequency": 0.148,
          "Counts": 0,
          "Cumulative Counts": 8,
          "Effect": "stop_lost",
          "Gene": "orf1ab"
         },
         {
          "Allele Frequency": 0.152,
          "Counts": 0,
          "Cumulative Counts": 8,
          "Effect": "stop_lost",
          "Gene": "orf1ab"
         },
         {
          "Allele Frequency": 0.156,
          "Counts": 0,
          "Cumulative Counts": 8,
          "Effect": "stop_lost",
          "Gene": "orf1ab"
         },
         {
          "Allele Frequency": 0.16,
          "Counts": 0,
          "Cumulative Counts": 8,
          "Effect": "stop_lost",
          "Gene": "orf1ab"
         },
         {
          "Allele Frequency": 0.164,
          "Counts": 0,
          "Cumulative Counts": 8,
          "Effect": "stop_lost",
          "Gene": "orf1ab"
         },
         {
          "Allele Frequency": 0.168,
          "Counts": 1,
          "Cumulative Counts": 9,
          "Effect": "stop_lost",
          "Gene": "orf1ab"
         },
         {
          "Allele Frequency": 0.17200000000000001,
          "Counts": 0,
          "Cumulative Counts": 9,
          "Effect": "stop_lost",
          "Gene": "orf1ab"
         },
         {
          "Allele Frequency": 0.176,
          "Counts": 0,
          "Cumulative Counts": 9,
          "Effect": "stop_lost",
          "Gene": "orf1ab"
         },
         {
          "Allele Frequency": 0.18,
          "Counts": 0,
          "Cumulative Counts": 9,
          "Effect": "stop_lost",
          "Gene": "orf1ab"
         },
         {
          "Allele Frequency": 0.184,
          "Counts": 1,
          "Cumulative Counts": 10,
          "Effect": "stop_lost",
          "Gene": "orf1ab"
         },
         {
          "Allele Frequency": 0.188,
          "Counts": 0,
          "Cumulative Counts": 10,
          "Effect": "stop_lost",
          "Gene": "orf1ab"
         },
         {
          "Allele Frequency": 0.192,
          "Counts": 0,
          "Cumulative Counts": 10,
          "Effect": "stop_lost",
          "Gene": "orf1ab"
         },
         {
          "Allele Frequency": 0.196,
          "Counts": 0,
          "Cumulative Counts": 10,
          "Effect": "stop_lost",
          "Gene": "orf1ab"
         },
         {
          "Allele Frequency": 0,
          "Counts": 0,
          "Cumulative Counts": 0,
          "Effect": "stop_gained",
          "Gene": "orf1ab"
         },
         {
          "Allele Frequency": 0.004,
          "Counts": 0,
          "Cumulative Counts": 0,
          "Effect": "stop_gained",
          "Gene": "orf1ab"
         },
         {
          "Allele Frequency": 0.008,
          "Counts": 0,
          "Cumulative Counts": 0,
          "Effect": "stop_gained",
          "Gene": "orf1ab"
         },
         {
          "Allele Frequency": 0.012,
          "Counts": 0,
          "Cumulative Counts": 0,
          "Effect": "stop_gained",
          "Gene": "orf1ab"
         },
         {
          "Allele Frequency": 0.016,
          "Counts": 0,
          "Cumulative Counts": 0,
          "Effect": "stop_gained",
          "Gene": "orf1ab"
         },
         {
          "Allele Frequency": 0.02,
          "Counts": 0,
          "Cumulative Counts": 0,
          "Effect": "stop_gained",
          "Gene": "orf1ab"
         },
         {
          "Allele Frequency": 0.024,
          "Counts": 0,
          "Cumulative Counts": 0,
          "Effect": "stop_gained",
          "Gene": "orf1ab"
         },
         {
          "Allele Frequency": 0.028,
          "Counts": 0,
          "Cumulative Counts": 0,
          "Effect": "stop_gained",
          "Gene": "orf1ab"
         },
         {
          "Allele Frequency": 0.032,
          "Counts": 0,
          "Cumulative Counts": 0,
          "Effect": "stop_gained",
          "Gene": "orf1ab"
         },
         {
          "Allele Frequency": 0.036000000000000004,
          "Counts": 0,
          "Cumulative Counts": 0,
          "Effect": "stop_gained",
          "Gene": "orf1ab"
         },
         {
          "Allele Frequency": 0.04,
          "Counts": 0,
          "Cumulative Counts": 0,
          "Effect": "stop_gained",
          "Gene": "orf1ab"
         },
         {
          "Allele Frequency": 0.044,
          "Counts": 0,
          "Cumulative Counts": 0,
          "Effect": "stop_gained",
          "Gene": "orf1ab"
         },
         {
          "Allele Frequency": 0.048,
          "Counts": 0,
          "Cumulative Counts": 0,
          "Effect": "stop_gained",
          "Gene": "orf1ab"
         },
         {
          "Allele Frequency": 0.052000000000000005,
          "Counts": 0,
          "Cumulative Counts": 0,
          "Effect": "stop_gained",
          "Gene": "orf1ab"
         },
         {
          "Allele Frequency": 0.056,
          "Counts": 0,
          "Cumulative Counts": 0,
          "Effect": "stop_gained",
          "Gene": "orf1ab"
         },
         {
          "Allele Frequency": 0.06,
          "Counts": 0,
          "Cumulative Counts": 0,
          "Effect": "stop_gained",
          "Gene": "orf1ab"
         },
         {
          "Allele Frequency": 0.064,
          "Counts": 0,
          "Cumulative Counts": 0,
          "Effect": "stop_gained",
          "Gene": "orf1ab"
         },
         {
          "Allele Frequency": 0.068,
          "Counts": 0,
          "Cumulative Counts": 0,
          "Effect": "stop_gained",
          "Gene": "orf1ab"
         },
         {
          "Allele Frequency": 0.07200000000000001,
          "Counts": 0,
          "Cumulative Counts": 0,
          "Effect": "stop_gained",
          "Gene": "orf1ab"
         },
         {
          "Allele Frequency": 0.076,
          "Counts": 0,
          "Cumulative Counts": 0,
          "Effect": "stop_gained",
          "Gene": "orf1ab"
         },
         {
          "Allele Frequency": 0.08,
          "Counts": 0,
          "Cumulative Counts": 0,
          "Effect": "stop_gained",
          "Gene": "orf1ab"
         },
         {
          "Allele Frequency": 0.084,
          "Counts": 0,
          "Cumulative Counts": 0,
          "Effect": "stop_gained",
          "Gene": "orf1ab"
         },
         {
          "Allele Frequency": 0.088,
          "Counts": 0,
          "Cumulative Counts": 0,
          "Effect": "stop_gained",
          "Gene": "orf1ab"
         },
         {
          "Allele Frequency": 0.092,
          "Counts": 0,
          "Cumulative Counts": 0,
          "Effect": "stop_gained",
          "Gene": "orf1ab"
         },
         {
          "Allele Frequency": 0.096,
          "Counts": 0,
          "Cumulative Counts": 0,
          "Effect": "stop_gained",
          "Gene": "orf1ab"
         },
         {
          "Allele Frequency": 0.1,
          "Counts": 0,
          "Cumulative Counts": 0,
          "Effect": "stop_gained",
          "Gene": "orf1ab"
         },
         {
          "Allele Frequency": 0.10400000000000001,
          "Counts": 0,
          "Cumulative Counts": 0,
          "Effect": "stop_gained",
          "Gene": "orf1ab"
         },
         {
          "Allele Frequency": 0.108,
          "Counts": 0,
          "Cumulative Counts": 0,
          "Effect": "stop_gained",
          "Gene": "orf1ab"
         },
         {
          "Allele Frequency": 0.112,
          "Counts": 0,
          "Cumulative Counts": 0,
          "Effect": "stop_gained",
          "Gene": "orf1ab"
         },
         {
          "Allele Frequency": 0.116,
          "Counts": 0,
          "Cumulative Counts": 0,
          "Effect": "stop_gained",
          "Gene": "orf1ab"
         },
         {
          "Allele Frequency": 0.12,
          "Counts": 0,
          "Cumulative Counts": 0,
          "Effect": "stop_gained",
          "Gene": "orf1ab"
         },
         {
          "Allele Frequency": 0.124,
          "Counts": 0,
          "Cumulative Counts": 0,
          "Effect": "stop_gained",
          "Gene": "orf1ab"
         },
         {
          "Allele Frequency": 0.128,
          "Counts": 0,
          "Cumulative Counts": 0,
          "Effect": "stop_gained",
          "Gene": "orf1ab"
         },
         {
          "Allele Frequency": 0.132,
          "Counts": 0,
          "Cumulative Counts": 0,
          "Effect": "stop_gained",
          "Gene": "orf1ab"
         },
         {
          "Allele Frequency": 0.136,
          "Counts": 0,
          "Cumulative Counts": 0,
          "Effect": "stop_gained",
          "Gene": "orf1ab"
         },
         {
          "Allele Frequency": 0.14,
          "Counts": 0,
          "Cumulative Counts": 0,
          "Effect": "stop_gained",
          "Gene": "orf1ab"
         },
         {
          "Allele Frequency": 0.14400000000000002,
          "Counts": 1,
          "Cumulative Counts": 1,
          "Effect": "stop_gained",
          "Gene": "orf1ab"
         },
         {
          "Allele Frequency": 0.148,
          "Counts": 0,
          "Cumulative Counts": 1,
          "Effect": "stop_gained",
          "Gene": "orf1ab"
         },
         {
          "Allele Frequency": 0.152,
          "Counts": 0,
          "Cumulative Counts": 1,
          "Effect": "stop_gained",
          "Gene": "orf1ab"
         },
         {
          "Allele Frequency": 0.156,
          "Counts": 0,
          "Cumulative Counts": 1,
          "Effect": "stop_gained",
          "Gene": "orf1ab"
         },
         {
          "Allele Frequency": 0.16,
          "Counts": 0,
          "Cumulative Counts": 1,
          "Effect": "stop_gained",
          "Gene": "orf1ab"
         },
         {
          "Allele Frequency": 0.164,
          "Counts": 0,
          "Cumulative Counts": 1,
          "Effect": "stop_gained",
          "Gene": "orf1ab"
         },
         {
          "Allele Frequency": 0.168,
          "Counts": 0,
          "Cumulative Counts": 1,
          "Effect": "stop_gained",
          "Gene": "orf1ab"
         },
         {
          "Allele Frequency": 0.17200000000000001,
          "Counts": 0,
          "Cumulative Counts": 1,
          "Effect": "stop_gained",
          "Gene": "orf1ab"
         },
         {
          "Allele Frequency": 0.176,
          "Counts": 0,
          "Cumulative Counts": 1,
          "Effect": "stop_gained",
          "Gene": "orf1ab"
         },
         {
          "Allele Frequency": 0.18,
          "Counts": 0,
          "Cumulative Counts": 1,
          "Effect": "stop_gained",
          "Gene": "orf1ab"
         },
         {
          "Allele Frequency": 0.184,
          "Counts": 0,
          "Cumulative Counts": 1,
          "Effect": "stop_gained",
          "Gene": "orf1ab"
         },
         {
          "Allele Frequency": 0.188,
          "Counts": 1,
          "Cumulative Counts": 2,
          "Effect": "stop_gained",
          "Gene": "orf1ab"
         },
         {
          "Allele Frequency": 0.192,
          "Counts": 0,
          "Cumulative Counts": 2,
          "Effect": "stop_gained",
          "Gene": "orf1ab"
         },
         {
          "Allele Frequency": 0.196,
          "Counts": 0,
          "Cumulative Counts": 2,
          "Effect": "stop_gained",
          "Gene": "orf1ab"
         },
         {
          "Allele Frequency": 0,
          "Counts": 9,
          "Cumulative Counts": 9,
          "Effect": "missense_variant",
          "Gene": "S"
         },
         {
          "Allele Frequency": 0.004,
          "Counts": 7,
          "Cumulative Counts": 16,
          "Effect": "missense_variant",
          "Gene": "S"
         },
         {
          "Allele Frequency": 0.008,
          "Counts": 7,
          "Cumulative Counts": 23,
          "Effect": "missense_variant",
          "Gene": "S"
         },
         {
          "Allele Frequency": 0.012,
          "Counts": 8,
          "Cumulative Counts": 31,
          "Effect": "missense_variant",
          "Gene": "S"
         },
         {
          "Allele Frequency": 0.016,
          "Counts": 11,
          "Cumulative Counts": 42,
          "Effect": "missense_variant",
          "Gene": "S"
         },
         {
          "Allele Frequency": 0.02,
          "Counts": 10,
          "Cumulative Counts": 52,
          "Effect": "missense_variant",
          "Gene": "S"
         },
         {
          "Allele Frequency": 0.024,
          "Counts": 18,
          "Cumulative Counts": 70,
          "Effect": "missense_variant",
          "Gene": "S"
         },
         {
          "Allele Frequency": 0.028,
          "Counts": 14,
          "Cumulative Counts": 84,
          "Effect": "missense_variant",
          "Gene": "S"
         },
         {
          "Allele Frequency": 0.032,
          "Counts": 11,
          "Cumulative Counts": 95,
          "Effect": "missense_variant",
          "Gene": "S"
         },
         {
          "Allele Frequency": 0.036000000000000004,
          "Counts": 15,
          "Cumulative Counts": 110,
          "Effect": "missense_variant",
          "Gene": "S"
         },
         {
          "Allele Frequency": 0.04,
          "Counts": 18,
          "Cumulative Counts": 128,
          "Effect": "missense_variant",
          "Gene": "S"
         },
         {
          "Allele Frequency": 0.044,
          "Counts": 13,
          "Cumulative Counts": 141,
          "Effect": "missense_variant",
          "Gene": "S"
         },
         {
          "Allele Frequency": 0.048,
          "Counts": 12,
          "Cumulative Counts": 153,
          "Effect": "missense_variant",
          "Gene": "S"
         },
         {
          "Allele Frequency": 0.052000000000000005,
          "Counts": 11,
          "Cumulative Counts": 164,
          "Effect": "missense_variant",
          "Gene": "S"
         },
         {
          "Allele Frequency": 0.056,
          "Counts": 15,
          "Cumulative Counts": 179,
          "Effect": "missense_variant",
          "Gene": "S"
         },
         {
          "Allele Frequency": 0.06,
          "Counts": 8,
          "Cumulative Counts": 187,
          "Effect": "missense_variant",
          "Gene": "S"
         },
         {
          "Allele Frequency": 0.064,
          "Counts": 10,
          "Cumulative Counts": 197,
          "Effect": "missense_variant",
          "Gene": "S"
         },
         {
          "Allele Frequency": 0.068,
          "Counts": 7,
          "Cumulative Counts": 204,
          "Effect": "missense_variant",
          "Gene": "S"
         },
         {
          "Allele Frequency": 0.07200000000000001,
          "Counts": 9,
          "Cumulative Counts": 213,
          "Effect": "missense_variant",
          "Gene": "S"
         },
         {
          "Allele Frequency": 0.076,
          "Counts": 12,
          "Cumulative Counts": 225,
          "Effect": "missense_variant",
          "Gene": "S"
         },
         {
          "Allele Frequency": 0.08,
          "Counts": 10,
          "Cumulative Counts": 235,
          "Effect": "missense_variant",
          "Gene": "S"
         },
         {
          "Allele Frequency": 0.084,
          "Counts": 7,
          "Cumulative Counts": 242,
          "Effect": "missense_variant",
          "Gene": "S"
         },
         {
          "Allele Frequency": 0.088,
          "Counts": 11,
          "Cumulative Counts": 253,
          "Effect": "missense_variant",
          "Gene": "S"
         },
         {
          "Allele Frequency": 0.092,
          "Counts": 11,
          "Cumulative Counts": 264,
          "Effect": "missense_variant",
          "Gene": "S"
         },
         {
          "Allele Frequency": 0.096,
          "Counts": 11,
          "Cumulative Counts": 275,
          "Effect": "missense_variant",
          "Gene": "S"
         },
         {
          "Allele Frequency": 0.1,
          "Counts": 16,
          "Cumulative Counts": 291,
          "Effect": "missense_variant",
          "Gene": "S"
         },
         {
          "Allele Frequency": 0.10400000000000001,
          "Counts": 13,
          "Cumulative Counts": 304,
          "Effect": "missense_variant",
          "Gene": "S"
         },
         {
          "Allele Frequency": 0.108,
          "Counts": 10,
          "Cumulative Counts": 314,
          "Effect": "missense_variant",
          "Gene": "S"
         },
         {
          "Allele Frequency": 0.112,
          "Counts": 13,
          "Cumulative Counts": 327,
          "Effect": "missense_variant",
          "Gene": "S"
         },
         {
          "Allele Frequency": 0.116,
          "Counts": 15,
          "Cumulative Counts": 342,
          "Effect": "missense_variant",
          "Gene": "S"
         },
         {
          "Allele Frequency": 0.12,
          "Counts": 16,
          "Cumulative Counts": 358,
          "Effect": "missense_variant",
          "Gene": "S"
         },
         {
          "Allele Frequency": 0.124,
          "Counts": 15,
          "Cumulative Counts": 373,
          "Effect": "missense_variant",
          "Gene": "S"
         },
         {
          "Allele Frequency": 0.128,
          "Counts": 14,
          "Cumulative Counts": 387,
          "Effect": "missense_variant",
          "Gene": "S"
         },
         {
          "Allele Frequency": 0.132,
          "Counts": 10,
          "Cumulative Counts": 397,
          "Effect": "missense_variant",
          "Gene": "S"
         },
         {
          "Allele Frequency": 0.136,
          "Counts": 11,
          "Cumulative Counts": 408,
          "Effect": "missense_variant",
          "Gene": "S"
         },
         {
          "Allele Frequency": 0.14,
          "Counts": 18,
          "Cumulative Counts": 426,
          "Effect": "missense_variant",
          "Gene": "S"
         },
         {
          "Allele Frequency": 0.14400000000000002,
          "Counts": 5,
          "Cumulative Counts": 431,
          "Effect": "missense_variant",
          "Gene": "S"
         },
         {
          "Allele Frequency": 0.148,
          "Counts": 12,
          "Cumulative Counts": 443,
          "Effect": "missense_variant",
          "Gene": "S"
         },
         {
          "Allele Frequency": 0.152,
          "Counts": 13,
          "Cumulative Counts": 456,
          "Effect": "missense_variant",
          "Gene": "S"
         },
         {
          "Allele Frequency": 0.156,
          "Counts": 7,
          "Cumulative Counts": 463,
          "Effect": "missense_variant",
          "Gene": "S"
         },
         {
          "Allele Frequency": 0.16,
          "Counts": 9,
          "Cumulative Counts": 472,
          "Effect": "missense_variant",
          "Gene": "S"
         },
         {
          "Allele Frequency": 0.164,
          "Counts": 17,
          "Cumulative Counts": 489,
          "Effect": "missense_variant",
          "Gene": "S"
         },
         {
          "Allele Frequency": 0.168,
          "Counts": 11,
          "Cumulative Counts": 500,
          "Effect": "missense_variant",
          "Gene": "S"
         },
         {
          "Allele Frequency": 0.17200000000000001,
          "Counts": 10,
          "Cumulative Counts": 510,
          "Effect": "missense_variant",
          "Gene": "S"
         },
         {
          "Allele Frequency": 0.176,
          "Counts": 12,
          "Cumulative Counts": 522,
          "Effect": "missense_variant",
          "Gene": "S"
         },
         {
          "Allele Frequency": 0.18,
          "Counts": 11,
          "Cumulative Counts": 533,
          "Effect": "missense_variant",
          "Gene": "S"
         },
         {
          "Allele Frequency": 0.184,
          "Counts": 14,
          "Cumulative Counts": 547,
          "Effect": "missense_variant",
          "Gene": "S"
         },
         {
          "Allele Frequency": 0.188,
          "Counts": 21,
          "Cumulative Counts": 568,
          "Effect": "missense_variant",
          "Gene": "S"
         },
         {
          "Allele Frequency": 0.192,
          "Counts": 20,
          "Cumulative Counts": 588,
          "Effect": "missense_variant",
          "Gene": "S"
         },
         {
          "Allele Frequency": 0.196,
          "Counts": 9,
          "Cumulative Counts": 597,
          "Effect": "missense_variant",
          "Gene": "S"
         },
         {
          "Allele Frequency": 0,
          "Counts": 0,
          "Cumulative Counts": 0,
          "Effect": "synonymous_variant",
          "Gene": "S"
         },
         {
          "Allele Frequency": 0.004,
          "Counts": 0,
          "Cumulative Counts": 0,
          "Effect": "synonymous_variant",
          "Gene": "S"
         },
         {
          "Allele Frequency": 0.008,
          "Counts": 1,
          "Cumulative Counts": 1,
          "Effect": "synonymous_variant",
          "Gene": "S"
         },
         {
          "Allele Frequency": 0.012,
          "Counts": 2,
          "Cumulative Counts": 3,
          "Effect": "synonymous_variant",
          "Gene": "S"
         },
         {
          "Allele Frequency": 0.016,
          "Counts": 0,
          "Cumulative Counts": 3,
          "Effect": "synonymous_variant",
          "Gene": "S"
         },
         {
          "Allele Frequency": 0.02,
          "Counts": 1,
          "Cumulative Counts": 4,
          "Effect": "synonymous_variant",
          "Gene": "S"
         },
         {
          "Allele Frequency": 0.024,
          "Counts": 1,
          "Cumulative Counts": 5,
          "Effect": "synonymous_variant",
          "Gene": "S"
         },
         {
          "Allele Frequency": 0.028,
          "Counts": 0,
          "Cumulative Counts": 5,
          "Effect": "synonymous_variant",
          "Gene": "S"
         },
         {
          "Allele Frequency": 0.032,
          "Counts": 0,
          "Cumulative Counts": 5,
          "Effect": "synonymous_variant",
          "Gene": "S"
         },
         {
          "Allele Frequency": 0.036000000000000004,
          "Counts": 3,
          "Cumulative Counts": 8,
          "Effect": "synonymous_variant",
          "Gene": "S"
         },
         {
          "Allele Frequency": 0.04,
          "Counts": 0,
          "Cumulative Counts": 8,
          "Effect": "synonymous_variant",
          "Gene": "S"
         },
         {
          "Allele Frequency": 0.044,
          "Counts": 0,
          "Cumulative Counts": 8,
          "Effect": "synonymous_variant",
          "Gene": "S"
         },
         {
          "Allele Frequency": 0.048,
          "Counts": 0,
          "Cumulative Counts": 8,
          "Effect": "synonymous_variant",
          "Gene": "S"
         },
         {
          "Allele Frequency": 0.052000000000000005,
          "Counts": 1,
          "Cumulative Counts": 9,
          "Effect": "synonymous_variant",
          "Gene": "S"
         },
         {
          "Allele Frequency": 0.056,
          "Counts": 2,
          "Cumulative Counts": 11,
          "Effect": "synonymous_variant",
          "Gene": "S"
         },
         {
          "Allele Frequency": 0.06,
          "Counts": 5,
          "Cumulative Counts": 16,
          "Effect": "synonymous_variant",
          "Gene": "S"
         },
         {
          "Allele Frequency": 0.064,
          "Counts": 0,
          "Cumulative Counts": 16,
          "Effect": "synonymous_variant",
          "Gene": "S"
         },
         {
          "Allele Frequency": 0.068,
          "Counts": 0,
          "Cumulative Counts": 16,
          "Effect": "synonymous_variant",
          "Gene": "S"
         },
         {
          "Allele Frequency": 0.07200000000000001,
          "Counts": 0,
          "Cumulative Counts": 16,
          "Effect": "synonymous_variant",
          "Gene": "S"
         },
         {
          "Allele Frequency": 0.076,
          "Counts": 1,
          "Cumulative Counts": 17,
          "Effect": "synonymous_variant",
          "Gene": "S"
         },
         {
          "Allele Frequency": 0.08,
          "Counts": 1,
          "Cumulative Counts": 18,
          "Effect": "synonymous_variant",
          "Gene": "S"
         },
         {
          "Allele Frequency": 0.084,
          "Counts": 1,
          "Cumulative Counts": 19,
          "Effect": "synonymous_variant",
          "Gene": "S"
         },
         {
          "Allele Frequency": 0.088,
          "Counts": 1,
          "Cumulative Counts": 20,
          "Effect": "synonymous_variant",
          "Gene": "S"
         },
         {
          "Allele Frequency": 0.092,
          "Counts": 1,
          "Cumulative Counts": 21,
          "Effect": "synonymous_variant",
          "Gene": "S"
         },
         {
          "Allele Frequency": 0.096,
          "Counts": 1,
          "Cumulative Counts": 22,
          "Effect": "synonymous_variant",
          "Gene": "S"
         },
         {
          "Allele Frequency": 0.1,
          "Counts": 0,
          "Cumulative Counts": 22,
          "Effect": "synonymous_variant",
          "Gene": "S"
         },
         {
          "Allele Frequency": 0.10400000000000001,
          "Counts": 2,
          "Cumulative Counts": 24,
          "Effect": "synonymous_variant",
          "Gene": "S"
         },
         {
          "Allele Frequency": 0.108,
          "Counts": 1,
          "Cumulative Counts": 25,
          "Effect": "synonymous_variant",
          "Gene": "S"
         },
         {
          "Allele Frequency": 0.112,
          "Counts": 0,
          "Cumulative Counts": 25,
          "Effect": "synonymous_variant",
          "Gene": "S"
         },
         {
          "Allele Frequency": 0.116,
          "Counts": 1,
          "Cumulative Counts": 26,
          "Effect": "synonymous_variant",
          "Gene": "S"
         },
         {
          "Allele Frequency": 0.12,
          "Counts": 1,
          "Cumulative Counts": 27,
          "Effect": "synonymous_variant",
          "Gene": "S"
         },
         {
          "Allele Frequency": 0.124,
          "Counts": 0,
          "Cumulative Counts": 27,
          "Effect": "synonymous_variant",
          "Gene": "S"
         },
         {
          "Allele Frequency": 0.128,
          "Counts": 2,
          "Cumulative Counts": 29,
          "Effect": "synonymous_variant",
          "Gene": "S"
         },
         {
          "Allele Frequency": 0.132,
          "Counts": 2,
          "Cumulative Counts": 31,
          "Effect": "synonymous_variant",
          "Gene": "S"
         },
         {
          "Allele Frequency": 0.136,
          "Counts": 1,
          "Cumulative Counts": 32,
          "Effect": "synonymous_variant",
          "Gene": "S"
         },
         {
          "Allele Frequency": 0.14,
          "Counts": 0,
          "Cumulative Counts": 32,
          "Effect": "synonymous_variant",
          "Gene": "S"
         },
         {
          "Allele Frequency": 0.14400000000000002,
          "Counts": 1,
          "Cumulative Counts": 33,
          "Effect": "synonymous_variant",
          "Gene": "S"
         },
         {
          "Allele Frequency": 0.148,
          "Counts": 1,
          "Cumulative Counts": 34,
          "Effect": "synonymous_variant",
          "Gene": "S"
         },
         {
          "Allele Frequency": 0.152,
          "Counts": 0,
          "Cumulative Counts": 34,
          "Effect": "synonymous_variant",
          "Gene": "S"
         },
         {
          "Allele Frequency": 0.156,
          "Counts": 1,
          "Cumulative Counts": 35,
          "Effect": "synonymous_variant",
          "Gene": "S"
         },
         {
          "Allele Frequency": 0.16,
          "Counts": 0,
          "Cumulative Counts": 35,
          "Effect": "synonymous_variant",
          "Gene": "S"
         },
         {
          "Allele Frequency": 0.164,
          "Counts": 2,
          "Cumulative Counts": 37,
          "Effect": "synonymous_variant",
          "Gene": "S"
         },
         {
          "Allele Frequency": 0.168,
          "Counts": 1,
          "Cumulative Counts": 38,
          "Effect": "synonymous_variant",
          "Gene": "S"
         },
         {
          "Allele Frequency": 0.17200000000000001,
          "Counts": 0,
          "Cumulative Counts": 38,
          "Effect": "synonymous_variant",
          "Gene": "S"
         },
         {
          "Allele Frequency": 0.176,
          "Counts": 1,
          "Cumulative Counts": 39,
          "Effect": "synonymous_variant",
          "Gene": "S"
         },
         {
          "Allele Frequency": 0.18,
          "Counts": 0,
          "Cumulative Counts": 39,
          "Effect": "synonymous_variant",
          "Gene": "S"
         },
         {
          "Allele Frequency": 0.184,
          "Counts": 0,
          "Cumulative Counts": 39,
          "Effect": "synonymous_variant",
          "Gene": "S"
         },
         {
          "Allele Frequency": 0.188,
          "Counts": 1,
          "Cumulative Counts": 40,
          "Effect": "synonymous_variant",
          "Gene": "S"
         },
         {
          "Allele Frequency": 0.192,
          "Counts": 1,
          "Cumulative Counts": 41,
          "Effect": "synonymous_variant",
          "Gene": "S"
         },
         {
          "Allele Frequency": 0.196,
          "Counts": 0,
          "Cumulative Counts": 41,
          "Effect": "synonymous_variant",
          "Gene": "S"
         },
         {
          "Allele Frequency": 0,
          "Counts": 0,
          "Cumulative Counts": 0,
          "Effect": "downstream_gene_variant",
          "Gene": "S"
         },
         {
          "Allele Frequency": 0.004,
          "Counts": 0,
          "Cumulative Counts": 0,
          "Effect": "downstream_gene_variant",
          "Gene": "S"
         },
         {
          "Allele Frequency": 0.008,
          "Counts": 0,
          "Cumulative Counts": 0,
          "Effect": "downstream_gene_variant",
          "Gene": "S"
         },
         {
          "Allele Frequency": 0.012,
          "Counts": 1,
          "Cumulative Counts": 1,
          "Effect": "downstream_gene_variant",
          "Gene": "S"
         },
         {
          "Allele Frequency": 0.016,
          "Counts": 0,
          "Cumulative Counts": 1,
          "Effect": "downstream_gene_variant",
          "Gene": "S"
         },
         {
          "Allele Frequency": 0.02,
          "Counts": 0,
          "Cumulative Counts": 1,
          "Effect": "downstream_gene_variant",
          "Gene": "S"
         },
         {
          "Allele Frequency": 0.024,
          "Counts": 0,
          "Cumulative Counts": 1,
          "Effect": "downstream_gene_variant",
          "Gene": "S"
         },
         {
          "Allele Frequency": 0.028,
          "Counts": 0,
          "Cumulative Counts": 1,
          "Effect": "downstream_gene_variant",
          "Gene": "S"
         },
         {
          "Allele Frequency": 0.032,
          "Counts": 3,
          "Cumulative Counts": 4,
          "Effect": "downstream_gene_variant",
          "Gene": "S"
         },
         {
          "Allele Frequency": 0.036000000000000004,
          "Counts": 1,
          "Cumulative Counts": 5,
          "Effect": "downstream_gene_variant",
          "Gene": "S"
         },
         {
          "Allele Frequency": 0.04,
          "Counts": 0,
          "Cumulative Counts": 5,
          "Effect": "downstream_gene_variant",
          "Gene": "S"
         },
         {
          "Allele Frequency": 0.044,
          "Counts": 0,
          "Cumulative Counts": 5,
          "Effect": "downstream_gene_variant",
          "Gene": "S"
         },
         {
          "Allele Frequency": 0.048,
          "Counts": 1,
          "Cumulative Counts": 6,
          "Effect": "downstream_gene_variant",
          "Gene": "S"
         },
         {
          "Allele Frequency": 0.052000000000000005,
          "Counts": 0,
          "Cumulative Counts": 6,
          "Effect": "downstream_gene_variant",
          "Gene": "S"
         },
         {
          "Allele Frequency": 0.056,
          "Counts": 0,
          "Cumulative Counts": 6,
          "Effect": "downstream_gene_variant",
          "Gene": "S"
         },
         {
          "Allele Frequency": 0.06,
          "Counts": 1,
          "Cumulative Counts": 7,
          "Effect": "downstream_gene_variant",
          "Gene": "S"
         },
         {
          "Allele Frequency": 0.064,
          "Counts": 0,
          "Cumulative Counts": 7,
          "Effect": "downstream_gene_variant",
          "Gene": "S"
         },
         {
          "Allele Frequency": 0.068,
          "Counts": 0,
          "Cumulative Counts": 7,
          "Effect": "downstream_gene_variant",
          "Gene": "S"
         },
         {
          "Allele Frequency": 0.07200000000000001,
          "Counts": 0,
          "Cumulative Counts": 7,
          "Effect": "downstream_gene_variant",
          "Gene": "S"
         },
         {
          "Allele Frequency": 0.076,
          "Counts": 1,
          "Cumulative Counts": 8,
          "Effect": "downstream_gene_variant",
          "Gene": "S"
         },
         {
          "Allele Frequency": 0.08,
          "Counts": 0,
          "Cumulative Counts": 8,
          "Effect": "downstream_gene_variant",
          "Gene": "S"
         },
         {
          "Allele Frequency": 0.084,
          "Counts": 0,
          "Cumulative Counts": 8,
          "Effect": "downstream_gene_variant",
          "Gene": "S"
         },
         {
          "Allele Frequency": 0.088,
          "Counts": 0,
          "Cumulative Counts": 8,
          "Effect": "downstream_gene_variant",
          "Gene": "S"
         },
         {
          "Allele Frequency": 0.092,
          "Counts": 1,
          "Cumulative Counts": 9,
          "Effect": "downstream_gene_variant",
          "Gene": "S"
         },
         {
          "Allele Frequency": 0.096,
          "Counts": 1,
          "Cumulative Counts": 10,
          "Effect": "downstream_gene_variant",
          "Gene": "S"
         },
         {
          "Allele Frequency": 0.1,
          "Counts": 0,
          "Cumulative Counts": 10,
          "Effect": "downstream_gene_variant",
          "Gene": "S"
         },
         {
          "Allele Frequency": 0.10400000000000001,
          "Counts": 0,
          "Cumulative Counts": 10,
          "Effect": "downstream_gene_variant",
          "Gene": "S"
         },
         {
          "Allele Frequency": 0.108,
          "Counts": 0,
          "Cumulative Counts": 10,
          "Effect": "downstream_gene_variant",
          "Gene": "S"
         },
         {
          "Allele Frequency": 0.112,
          "Counts": 0,
          "Cumulative Counts": 10,
          "Effect": "downstream_gene_variant",
          "Gene": "S"
         },
         {
          "Allele Frequency": 0.116,
          "Counts": 1,
          "Cumulative Counts": 11,
          "Effect": "downstream_gene_variant",
          "Gene": "S"
         },
         {
          "Allele Frequency": 0.12,
          "Counts": 0,
          "Cumulative Counts": 11,
          "Effect": "downstream_gene_variant",
          "Gene": "S"
         },
         {
          "Allele Frequency": 0.124,
          "Counts": 0,
          "Cumulative Counts": 11,
          "Effect": "downstream_gene_variant",
          "Gene": "S"
         },
         {
          "Allele Frequency": 0.128,
          "Counts": 0,
          "Cumulative Counts": 11,
          "Effect": "downstream_gene_variant",
          "Gene": "S"
         },
         {
          "Allele Frequency": 0.132,
          "Counts": 0,
          "Cumulative Counts": 11,
          "Effect": "downstream_gene_variant",
          "Gene": "S"
         },
         {
          "Allele Frequency": 0.136,
          "Counts": 0,
          "Cumulative Counts": 11,
          "Effect": "downstream_gene_variant",
          "Gene": "S"
         },
         {
          "Allele Frequency": 0.14,
          "Counts": 1,
          "Cumulative Counts": 12,
          "Effect": "downstream_gene_variant",
          "Gene": "S"
         },
         {
          "Allele Frequency": 0.14400000000000002,
          "Counts": 0,
          "Cumulative Counts": 12,
          "Effect": "downstream_gene_variant",
          "Gene": "S"
         },
         {
          "Allele Frequency": 0.148,
          "Counts": 0,
          "Cumulative Counts": 12,
          "Effect": "downstream_gene_variant",
          "Gene": "S"
         },
         {
          "Allele Frequency": 0.152,
          "Counts": 0,
          "Cumulative Counts": 12,
          "Effect": "downstream_gene_variant",
          "Gene": "S"
         },
         {
          "Allele Frequency": 0.156,
          "Counts": 0,
          "Cumulative Counts": 12,
          "Effect": "downstream_gene_variant",
          "Gene": "S"
         },
         {
          "Allele Frequency": 0.16,
          "Counts": 0,
          "Cumulative Counts": 12,
          "Effect": "downstream_gene_variant",
          "Gene": "S"
         },
         {
          "Allele Frequency": 0.164,
          "Counts": 0,
          "Cumulative Counts": 12,
          "Effect": "downstream_gene_variant",
          "Gene": "S"
         },
         {
          "Allele Frequency": 0.168,
          "Counts": 0,
          "Cumulative Counts": 12,
          "Effect": "downstream_gene_variant",
          "Gene": "S"
         },
         {
          "Allele Frequency": 0.17200000000000001,
          "Counts": 1,
          "Cumulative Counts": 13,
          "Effect": "downstream_gene_variant",
          "Gene": "S"
         },
         {
          "Allele Frequency": 0.176,
          "Counts": 0,
          "Cumulative Counts": 13,
          "Effect": "downstream_gene_variant",
          "Gene": "S"
         },
         {
          "Allele Frequency": 0.18,
          "Counts": 0,
          "Cumulative Counts": 13,
          "Effect": "downstream_gene_variant",
          "Gene": "S"
         },
         {
          "Allele Frequency": 0.184,
          "Counts": 0,
          "Cumulative Counts": 13,
          "Effect": "downstream_gene_variant",
          "Gene": "S"
         },
         {
          "Allele Frequency": 0.188,
          "Counts": 0,
          "Cumulative Counts": 13,
          "Effect": "downstream_gene_variant",
          "Gene": "S"
         },
         {
          "Allele Frequency": 0.192,
          "Counts": 1,
          "Cumulative Counts": 14,
          "Effect": "downstream_gene_variant",
          "Gene": "S"
         },
         {
          "Allele Frequency": 0.196,
          "Counts": 0,
          "Cumulative Counts": 14,
          "Effect": "downstream_gene_variant",
          "Gene": "S"
         },
         {
          "Allele Frequency": 0,
          "Counts": 2,
          "Cumulative Counts": 2,
          "Effect": "missense_variant",
          "Gene": "E"
         },
         {
          "Allele Frequency": 0.004,
          "Counts": 0,
          "Cumulative Counts": 2,
          "Effect": "missense_variant",
          "Gene": "E"
         },
         {
          "Allele Frequency": 0.008,
          "Counts": 1,
          "Cumulative Counts": 3,
          "Effect": "missense_variant",
          "Gene": "E"
         },
         {
          "Allele Frequency": 0.012,
          "Counts": 0,
          "Cumulative Counts": 3,
          "Effect": "missense_variant",
          "Gene": "E"
         },
         {
          "Allele Frequency": 0.016,
          "Counts": 1,
          "Cumulative Counts": 4,
          "Effect": "missense_variant",
          "Gene": "E"
         },
         {
          "Allele Frequency": 0.02,
          "Counts": 0,
          "Cumulative Counts": 4,
          "Effect": "missense_variant",
          "Gene": "E"
         },
         {
          "Allele Frequency": 0.024,
          "Counts": 0,
          "Cumulative Counts": 4,
          "Effect": "missense_variant",
          "Gene": "E"
         },
         {
          "Allele Frequency": 0.028,
          "Counts": 0,
          "Cumulative Counts": 4,
          "Effect": "missense_variant",
          "Gene": "E"
         },
         {
          "Allele Frequency": 0.032,
          "Counts": 1,
          "Cumulative Counts": 5,
          "Effect": "missense_variant",
          "Gene": "E"
         },
         {
          "Allele Frequency": 0.036000000000000004,
          "Counts": 0,
          "Cumulative Counts": 5,
          "Effect": "missense_variant",
          "Gene": "E"
         },
         {
          "Allele Frequency": 0.04,
          "Counts": 0,
          "Cumulative Counts": 5,
          "Effect": "missense_variant",
          "Gene": "E"
         },
         {
          "Allele Frequency": 0.044,
          "Counts": 0,
          "Cumulative Counts": 5,
          "Effect": "missense_variant",
          "Gene": "E"
         },
         {
          "Allele Frequency": 0.048,
          "Counts": 0,
          "Cumulative Counts": 5,
          "Effect": "missense_variant",
          "Gene": "E"
         },
         {
          "Allele Frequency": 0.052000000000000005,
          "Counts": 0,
          "Cumulative Counts": 5,
          "Effect": "missense_variant",
          "Gene": "E"
         },
         {
          "Allele Frequency": 0.056,
          "Counts": 0,
          "Cumulative Counts": 5,
          "Effect": "missense_variant",
          "Gene": "E"
         },
         {
          "Allele Frequency": 0.06,
          "Counts": 0,
          "Cumulative Counts": 5,
          "Effect": "missense_variant",
          "Gene": "E"
         },
         {
          "Allele Frequency": 0.064,
          "Counts": 0,
          "Cumulative Counts": 5,
          "Effect": "missense_variant",
          "Gene": "E"
         },
         {
          "Allele Frequency": 0.068,
          "Counts": 0,
          "Cumulative Counts": 5,
          "Effect": "missense_variant",
          "Gene": "E"
         },
         {
          "Allele Frequency": 0.07200000000000001,
          "Counts": 0,
          "Cumulative Counts": 5,
          "Effect": "missense_variant",
          "Gene": "E"
         },
         {
          "Allele Frequency": 0.076,
          "Counts": 1,
          "Cumulative Counts": 6,
          "Effect": "missense_variant",
          "Gene": "E"
         },
         {
          "Allele Frequency": 0.08,
          "Counts": 1,
          "Cumulative Counts": 7,
          "Effect": "missense_variant",
          "Gene": "E"
         },
         {
          "Allele Frequency": 0.084,
          "Counts": 0,
          "Cumulative Counts": 7,
          "Effect": "missense_variant",
          "Gene": "E"
         },
         {
          "Allele Frequency": 0.088,
          "Counts": 0,
          "Cumulative Counts": 7,
          "Effect": "missense_variant",
          "Gene": "E"
         },
         {
          "Allele Frequency": 0.092,
          "Counts": 0,
          "Cumulative Counts": 7,
          "Effect": "missense_variant",
          "Gene": "E"
         },
         {
          "Allele Frequency": 0.096,
          "Counts": 0,
          "Cumulative Counts": 7,
          "Effect": "missense_variant",
          "Gene": "E"
         },
         {
          "Allele Frequency": 0.1,
          "Counts": 0,
          "Cumulative Counts": 7,
          "Effect": "missense_variant",
          "Gene": "E"
         },
         {
          "Allele Frequency": 0.10400000000000001,
          "Counts": 0,
          "Cumulative Counts": 7,
          "Effect": "missense_variant",
          "Gene": "E"
         },
         {
          "Allele Frequency": 0.108,
          "Counts": 0,
          "Cumulative Counts": 7,
          "Effect": "missense_variant",
          "Gene": "E"
         },
         {
          "Allele Frequency": 0.112,
          "Counts": 0,
          "Cumulative Counts": 7,
          "Effect": "missense_variant",
          "Gene": "E"
         },
         {
          "Allele Frequency": 0.116,
          "Counts": 1,
          "Cumulative Counts": 8,
          "Effect": "missense_variant",
          "Gene": "E"
         },
         {
          "Allele Frequency": 0.12,
          "Counts": 0,
          "Cumulative Counts": 8,
          "Effect": "missense_variant",
          "Gene": "E"
         },
         {
          "Allele Frequency": 0.124,
          "Counts": 0,
          "Cumulative Counts": 8,
          "Effect": "missense_variant",
          "Gene": "E"
         },
         {
          "Allele Frequency": 0.128,
          "Counts": 1,
          "Cumulative Counts": 9,
          "Effect": "missense_variant",
          "Gene": "E"
         },
         {
          "Allele Frequency": 0.132,
          "Counts": 0,
          "Cumulative Counts": 9,
          "Effect": "missense_variant",
          "Gene": "E"
         },
         {
          "Allele Frequency": 0.136,
          "Counts": 0,
          "Cumulative Counts": 9,
          "Effect": "missense_variant",
          "Gene": "E"
         },
         {
          "Allele Frequency": 0.14,
          "Counts": 1,
          "Cumulative Counts": 10,
          "Effect": "missense_variant",
          "Gene": "E"
         },
         {
          "Allele Frequency": 0.14400000000000002,
          "Counts": 0,
          "Cumulative Counts": 10,
          "Effect": "missense_variant",
          "Gene": "E"
         },
         {
          "Allele Frequency": 0.148,
          "Counts": 0,
          "Cumulative Counts": 10,
          "Effect": "missense_variant",
          "Gene": "E"
         },
         {
          "Allele Frequency": 0.152,
          "Counts": 1,
          "Cumulative Counts": 11,
          "Effect": "missense_variant",
          "Gene": "E"
         },
         {
          "Allele Frequency": 0.156,
          "Counts": 0,
          "Cumulative Counts": 11,
          "Effect": "missense_variant",
          "Gene": "E"
         },
         {
          "Allele Frequency": 0.16,
          "Counts": 1,
          "Cumulative Counts": 12,
          "Effect": "missense_variant",
          "Gene": "E"
         },
         {
          "Allele Frequency": 0.164,
          "Counts": 0,
          "Cumulative Counts": 12,
          "Effect": "missense_variant",
          "Gene": "E"
         },
         {
          "Allele Frequency": 0.168,
          "Counts": 0,
          "Cumulative Counts": 12,
          "Effect": "missense_variant",
          "Gene": "E"
         },
         {
          "Allele Frequency": 0.17200000000000001,
          "Counts": 0,
          "Cumulative Counts": 12,
          "Effect": "missense_variant",
          "Gene": "E"
         },
         {
          "Allele Frequency": 0.176,
          "Counts": 0,
          "Cumulative Counts": 12,
          "Effect": "missense_variant",
          "Gene": "E"
         },
         {
          "Allele Frequency": 0.18,
          "Counts": 0,
          "Cumulative Counts": 12,
          "Effect": "missense_variant",
          "Gene": "E"
         },
         {
          "Allele Frequency": 0.184,
          "Counts": 0,
          "Cumulative Counts": 12,
          "Effect": "missense_variant",
          "Gene": "E"
         },
         {
          "Allele Frequency": 0.188,
          "Counts": 0,
          "Cumulative Counts": 12,
          "Effect": "missense_variant",
          "Gene": "E"
         },
         {
          "Allele Frequency": 0.192,
          "Counts": 0,
          "Cumulative Counts": 12,
          "Effect": "missense_variant",
          "Gene": "E"
         },
         {
          "Allele Frequency": 0.196,
          "Counts": 1,
          "Cumulative Counts": 13,
          "Effect": "missense_variant",
          "Gene": "E"
         },
         {
          "Allele Frequency": 0,
          "Counts": 3,
          "Cumulative Counts": 3,
          "Effect": "missense_variant",
          "Gene": "Accessory genes"
         },
         {
          "Allele Frequency": 0.004,
          "Counts": 8,
          "Cumulative Counts": 11,
          "Effect": "missense_variant",
          "Gene": "Accessory genes"
         },
         {
          "Allele Frequency": 0.008,
          "Counts": 7,
          "Cumulative Counts": 18,
          "Effect": "missense_variant",
          "Gene": "Accessory genes"
         },
         {
          "Allele Frequency": 0.012,
          "Counts": 4,
          "Cumulative Counts": 22,
          "Effect": "missense_variant",
          "Gene": "Accessory genes"
         },
         {
          "Allele Frequency": 0.016,
          "Counts": 3,
          "Cumulative Counts": 25,
          "Effect": "missense_variant",
          "Gene": "Accessory genes"
         },
         {
          "Allele Frequency": 0.02,
          "Counts": 5,
          "Cumulative Counts": 30,
          "Effect": "missense_variant",
          "Gene": "Accessory genes"
         },
         {
          "Allele Frequency": 0.024,
          "Counts": 7,
          "Cumulative Counts": 37,
          "Effect": "missense_variant",
          "Gene": "Accessory genes"
         },
         {
          "Allele Frequency": 0.028,
          "Counts": 5,
          "Cumulative Counts": 42,
          "Effect": "missense_variant",
          "Gene": "Accessory genes"
         },
         {
          "Allele Frequency": 0.032,
          "Counts": 8,
          "Cumulative Counts": 50,
          "Effect": "missense_variant",
          "Gene": "Accessory genes"
         },
         {
          "Allele Frequency": 0.036000000000000004,
          "Counts": 3,
          "Cumulative Counts": 53,
          "Effect": "missense_variant",
          "Gene": "Accessory genes"
         },
         {
          "Allele Frequency": 0.04,
          "Counts": 9,
          "Cumulative Counts": 62,
          "Effect": "missense_variant",
          "Gene": "Accessory genes"
         },
         {
          "Allele Frequency": 0.044,
          "Counts": 8,
          "Cumulative Counts": 70,
          "Effect": "missense_variant",
          "Gene": "Accessory genes"
         },
         {
          "Allele Frequency": 0.048,
          "Counts": 4,
          "Cumulative Counts": 74,
          "Effect": "missense_variant",
          "Gene": "Accessory genes"
         },
         {
          "Allele Frequency": 0.052000000000000005,
          "Counts": 4,
          "Cumulative Counts": 78,
          "Effect": "missense_variant",
          "Gene": "Accessory genes"
         },
         {
          "Allele Frequency": 0.056,
          "Counts": 5,
          "Cumulative Counts": 83,
          "Effect": "missense_variant",
          "Gene": "Accessory genes"
         },
         {
          "Allele Frequency": 0.06,
          "Counts": 6,
          "Cumulative Counts": 89,
          "Effect": "missense_variant",
          "Gene": "Accessory genes"
         },
         {
          "Allele Frequency": 0.064,
          "Counts": 5,
          "Cumulative Counts": 94,
          "Effect": "missense_variant",
          "Gene": "Accessory genes"
         },
         {
          "Allele Frequency": 0.068,
          "Counts": 7,
          "Cumulative Counts": 101,
          "Effect": "missense_variant",
          "Gene": "Accessory genes"
         },
         {
          "Allele Frequency": 0.07200000000000001,
          "Counts": 4,
          "Cumulative Counts": 105,
          "Effect": "missense_variant",
          "Gene": "Accessory genes"
         },
         {
          "Allele Frequency": 0.076,
          "Counts": 4,
          "Cumulative Counts": 109,
          "Effect": "missense_variant",
          "Gene": "Accessory genes"
         },
         {
          "Allele Frequency": 0.08,
          "Counts": 4,
          "Cumulative Counts": 113,
          "Effect": "missense_variant",
          "Gene": "Accessory genes"
         },
         {
          "Allele Frequency": 0.084,
          "Counts": 12,
          "Cumulative Counts": 125,
          "Effect": "missense_variant",
          "Gene": "Accessory genes"
         },
         {
          "Allele Frequency": 0.088,
          "Counts": 4,
          "Cumulative Counts": 129,
          "Effect": "missense_variant",
          "Gene": "Accessory genes"
         },
         {
          "Allele Frequency": 0.092,
          "Counts": 6,
          "Cumulative Counts": 135,
          "Effect": "missense_variant",
          "Gene": "Accessory genes"
         },
         {
          "Allele Frequency": 0.096,
          "Counts": 2,
          "Cumulative Counts": 137,
          "Effect": "missense_variant",
          "Gene": "Accessory genes"
         },
         {
          "Allele Frequency": 0.1,
          "Counts": 10,
          "Cumulative Counts": 147,
          "Effect": "missense_variant",
          "Gene": "Accessory genes"
         },
         {
          "Allele Frequency": 0.10400000000000001,
          "Counts": 4,
          "Cumulative Counts": 151,
          "Effect": "missense_variant",
          "Gene": "Accessory genes"
         },
         {
          "Allele Frequency": 0.108,
          "Counts": 10,
          "Cumulative Counts": 161,
          "Effect": "missense_variant",
          "Gene": "Accessory genes"
         },
         {
          "Allele Frequency": 0.112,
          "Counts": 8,
          "Cumulative Counts": 169,
          "Effect": "missense_variant",
          "Gene": "Accessory genes"
         },
         {
          "Allele Frequency": 0.116,
          "Counts": 4,
          "Cumulative Counts": 173,
          "Effect": "missense_variant",
          "Gene": "Accessory genes"
         },
         {
          "Allele Frequency": 0.12,
          "Counts": 4,
          "Cumulative Counts": 177,
          "Effect": "missense_variant",
          "Gene": "Accessory genes"
         },
         {
          "Allele Frequency": 0.124,
          "Counts": 6,
          "Cumulative Counts": 183,
          "Effect": "missense_variant",
          "Gene": "Accessory genes"
         },
         {
          "Allele Frequency": 0.128,
          "Counts": 6,
          "Cumulative Counts": 189,
          "Effect": "missense_variant",
          "Gene": "Accessory genes"
         },
         {
          "Allele Frequency": 0.132,
          "Counts": 5,
          "Cumulative Counts": 194,
          "Effect": "missense_variant",
          "Gene": "Accessory genes"
         },
         {
          "Allele Frequency": 0.136,
          "Counts": 2,
          "Cumulative Counts": 196,
          "Effect": "missense_variant",
          "Gene": "Accessory genes"
         },
         {
          "Allele Frequency": 0.14,
          "Counts": 5,
          "Cumulative Counts": 201,
          "Effect": "missense_variant",
          "Gene": "Accessory genes"
         },
         {
          "Allele Frequency": 0.14400000000000002,
          "Counts": 5,
          "Cumulative Counts": 206,
          "Effect": "missense_variant",
          "Gene": "Accessory genes"
         },
         {
          "Allele Frequency": 0.148,
          "Counts": 7,
          "Cumulative Counts": 213,
          "Effect": "missense_variant",
          "Gene": "Accessory genes"
         },
         {
          "Allele Frequency": 0.152,
          "Counts": 5,
          "Cumulative Counts": 218,
          "Effect": "missense_variant",
          "Gene": "Accessory genes"
         },
         {
          "Allele Frequency": 0.156,
          "Counts": 7,
          "Cumulative Counts": 225,
          "Effect": "missense_variant",
          "Gene": "Accessory genes"
         },
         {
          "Allele Frequency": 0.16,
          "Counts": 4,
          "Cumulative Counts": 229,
          "Effect": "missense_variant",
          "Gene": "Accessory genes"
         },
         {
          "Allele Frequency": 0.164,
          "Counts": 5,
          "Cumulative Counts": 234,
          "Effect": "missense_variant",
          "Gene": "Accessory genes"
         },
         {
          "Allele Frequency": 0.168,
          "Counts": 5,
          "Cumulative Counts": 239,
          "Effect": "missense_variant",
          "Gene": "Accessory genes"
         },
         {
          "Allele Frequency": 0.17200000000000001,
          "Counts": 9,
          "Cumulative Counts": 248,
          "Effect": "missense_variant",
          "Gene": "Accessory genes"
         },
         {
          "Allele Frequency": 0.176,
          "Counts": 7,
          "Cumulative Counts": 255,
          "Effect": "missense_variant",
          "Gene": "Accessory genes"
         },
         {
          "Allele Frequency": 0.18,
          "Counts": 6,
          "Cumulative Counts": 261,
          "Effect": "missense_variant",
          "Gene": "Accessory genes"
         },
         {
          "Allele Frequency": 0.184,
          "Counts": 10,
          "Cumulative Counts": 271,
          "Effect": "missense_variant",
          "Gene": "Accessory genes"
         },
         {
          "Allele Frequency": 0.188,
          "Counts": 2,
          "Cumulative Counts": 273,
          "Effect": "missense_variant",
          "Gene": "Accessory genes"
         },
         {
          "Allele Frequency": 0.192,
          "Counts": 6,
          "Cumulative Counts": 279,
          "Effect": "missense_variant",
          "Gene": "Accessory genes"
         },
         {
          "Allele Frequency": 0.196,
          "Counts": 6,
          "Cumulative Counts": 285,
          "Effect": "missense_variant",
          "Gene": "Accessory genes"
         },
         {
          "Allele Frequency": 0,
          "Counts": 0,
          "Cumulative Counts": 0,
          "Effect": "upstream_gene_variant",
          "Gene": "Accessory genes"
         },
         {
          "Allele Frequency": 0.004,
          "Counts": 0,
          "Cumulative Counts": 0,
          "Effect": "upstream_gene_variant",
          "Gene": "Accessory genes"
         },
         {
          "Allele Frequency": 0.008,
          "Counts": 0,
          "Cumulative Counts": 0,
          "Effect": "upstream_gene_variant",
          "Gene": "Accessory genes"
         },
         {
          "Allele Frequency": 0.012,
          "Counts": 3,
          "Cumulative Counts": 3,
          "Effect": "upstream_gene_variant",
          "Gene": "Accessory genes"
         },
         {
          "Allele Frequency": 0.016,
          "Counts": 2,
          "Cumulative Counts": 5,
          "Effect": "upstream_gene_variant",
          "Gene": "Accessory genes"
         },
         {
          "Allele Frequency": 0.02,
          "Counts": 1,
          "Cumulative Counts": 6,
          "Effect": "upstream_gene_variant",
          "Gene": "Accessory genes"
         },
         {
          "Allele Frequency": 0.024,
          "Counts": 0,
          "Cumulative Counts": 6,
          "Effect": "upstream_gene_variant",
          "Gene": "Accessory genes"
         },
         {
          "Allele Frequency": 0.028,
          "Counts": 0,
          "Cumulative Counts": 6,
          "Effect": "upstream_gene_variant",
          "Gene": "Accessory genes"
         },
         {
          "Allele Frequency": 0.032,
          "Counts": 1,
          "Cumulative Counts": 7,
          "Effect": "upstream_gene_variant",
          "Gene": "Accessory genes"
         },
         {
          "Allele Frequency": 0.036000000000000004,
          "Counts": 1,
          "Cumulative Counts": 8,
          "Effect": "upstream_gene_variant",
          "Gene": "Accessory genes"
         },
         {
          "Allele Frequency": 0.04,
          "Counts": 1,
          "Cumulative Counts": 9,
          "Effect": "upstream_gene_variant",
          "Gene": "Accessory genes"
         },
         {
          "Allele Frequency": 0.044,
          "Counts": 0,
          "Cumulative Counts": 9,
          "Effect": "upstream_gene_variant",
          "Gene": "Accessory genes"
         },
         {
          "Allele Frequency": 0.048,
          "Counts": 2,
          "Cumulative Counts": 11,
          "Effect": "upstream_gene_variant",
          "Gene": "Accessory genes"
         },
         {
          "Allele Frequency": 0.052000000000000005,
          "Counts": 1,
          "Cumulative Counts": 12,
          "Effect": "upstream_gene_variant",
          "Gene": "Accessory genes"
         },
         {
          "Allele Frequency": 0.056,
          "Counts": 0,
          "Cumulative Counts": 12,
          "Effect": "upstream_gene_variant",
          "Gene": "Accessory genes"
         },
         {
          "Allele Frequency": 0.06,
          "Counts": 1,
          "Cumulative Counts": 13,
          "Effect": "upstream_gene_variant",
          "Gene": "Accessory genes"
         },
         {
          "Allele Frequency": 0.064,
          "Counts": 1,
          "Cumulative Counts": 14,
          "Effect": "upstream_gene_variant",
          "Gene": "Accessory genes"
         },
         {
          "Allele Frequency": 0.068,
          "Counts": 0,
          "Cumulative Counts": 14,
          "Effect": "upstream_gene_variant",
          "Gene": "Accessory genes"
         },
         {
          "Allele Frequency": 0.07200000000000001,
          "Counts": 1,
          "Cumulative Counts": 15,
          "Effect": "upstream_gene_variant",
          "Gene": "Accessory genes"
         },
         {
          "Allele Frequency": 0.076,
          "Counts": 2,
          "Cumulative Counts": 17,
          "Effect": "upstream_gene_variant",
          "Gene": "Accessory genes"
         },
         {
          "Allele Frequency": 0.08,
          "Counts": 2,
          "Cumulative Counts": 19,
          "Effect": "upstream_gene_variant",
          "Gene": "Accessory genes"
         },
         {
          "Allele Frequency": 0.084,
          "Counts": 2,
          "Cumulative Counts": 21,
          "Effect": "upstream_gene_variant",
          "Gene": "Accessory genes"
         },
         {
          "Allele Frequency": 0.088,
          "Counts": 0,
          "Cumulative Counts": 21,
          "Effect": "upstream_gene_variant",
          "Gene": "Accessory genes"
         },
         {
          "Allele Frequency": 0.092,
          "Counts": 0,
          "Cumulative Counts": 21,
          "Effect": "upstream_gene_variant",
          "Gene": "Accessory genes"
         },
         {
          "Allele Frequency": 0.096,
          "Counts": 2,
          "Cumulative Counts": 23,
          "Effect": "upstream_gene_variant",
          "Gene": "Accessory genes"
         },
         {
          "Allele Frequency": 0.1,
          "Counts": 0,
          "Cumulative Counts": 23,
          "Effect": "upstream_gene_variant",
          "Gene": "Accessory genes"
         },
         {
          "Allele Frequency": 0.10400000000000001,
          "Counts": 0,
          "Cumulative Counts": 23,
          "Effect": "upstream_gene_variant",
          "Gene": "Accessory genes"
         },
         {
          "Allele Frequency": 0.108,
          "Counts": 1,
          "Cumulative Counts": 24,
          "Effect": "upstream_gene_variant",
          "Gene": "Accessory genes"
         },
         {
          "Allele Frequency": 0.112,
          "Counts": 1,
          "Cumulative Counts": 25,
          "Effect": "upstream_gene_variant",
          "Gene": "Accessory genes"
         },
         {
          "Allele Frequency": 0.116,
          "Counts": 1,
          "Cumulative Counts": 26,
          "Effect": "upstream_gene_variant",
          "Gene": "Accessory genes"
         },
         {
          "Allele Frequency": 0.12,
          "Counts": 0,
          "Cumulative Counts": 26,
          "Effect": "upstream_gene_variant",
          "Gene": "Accessory genes"
         },
         {
          "Allele Frequency": 0.124,
          "Counts": 1,
          "Cumulative Counts": 27,
          "Effect": "upstream_gene_variant",
          "Gene": "Accessory genes"
         },
         {
          "Allele Frequency": 0.128,
          "Counts": 2,
          "Cumulative Counts": 29,
          "Effect": "upstream_gene_variant",
          "Gene": "Accessory genes"
         },
         {
          "Allele Frequency": 0.132,
          "Counts": 0,
          "Cumulative Counts": 29,
          "Effect": "upstream_gene_variant",
          "Gene": "Accessory genes"
         },
         {
          "Allele Frequency": 0.136,
          "Counts": 1,
          "Cumulative Counts": 30,
          "Effect": "upstream_gene_variant",
          "Gene": "Accessory genes"
         },
         {
          "Allele Frequency": 0.14,
          "Counts": 0,
          "Cumulative Counts": 30,
          "Effect": "upstream_gene_variant",
          "Gene": "Accessory genes"
         },
         {
          "Allele Frequency": 0.14400000000000002,
          "Counts": 2,
          "Cumulative Counts": 32,
          "Effect": "upstream_gene_variant",
          "Gene": "Accessory genes"
         },
         {
          "Allele Frequency": 0.148,
          "Counts": 2,
          "Cumulative Counts": 34,
          "Effect": "upstream_gene_variant",
          "Gene": "Accessory genes"
         },
         {
          "Allele Frequency": 0.152,
          "Counts": 3,
          "Cumulative Counts": 37,
          "Effect": "upstream_gene_variant",
          "Gene": "Accessory genes"
         },
         {
          "Allele Frequency": 0.156,
          "Counts": 1,
          "Cumulative Counts": 38,
          "Effect": "upstream_gene_variant",
          "Gene": "Accessory genes"
         },
         {
          "Allele Frequency": 0.16,
          "Counts": 1,
          "Cumulative Counts": 39,
          "Effect": "upstream_gene_variant",
          "Gene": "Accessory genes"
         },
         {
          "Allele Frequency": 0.164,
          "Counts": 2,
          "Cumulative Counts": 41,
          "Effect": "upstream_gene_variant",
          "Gene": "Accessory genes"
         },
         {
          "Allele Frequency": 0.168,
          "Counts": 1,
          "Cumulative Counts": 42,
          "Effect": "upstream_gene_variant",
          "Gene": "Accessory genes"
         },
         {
          "Allele Frequency": 0.17200000000000001,
          "Counts": 0,
          "Cumulative Counts": 42,
          "Effect": "upstream_gene_variant",
          "Gene": "Accessory genes"
         },
         {
          "Allele Frequency": 0.176,
          "Counts": 0,
          "Cumulative Counts": 42,
          "Effect": "upstream_gene_variant",
          "Gene": "Accessory genes"
         },
         {
          "Allele Frequency": 0.18,
          "Counts": 0,
          "Cumulative Counts": 42,
          "Effect": "upstream_gene_variant",
          "Gene": "Accessory genes"
         },
         {
          "Allele Frequency": 0.184,
          "Counts": 0,
          "Cumulative Counts": 42,
          "Effect": "upstream_gene_variant",
          "Gene": "Accessory genes"
         },
         {
          "Allele Frequency": 0.188,
          "Counts": 1,
          "Cumulative Counts": 43,
          "Effect": "upstream_gene_variant",
          "Gene": "Accessory genes"
         },
         {
          "Allele Frequency": 0.192,
          "Counts": 3,
          "Cumulative Counts": 46,
          "Effect": "upstream_gene_variant",
          "Gene": "Accessory genes"
         },
         {
          "Allele Frequency": 0.196,
          "Counts": 1,
          "Cumulative Counts": 47,
          "Effect": "upstream_gene_variant",
          "Gene": "Accessory genes"
         },
         {
          "Allele Frequency": 0,
          "Counts": 2,
          "Cumulative Counts": 2,
          "Effect": "synonymous_variant",
          "Gene": "Accessory genes"
         },
         {
          "Allele Frequency": 0.004,
          "Counts": 2,
          "Cumulative Counts": 4,
          "Effect": "synonymous_variant",
          "Gene": "Accessory genes"
         },
         {
          "Allele Frequency": 0.008,
          "Counts": 1,
          "Cumulative Counts": 5,
          "Effect": "synonymous_variant",
          "Gene": "Accessory genes"
         },
         {
          "Allele Frequency": 0.012,
          "Counts": 3,
          "Cumulative Counts": 8,
          "Effect": "synonymous_variant",
          "Gene": "Accessory genes"
         },
         {
          "Allele Frequency": 0.016,
          "Counts": 2,
          "Cumulative Counts": 10,
          "Effect": "synonymous_variant",
          "Gene": "Accessory genes"
         },
         {
          "Allele Frequency": 0.02,
          "Counts": 1,
          "Cumulative Counts": 11,
          "Effect": "synonymous_variant",
          "Gene": "Accessory genes"
         },
         {
          "Allele Frequency": 0.024,
          "Counts": 1,
          "Cumulative Counts": 12,
          "Effect": "synonymous_variant",
          "Gene": "Accessory genes"
         },
         {
          "Allele Frequency": 0.028,
          "Counts": 1,
          "Cumulative Counts": 13,
          "Effect": "synonymous_variant",
          "Gene": "Accessory genes"
         },
         {
          "Allele Frequency": 0.032,
          "Counts": 0,
          "Cumulative Counts": 13,
          "Effect": "synonymous_variant",
          "Gene": "Accessory genes"
         },
         {
          "Allele Frequency": 0.036000000000000004,
          "Counts": 1,
          "Cumulative Counts": 14,
          "Effect": "synonymous_variant",
          "Gene": "Accessory genes"
         },
         {
          "Allele Frequency": 0.04,
          "Counts": 2,
          "Cumulative Counts": 16,
          "Effect": "synonymous_variant",
          "Gene": "Accessory genes"
         },
         {
          "Allele Frequency": 0.044,
          "Counts": 1,
          "Cumulative Counts": 17,
          "Effect": "synonymous_variant",
          "Gene": "Accessory genes"
         },
         {
          "Allele Frequency": 0.048,
          "Counts": 1,
          "Cumulative Counts": 18,
          "Effect": "synonymous_variant",
          "Gene": "Accessory genes"
         },
         {
          "Allele Frequency": 0.052000000000000005,
          "Counts": 1,
          "Cumulative Counts": 19,
          "Effect": "synonymous_variant",
          "Gene": "Accessory genes"
         },
         {
          "Allele Frequency": 0.056,
          "Counts": 2,
          "Cumulative Counts": 21,
          "Effect": "synonymous_variant",
          "Gene": "Accessory genes"
         },
         {
          "Allele Frequency": 0.06,
          "Counts": 1,
          "Cumulative Counts": 22,
          "Effect": "synonymous_variant",
          "Gene": "Accessory genes"
         },
         {
          "Allele Frequency": 0.064,
          "Counts": 0,
          "Cumulative Counts": 22,
          "Effect": "synonymous_variant",
          "Gene": "Accessory genes"
         },
         {
          "Allele Frequency": 0.068,
          "Counts": 1,
          "Cumulative Counts": 23,
          "Effect": "synonymous_variant",
          "Gene": "Accessory genes"
         },
         {
          "Allele Frequency": 0.07200000000000001,
          "Counts": 0,
          "Cumulative Counts": 23,
          "Effect": "synonymous_variant",
          "Gene": "Accessory genes"
         },
         {
          "Allele Frequency": 0.076,
          "Counts": 0,
          "Cumulative Counts": 23,
          "Effect": "synonymous_variant",
          "Gene": "Accessory genes"
         },
         {
          "Allele Frequency": 0.08,
          "Counts": 2,
          "Cumulative Counts": 25,
          "Effect": "synonymous_variant",
          "Gene": "Accessory genes"
         },
         {
          "Allele Frequency": 0.084,
          "Counts": 0,
          "Cumulative Counts": 25,
          "Effect": "synonymous_variant",
          "Gene": "Accessory genes"
         },
         {
          "Allele Frequency": 0.088,
          "Counts": 0,
          "Cumulative Counts": 25,
          "Effect": "synonymous_variant",
          "Gene": "Accessory genes"
         },
         {
          "Allele Frequency": 0.092,
          "Counts": 1,
          "Cumulative Counts": 26,
          "Effect": "synonymous_variant",
          "Gene": "Accessory genes"
         },
         {
          "Allele Frequency": 0.096,
          "Counts": 2,
          "Cumulative Counts": 28,
          "Effect": "synonymous_variant",
          "Gene": "Accessory genes"
         },
         {
          "Allele Frequency": 0.1,
          "Counts": 0,
          "Cumulative Counts": 28,
          "Effect": "synonymous_variant",
          "Gene": "Accessory genes"
         },
         {
          "Allele Frequency": 0.10400000000000001,
          "Counts": 1,
          "Cumulative Counts": 29,
          "Effect": "synonymous_variant",
          "Gene": "Accessory genes"
         },
         {
          "Allele Frequency": 0.108,
          "Counts": 2,
          "Cumulative Counts": 31,
          "Effect": "synonymous_variant",
          "Gene": "Accessory genes"
         },
         {
          "Allele Frequency": 0.112,
          "Counts": 2,
          "Cumulative Counts": 33,
          "Effect": "synonymous_variant",
          "Gene": "Accessory genes"
         },
         {
          "Allele Frequency": 0.116,
          "Counts": 2,
          "Cumulative Counts": 35,
          "Effect": "synonymous_variant",
          "Gene": "Accessory genes"
         },
         {
          "Allele Frequency": 0.12,
          "Counts": 2,
          "Cumulative Counts": 37,
          "Effect": "synonymous_variant",
          "Gene": "Accessory genes"
         },
         {
          "Allele Frequency": 0.124,
          "Counts": 0,
          "Cumulative Counts": 37,
          "Effect": "synonymous_variant",
          "Gene": "Accessory genes"
         },
         {
          "Allele Frequency": 0.128,
          "Counts": 0,
          "Cumulative Counts": 37,
          "Effect": "synonymous_variant",
          "Gene": "Accessory genes"
         },
         {
          "Allele Frequency": 0.132,
          "Counts": 0,
          "Cumulative Counts": 37,
          "Effect": "synonymous_variant",
          "Gene": "Accessory genes"
         },
         {
          "Allele Frequency": 0.136,
          "Counts": 1,
          "Cumulative Counts": 38,
          "Effect": "synonymous_variant",
          "Gene": "Accessory genes"
         },
         {
          "Allele Frequency": 0.14,
          "Counts": 2,
          "Cumulative Counts": 40,
          "Effect": "synonymous_variant",
          "Gene": "Accessory genes"
         },
         {
          "Allele Frequency": 0.14400000000000002,
          "Counts": 0,
          "Cumulative Counts": 40,
          "Effect": "synonymous_variant",
          "Gene": "Accessory genes"
         },
         {
          "Allele Frequency": 0.148,
          "Counts": 1,
          "Cumulative Counts": 41,
          "Effect": "synonymous_variant",
          "Gene": "Accessory genes"
         },
         {
          "Allele Frequency": 0.152,
          "Counts": 2,
          "Cumulative Counts": 43,
          "Effect": "synonymous_variant",
          "Gene": "Accessory genes"
         },
         {
          "Allele Frequency": 0.156,
          "Counts": 1,
          "Cumulative Counts": 44,
          "Effect": "synonymous_variant",
          "Gene": "Accessory genes"
         },
         {
          "Allele Frequency": 0.16,
          "Counts": 3,
          "Cumulative Counts": 47,
          "Effect": "synonymous_variant",
          "Gene": "Accessory genes"
         },
         {
          "Allele Frequency": 0.164,
          "Counts": 1,
          "Cumulative Counts": 48,
          "Effect": "synonymous_variant",
          "Gene": "Accessory genes"
         },
         {
          "Allele Frequency": 0.168,
          "Counts": 2,
          "Cumulative Counts": 50,
          "Effect": "synonymous_variant",
          "Gene": "Accessory genes"
         },
         {
          "Allele Frequency": 0.17200000000000001,
          "Counts": 0,
          "Cumulative Counts": 50,
          "Effect": "synonymous_variant",
          "Gene": "Accessory genes"
         },
         {
          "Allele Frequency": 0.176,
          "Counts": 0,
          "Cumulative Counts": 50,
          "Effect": "synonymous_variant",
          "Gene": "Accessory genes"
         },
         {
          "Allele Frequency": 0.18,
          "Counts": 0,
          "Cumulative Counts": 50,
          "Effect": "synonymous_variant",
          "Gene": "Accessory genes"
         },
         {
          "Allele Frequency": 0.184,
          "Counts": 2,
          "Cumulative Counts": 52,
          "Effect": "synonymous_variant",
          "Gene": "Accessory genes"
         },
         {
          "Allele Frequency": 0.188,
          "Counts": 2,
          "Cumulative Counts": 54,
          "Effect": "synonymous_variant",
          "Gene": "Accessory genes"
         },
         {
          "Allele Frequency": 0.192,
          "Counts": 1,
          "Cumulative Counts": 55,
          "Effect": "synonymous_variant",
          "Gene": "Accessory genes"
         },
         {
          "Allele Frequency": 0.196,
          "Counts": 1,
          "Cumulative Counts": 56,
          "Effect": "synonymous_variant",
          "Gene": "Accessory genes"
         },
         {
          "Allele Frequency": 0,
          "Counts": 0,
          "Cumulative Counts": 0,
          "Effect": "stop_gained",
          "Gene": "Accessory genes"
         },
         {
          "Allele Frequency": 0.004,
          "Counts": 1,
          "Cumulative Counts": 1,
          "Effect": "stop_gained",
          "Gene": "Accessory genes"
         },
         {
          "Allele Frequency": 0.008,
          "Counts": 0,
          "Cumulative Counts": 1,
          "Effect": "stop_gained",
          "Gene": "Accessory genes"
         },
         {
          "Allele Frequency": 0.012,
          "Counts": 0,
          "Cumulative Counts": 1,
          "Effect": "stop_gained",
          "Gene": "Accessory genes"
         },
         {
          "Allele Frequency": 0.016,
          "Counts": 0,
          "Cumulative Counts": 1,
          "Effect": "stop_gained",
          "Gene": "Accessory genes"
         },
         {
          "Allele Frequency": 0.02,
          "Counts": 0,
          "Cumulative Counts": 1,
          "Effect": "stop_gained",
          "Gene": "Accessory genes"
         },
         {
          "Allele Frequency": 0.024,
          "Counts": 0,
          "Cumulative Counts": 1,
          "Effect": "stop_gained",
          "Gene": "Accessory genes"
         },
         {
          "Allele Frequency": 0.028,
          "Counts": 0,
          "Cumulative Counts": 1,
          "Effect": "stop_gained",
          "Gene": "Accessory genes"
         },
         {
          "Allele Frequency": 0.032,
          "Counts": 0,
          "Cumulative Counts": 1,
          "Effect": "stop_gained",
          "Gene": "Accessory genes"
         },
         {
          "Allele Frequency": 0.036000000000000004,
          "Counts": 0,
          "Cumulative Counts": 1,
          "Effect": "stop_gained",
          "Gene": "Accessory genes"
         },
         {
          "Allele Frequency": 0.04,
          "Counts": 0,
          "Cumulative Counts": 1,
          "Effect": "stop_gained",
          "Gene": "Accessory genes"
         },
         {
          "Allele Frequency": 0.044,
          "Counts": 0,
          "Cumulative Counts": 1,
          "Effect": "stop_gained",
          "Gene": "Accessory genes"
         },
         {
          "Allele Frequency": 0.048,
          "Counts": 1,
          "Cumulative Counts": 2,
          "Effect": "stop_gained",
          "Gene": "Accessory genes"
         },
         {
          "Allele Frequency": 0.052000000000000005,
          "Counts": 1,
          "Cumulative Counts": 3,
          "Effect": "stop_gained",
          "Gene": "Accessory genes"
         },
         {
          "Allele Frequency": 0.056,
          "Counts": 0,
          "Cumulative Counts": 3,
          "Effect": "stop_gained",
          "Gene": "Accessory genes"
         },
         {
          "Allele Frequency": 0.06,
          "Counts": 0,
          "Cumulative Counts": 3,
          "Effect": "stop_gained",
          "Gene": "Accessory genes"
         },
         {
          "Allele Frequency": 0.064,
          "Counts": 0,
          "Cumulative Counts": 3,
          "Effect": "stop_gained",
          "Gene": "Accessory genes"
         },
         {
          "Allele Frequency": 0.068,
          "Counts": 0,
          "Cumulative Counts": 3,
          "Effect": "stop_gained",
          "Gene": "Accessory genes"
         },
         {
          "Allele Frequency": 0.07200000000000001,
          "Counts": 0,
          "Cumulative Counts": 3,
          "Effect": "stop_gained",
          "Gene": "Accessory genes"
         },
         {
          "Allele Frequency": 0.076,
          "Counts": 0,
          "Cumulative Counts": 3,
          "Effect": "stop_gained",
          "Gene": "Accessory genes"
         },
         {
          "Allele Frequency": 0.08,
          "Counts": 0,
          "Cumulative Counts": 3,
          "Effect": "stop_gained",
          "Gene": "Accessory genes"
         },
         {
          "Allele Frequency": 0.084,
          "Counts": 0,
          "Cumulative Counts": 3,
          "Effect": "stop_gained",
          "Gene": "Accessory genes"
         },
         {
          "Allele Frequency": 0.088,
          "Counts": 0,
          "Cumulative Counts": 3,
          "Effect": "stop_gained",
          "Gene": "Accessory genes"
         },
         {
          "Allele Frequency": 0.092,
          "Counts": 0,
          "Cumulative Counts": 3,
          "Effect": "stop_gained",
          "Gene": "Accessory genes"
         },
         {
          "Allele Frequency": 0.096,
          "Counts": 1,
          "Cumulative Counts": 4,
          "Effect": "stop_gained",
          "Gene": "Accessory genes"
         },
         {
          "Allele Frequency": 0.1,
          "Counts": 0,
          "Cumulative Counts": 4,
          "Effect": "stop_gained",
          "Gene": "Accessory genes"
         },
         {
          "Allele Frequency": 0.10400000000000001,
          "Counts": 0,
          "Cumulative Counts": 4,
          "Effect": "stop_gained",
          "Gene": "Accessory genes"
         },
         {
          "Allele Frequency": 0.108,
          "Counts": 0,
          "Cumulative Counts": 4,
          "Effect": "stop_gained",
          "Gene": "Accessory genes"
         },
         {
          "Allele Frequency": 0.112,
          "Counts": 0,
          "Cumulative Counts": 4,
          "Effect": "stop_gained",
          "Gene": "Accessory genes"
         },
         {
          "Allele Frequency": 0.116,
          "Counts": 0,
          "Cumulative Counts": 4,
          "Effect": "stop_gained",
          "Gene": "Accessory genes"
         },
         {
          "Allele Frequency": 0.12,
          "Counts": 0,
          "Cumulative Counts": 4,
          "Effect": "stop_gained",
          "Gene": "Accessory genes"
         },
         {
          "Allele Frequency": 0.124,
          "Counts": 0,
          "Cumulative Counts": 4,
          "Effect": "stop_gained",
          "Gene": "Accessory genes"
         },
         {
          "Allele Frequency": 0.128,
          "Counts": 1,
          "Cumulative Counts": 5,
          "Effect": "stop_gained",
          "Gene": "Accessory genes"
         },
         {
          "Allele Frequency": 0.132,
          "Counts": 0,
          "Cumulative Counts": 5,
          "Effect": "stop_gained",
          "Gene": "Accessory genes"
         },
         {
          "Allele Frequency": 0.136,
          "Counts": 0,
          "Cumulative Counts": 5,
          "Effect": "stop_gained",
          "Gene": "Accessory genes"
         },
         {
          "Allele Frequency": 0.14,
          "Counts": 0,
          "Cumulative Counts": 5,
          "Effect": "stop_gained",
          "Gene": "Accessory genes"
         },
         {
          "Allele Frequency": 0.14400000000000002,
          "Counts": 0,
          "Cumulative Counts": 5,
          "Effect": "stop_gained",
          "Gene": "Accessory genes"
         },
         {
          "Allele Frequency": 0.148,
          "Counts": 0,
          "Cumulative Counts": 5,
          "Effect": "stop_gained",
          "Gene": "Accessory genes"
         },
         {
          "Allele Frequency": 0.152,
          "Counts": 0,
          "Cumulative Counts": 5,
          "Effect": "stop_gained",
          "Gene": "Accessory genes"
         },
         {
          "Allele Frequency": 0.156,
          "Counts": 0,
          "Cumulative Counts": 5,
          "Effect": "stop_gained",
          "Gene": "Accessory genes"
         },
         {
          "Allele Frequency": 0.16,
          "Counts": 0,
          "Cumulative Counts": 5,
          "Effect": "stop_gained",
          "Gene": "Accessory genes"
         },
         {
          "Allele Frequency": 0.164,
          "Counts": 0,
          "Cumulative Counts": 5,
          "Effect": "stop_gained",
          "Gene": "Accessory genes"
         },
         {
          "Allele Frequency": 0.168,
          "Counts": 0,
          "Cumulative Counts": 5,
          "Effect": "stop_gained",
          "Gene": "Accessory genes"
         },
         {
          "Allele Frequency": 0.17200000000000001,
          "Counts": 0,
          "Cumulative Counts": 5,
          "Effect": "stop_gained",
          "Gene": "Accessory genes"
         },
         {
          "Allele Frequency": 0.176,
          "Counts": 0,
          "Cumulative Counts": 5,
          "Effect": "stop_gained",
          "Gene": "Accessory genes"
         },
         {
          "Allele Frequency": 0.18,
          "Counts": 0,
          "Cumulative Counts": 5,
          "Effect": "stop_gained",
          "Gene": "Accessory genes"
         },
         {
          "Allele Frequency": 0.184,
          "Counts": 1,
          "Cumulative Counts": 6,
          "Effect": "stop_gained",
          "Gene": "Accessory genes"
         },
         {
          "Allele Frequency": 0.188,
          "Counts": 0,
          "Cumulative Counts": 6,
          "Effect": "stop_gained",
          "Gene": "Accessory genes"
         },
         {
          "Allele Frequency": 0.192,
          "Counts": 1,
          "Cumulative Counts": 7,
          "Effect": "stop_gained",
          "Gene": "Accessory genes"
         },
         {
          "Allele Frequency": 0.196,
          "Counts": 0,
          "Cumulative Counts": 7,
          "Effect": "stop_gained",
          "Gene": "Accessory genes"
         }
        ]
       },
       "vconcat": [
        {
         "facet": {
          "column": {
           "field": "Gene",
           "title": "Gene Category",
           "type": "nominal"
          }
         },
         "resolve": {
          "scale": {
           "y": "independent"
          }
         },
         "spec": {
          "encoding": {
           "color": {
            "field": "Effect",
            "legend": {
             "title": "Effect"
            },
            "scale": {
             "domain": [
              "upstream_gene_variant",
              "missense_variant",
              "synonymous_variant",
              "stop_lost",
              "stop_gained",
              "downstream_gene_variant"
             ],
             "scheme": "category10"
            },
            "type": "nominal"
           },
           "x": {
            "bin": {
             "maxbins": 50
            },
            "field": "Allele Frequency",
            "title": "Allele Frequency (AF)",
            "type": "quantitative"
           },
           "y": {
            "field": "Counts",
            "title": "Counts",
            "type": "quantitative"
           }
          },
          "height": 200,
          "mark": {
           "type": "bar"
          },
          "width": 300
         }
        },
        {
         "facet": {
          "column": {
           "field": "Gene",
           "title": "Gene Category",
           "type": "nominal"
          }
         },
         "resolve": {
          "scale": {
           "y": "independent"
          }
         },
         "spec": {
          "encoding": {
           "color": {
            "field": "Effect",
            "legend": {
             "title": "Effect"
            },
            "scale": {
             "domain": [
              "upstream_gene_variant",
              "missense_variant",
              "synonymous_variant",
              "stop_lost",
              "stop_gained",
              "downstream_gene_variant"
             ],
             "scheme": "category10"
            },
            "type": "nominal"
           },
           "x": {
            "field": "Allele Frequency",
            "title": "Allele Frequency (AF)",
            "type": "quantitative"
           },
           "y": {
            "field": "Cumulative Counts",
            "title": "Cumulative Counts",
            "type": "quantitative"
           }
          },
          "height": 200,
          "mark": {
           "type": "line"
          },
          "width": 300
         }
        }
       ]
      },
      "text/plain": [
       "<VegaLite 5 object>\n",
       "\n",
       "If you see this message, it means the renderer has not been properly enabled\n",
       "for the frontend that you are using. For more information, see\n",
       "https://altair-viz.github.io/user_guide/display_frontends.html#troubleshooting\n"
      ]
     },
     "metadata": {},
     "output_type": "display_data"
    }
   ],
   "source": [
    "## <--- make combined plots ---> \n",
    "\n",
    "min_af = 0  \n",
    "max_af = 0.2  \n",
    "n_bins = 50  \n",
    "bin_edges = np.linspace(min_af, max_af, n_bins + 1)\n",
    "\n",
    "alt_data = pd.DataFrame()\n",
    "for gene, gene_data in gene_categories.items():\n",
    "    effects = gene_data['EFFECT'].unique()\n",
    "    for effect in effects:\n",
    "        effect_data = gene_data[gene_data['EFFECT'] == effect]['AF']\n",
    "        hist, edges = np.histogram(effect_data, bins=bin_edges)\n",
    "        cumsum = np.cumsum(hist)\n",
    "        df = pd.DataFrame({\n",
    "            'Counts': hist,\n",
    "            'Cumulative Counts': cumsum,\n",
    "            'Allele Frequency': edges[:-1],\n",
    "            'Gene': gene,\n",
    "            'Effect': effect\n",
    "        })\n",
    "        alt_data = pd.concat([alt_data, df], ignore_index=True)\n",
    "\n",
    "color_scheme = alt.Scale(domain=list(alt_data['Effect'].unique()), scheme='category10')\n",
    "\n",
    "histogram = alt.Chart(alt_data).mark_bar().encode(\n",
    "    alt.X('Allele Frequency:Q', bin=alt.Bin(maxbins=n_bins), title='Allele Frequency (AF)'),\n",
    "    alt.Y('Counts:Q', title='Counts'),\n",
    "    alt.Color('Effect:N', scale=color_scheme, legend=alt.Legend(title=\"Effect\"))\n",
    ").properties(\n",
    "    width=300,\n",
    "    height=200\n",
    ").facet(\n",
    "    column=alt.Column('Gene:N', title='Gene Category')\n",
    ").resolve_scale(\n",
    "    y='independent'\n",
    ")\n",
    "\n",
    "cumulative_line = alt.Chart(alt_data).mark_line().encode(\n",
    "    alt.X('Allele Frequency:Q', title='Allele Frequency (AF)'),\n",
    "    alt.Y('Cumulative Counts:Q', title='Cumulative Counts'),\n",
    "    alt.Color('Effect:N', scale=color_scheme, legend=alt.Legend(title=\"Effect\"))\n",
    ").properties(\n",
    "    width=300,\n",
    "    height=200\n",
    ").facet(\n",
    "    column=alt.Column('Gene:N', title='Gene Category')\n",
    ").resolve_scale(\n",
    "    y='independent'\n",
    ")\n",
    "\n",
    "combined_chart = alt.vconcat(histogram, cumulative_line).configure_title(\n",
    "    fontSize=20,\n",
    "    font='Arial',\n",
    "    anchor='start',\n",
    "    color='black'\n",
    ").configure_axis(\n",
    "    labelFontSize=12,\n",
    "    titleFontSize=14\n",
    ").configure_legend(\n",
    "    titleFontSize=14,\n",
    "    labelFontSize=12\n",
    ").configure_view(\n",
    "    strokeWidth=0\n",
    ")\n",
    "\n",
    "combined_chart.display()\n"
   ]
  },
  {
   "cell_type": "code",
   "execution_count": null,
   "id": "1fa93ad4-2245-49c7-b70f-acae5a6e6452",
   "metadata": {},
   "outputs": [],
   "source": []
  },
  {
   "cell_type": "code",
   "execution_count": 6,
   "id": "f7a19521-c9a5-4c9c-9cd2-83445e90a434",
   "metadata": {},
   "outputs": [
    {
     "data": {
      "application/vnd.vegalite.v5+json": {
       "$schema": "https://vega.github.io/schema/vega-lite/v5.17.0.json",
       "config": {
        "view": {
         "continuousHeight": 300,
         "continuousWidth": 300
        }
       },
       "data": {
        "name": "data-f40f33d643639c024ad25d2e96a9404d"
       },
       "datasets": {
        "data-f40f33d643639c024ad25d2e96a9404d": [
         {
          "HGVS_P_1LETTER": "p.A1234S",
          "Unique_Sample_Count": 4
         },
         {
          "HGVS_P_1LETTER": "p.A1306S",
          "Unique_Sample_Count": 52
         },
         {
          "HGVS_P_1LETTER": "p.A1352V",
          "Unique_Sample_Count": 8
         },
         {
          "HGVS_P_1LETTER": "p.A1397V",
          "Unique_Sample_Count": 4
         },
         {
          "HGVS_P_1LETTER": "p.A1708D",
          "Unique_Sample_Count": 38
         },
         {
          "HGVS_P_1LETTER": "p.A208V",
          "Unique_Sample_Count": 6
         },
         {
          "HGVS_P_1LETTER": "p.A2508T",
          "Unique_Sample_Count": 4
         },
         {
          "HGVS_P_1LETTER": "p.A2529V",
          "Unique_Sample_Count": 4
         },
         {
          "HGVS_P_1LETTER": "p.A2554V",
          "Unique_Sample_Count": 16
         },
         {
          "HGVS_P_1LETTER": "p.A2710T",
          "Unique_Sample_Count": 75
         },
         {
          "HGVS_P_1LETTER": "p.A2855V",
          "Unique_Sample_Count": 4
         },
         {
          "HGVS_P_1LETTER": "p.A398V",
          "Unique_Sample_Count": 4
         },
         {
          "HGVS_P_1LETTER": "p.A4396V",
          "Unique_Sample_Count": 4
         },
         {
          "HGVS_P_1LETTER": "p.A570D",
          "Unique_Sample_Count": 38
         },
         {
          "HGVS_P_1LETTER": "p.A626S",
          "Unique_Sample_Count": 8
         },
         {
          "HGVS_P_1LETTER": "p.A63T",
          "Unique_Sample_Count": 80
         },
         {
          "HGVS_P_1LETTER": "p.A65S",
          "Unique_Sample_Count": 6
         },
         {
          "HGVS_P_1LETTER": "p.A67V",
          "Unique_Sample_Count": 80
         },
         {
          "HGVS_P_1LETTER": "p.A701V",
          "Unique_Sample_Count": 4
         },
         {
          "HGVS_P_1LETTER": "p.A8V",
          "Unique_Sample_Count": 2
         },
         {
          "HGVS_P_1LETTER": "p.C4855F",
          "Unique_Sample_Count": 4
         },
         {
          "HGVS_P_1LETTER": "p.C5210F",
          "Unique_Sample_Count": 6
         },
         {
          "HGVS_P_1LETTER": "p.C5997F",
          "Unique_Sample_Count": 4
         },
         {
          "HGVS_P_1LETTER": "p.D1118H",
          "Unique_Sample_Count": 38
         },
         {
          "HGVS_P_1LETTER": "p.D138Y",
          "Unique_Sample_Count": 4
         },
         {
          "HGVS_P_1LETTER": "p.D1547A",
          "Unique_Sample_Count": 2
         },
         {
          "HGVS_P_1LETTER": "p.D1547Y",
          "Unique_Sample_Count": 4
         },
         {
          "HGVS_P_1LETTER": "p.D215E",
          "Unique_Sample_Count": 4
         },
         {
          "HGVS_P_1LETTER": "p.D2980G",
          "Unique_Sample_Count": 6
         },
         {
          "HGVS_P_1LETTER": "p.D343G",
          "Unique_Sample_Count": 4
         },
         {
          "HGVS_P_1LETTER": "p.D35Y",
          "Unique_Sample_Count": 10
         },
         {
          "HGVS_P_1LETTER": "p.D371Y",
          "Unique_Sample_Count": 6
         },
         {
          "HGVS_P_1LETTER": "p.D377Y",
          "Unique_Sample_Count": 70
         },
         {
          "HGVS_P_1LETTER": "p.D3G",
          "Unique_Sample_Count": 80
         },
         {
          "HGVS_P_1LETTER": "p.D614G",
          "Unique_Sample_Count": 224
         },
         {
          "HGVS_P_1LETTER": "p.D63G",
          "Unique_Sample_Count": 52
         },
         {
          "HGVS_P_1LETTER": "p.D72G",
          "Unique_Sample_Count": 4
         },
         {
          "HGVS_P_1LETTER": "p.D796Y",
          "Unique_Sample_Count": 80
         },
         {
          "HGVS_P_1LETTER": "p.D950N",
          "Unique_Sample_Count": 52
         },
         {
          "HGVS_P_1LETTER": "p.E1223A",
          "Unique_Sample_Count": 24
         },
         {
          "HGVS_P_1LETTER": "p.E2089K",
          "Unique_Sample_Count": 4
         },
         {
          "HGVS_P_1LETTER": "p.E239Q",
          "Unique_Sample_Count": 4
         },
         {
          "HGVS_P_1LETTER": "p.E484A",
          "Unique_Sample_Count": 80
         },
         {
          "HGVS_P_1LETTER": "p.E484K",
          "Unique_Sample_Count": 4
         },
         {
          "HGVS_P_1LETTER": "p.E654K",
          "Unique_Sample_Count": 4
         },
         {
          "HGVS_P_1LETTER": "p.E92K",
          "Unique_Sample_Count": 4
         },
         {
          "HGVS_P_1LETTER": "p.F2387V",
          "Unique_Sample_Count": 6
         },
         {
          "HGVS_P_1LETTER": "p.F490S",
          "Unique_Sample_Count": 6
         },
         {
          "HGVS_P_1LETTER": "p.G142D",
          "Unique_Sample_Count": 34
         },
         {
          "HGVS_P_1LETTER": "p.G147S",
          "Unique_Sample_Count": 8
         },
         {
          "HGVS_P_1LETTER": "p.G172C",
          "Unique_Sample_Count": 4
         },
         {
          "HGVS_P_1LETTER": "p.G172V",
          "Unique_Sample_Count": 30
         },
         {
          "HGVS_P_1LETTER": "p.G181V",
          "Unique_Sample_Count": 2
         },
         {
          "HGVS_P_1LETTER": "p.G204R",
          "Unique_Sample_Count": 131
         },
         {
          "HGVS_P_1LETTER": "p.G214C",
          "Unique_Sample_Count": 6
         },
         {
          "HGVS_P_1LETTER": "p.G215C",
          "Unique_Sample_Count": 52
         },
         {
          "HGVS_P_1LETTER": "p.G2667C",
          "Unique_Sample_Count": 4
         },
         {
          "HGVS_P_1LETTER": "p.G2842V",
          "Unique_Sample_Count": 4
         },
         {
          "HGVS_P_1LETTER": "p.G3278S",
          "Unique_Sample_Count": 6
         },
         {
          "HGVS_P_1LETTER": "p.G339D",
          "Unique_Sample_Count": 80
         },
         {
          "HGVS_P_1LETTER": "p.G3578V",
          "Unique_Sample_Count": 4
         },
         {
          "HGVS_P_1LETTER": "p.G446S",
          "Unique_Sample_Count": 80
         },
         {
          "HGVS_P_1LETTER": "p.G496S",
          "Unique_Sample_Count": 80
         },
         {
          "HGVS_P_1LETTER": "p.G49C",
          "Unique_Sample_Count": 6
         },
         {
          "HGVS_P_1LETTER": "p.G52C",
          "Unique_Sample_Count": 6
         },
         {
          "HGVS_P_1LETTER": "p.G75V",
          "Unique_Sample_Count": 6
         },
         {
          "HGVS_P_1LETTER": "p.H2125Y",
          "Unique_Sample_Count": 4
         },
         {
          "HGVS_P_1LETTER": "p.H5401Y",
          "Unique_Sample_Count": 52
         },
         {
          "HGVS_P_1LETTER": "p.H5660R",
          "Unique_Sample_Count": 4
         },
         {
          "HGVS_P_1LETTER": "p.H655Y",
          "Unique_Sample_Count": 84
         },
         {
          "HGVS_P_1LETTER": "p.I1159R",
          "Unique_Sample_Count": 4
         },
         {
          "HGVS_P_1LETTER": "p.I121F",
          "Unique_Sample_Count": 1
         },
         {
          "HGVS_P_1LETTER": "p.I1221V",
          "Unique_Sample_Count": 4
         },
         {
          "HGVS_P_1LETTER": "p.I123T",
          "Unique_Sample_Count": 6
         },
         {
          "HGVS_P_1LETTER": "p.I2230T",
          "Unique_Sample_Count": 35
         },
         {
          "HGVS_P_1LETTER": "p.I26V",
          "Unique_Sample_Count": 6
         },
         {
          "HGVS_P_1LETTER": "p.I3731V",
          "Unique_Sample_Count": 18
         },
         {
          "HGVS_P_1LETTER": "p.I3758V",
          "Unique_Sample_Count": 80
         },
         {
          "HGVS_P_1LETTER": "p.I4848T",
          "Unique_Sample_Count": 6
         },
         {
          "HGVS_P_1LETTER": "p.I4T",
          "Unique_Sample_Count": 4
         },
         {
          "HGVS_P_1LETTER": "p.I5707T",
          "Unique_Sample_Count": 4
         },
         {
          "HGVS_P_1LETTER": "p.I5839T",
          "Unique_Sample_Count": 4
         },
         {
          "HGVS_P_1LETTER": "p.I6051T",
          "Unique_Sample_Count": 2
         },
         {
          "HGVS_P_1LETTER": "p.I6845T",
          "Unique_Sample_Count": 6
         },
         {
          "HGVS_P_1LETTER": "p.I6897T",
          "Unique_Sample_Count": 6
         },
         {
          "HGVS_P_1LETTER": "p.I82T",
          "Unique_Sample_Count": 52
         },
         {
          "HGVS_P_1LETTER": "p.K16N",
          "Unique_Sample_Count": 4
         },
         {
          "HGVS_P_1LETTER": "p.K1795Q",
          "Unique_Sample_Count": 4
         },
         {
          "HGVS_P_1LETTER": "p.K2029N",
          "Unique_Sample_Count": 2
         },
         {
          "HGVS_P_1LETTER": "p.K2059R",
          "Unique_Sample_Count": 6
         },
         {
          "HGVS_P_1LETTER": "p.K2761N",
          "Unique_Sample_Count": 4
         },
         {
          "HGVS_P_1LETTER": "p.K3573R",
          "Unique_Sample_Count": 4
         },
         {
          "HGVS_P_1LETTER": "p.K373R",
          "Unique_Sample_Count": 4
         },
         {
          "HGVS_P_1LETTER": "p.K4000R",
          "Unique_Sample_Count": 4
         },
         {
          "HGVS_P_1LETTER": "p.K417N",
          "Unique_Sample_Count": 80
         },
         {
          "HGVS_P_1LETTER": "p.K417T",
          "Unique_Sample_Count": 4
         },
         {
          "HGVS_P_1LETTER": "p.K4226N",
          "Unique_Sample_Count": 4
         },
         {
          "HGVS_P_1LETTER": "p.K6358R",
          "Unique_Sample_Count": 4
         },
         {
          "HGVS_P_1LETTER": "p.K680E",
          "Unique_Sample_Count": 4
         },
         {
          "HGVS_P_1LETTER": "p.K822R",
          "Unique_Sample_Count": 4
         },
         {
          "HGVS_P_1LETTER": "p.K856R",
          "Unique_Sample_Count": 80
         },
         {
          "HGVS_P_1LETTER": "p.L106F",
          "Unique_Sample_Count": 4
         },
         {
          "HGVS_P_1LETTER": "p.L116F",
          "Unique_Sample_Count": 4
         },
         {
          "HGVS_P_1LETTER": "p.L127V",
          "Unique_Sample_Count": 4
         },
         {
          "HGVS_P_1LETTER": "p.L17F",
          "Unique_Sample_Count": 8
         },
         {
          "HGVS_P_1LETTER": "p.L18F",
          "Unique_Sample_Count": 4
         },
         {
          "HGVS_P_1LETTER": "p.L2760F",
          "Unique_Sample_Count": 4
         },
         {
          "HGVS_P_1LETTER": "p.L3201P",
          "Unique_Sample_Count": 6
         },
         {
          "HGVS_P_1LETTER": "p.L3352F",
          "Unique_Sample_Count": 30
         },
         {
          "HGVS_P_1LETTER": "p.L3606F",
          "Unique_Sample_Count": 9
         },
         {
          "HGVS_P_1LETTER": "p.L3829F",
          "Unique_Sample_Count": 24
         },
         {
          "HGVS_P_1LETTER": "p.L4182F",
          "Unique_Sample_Count": 6
         },
         {
          "HGVS_P_1LETTER": "p.L452Q",
          "Unique_Sample_Count": 6
         },
         {
          "HGVS_P_1LETTER": "p.L452R",
          "Unique_Sample_Count": 52
         },
         {
          "HGVS_P_1LETTER": "p.L4644P",
          "Unique_Sample_Count": 4
         },
         {
          "HGVS_P_1LETTER": "p.L5304P",
          "Unique_Sample_Count": 38
         },
         {
          "HGVS_P_1LETTER": "p.L5574P",
          "Unique_Sample_Count": 10
         },
         {
          "HGVS_P_1LETTER": "p.L5F",
          "Unique_Sample_Count": 10
         },
         {
          "HGVS_P_1LETTER": "p.L60F",
          "Unique_Sample_Count": 4
         },
         {
          "HGVS_P_1LETTER": "p.L6145P",
          "Unique_Sample_Count": 4
         },
         {
          "HGVS_P_1LETTER": "p.L6754F",
          "Unique_Sample_Count": 4
         },
         {
          "HGVS_P_1LETTER": "p.L6908F",
          "Unique_Sample_Count": 4
         },
         {
          "HGVS_P_1LETTER": "p.L981F",
          "Unique_Sample_Count": 80
         },
         {
          "HGVS_P_1LETTER": "p.M2036T",
          "Unique_Sample_Count": 2
         },
         {
          "HGVS_P_1LETTER": "p.M2606I",
          "Unique_Sample_Count": 12
         },
         {
          "HGVS_P_1LETTER": "p.M260T",
          "Unique_Sample_Count": 4
         },
         {
          "HGVS_P_1LETTER": "p.M4728T",
          "Unique_Sample_Count": 2
         },
         {
          "HGVS_P_1LETTER": "p.M6460I",
          "Unique_Sample_Count": 4
         },
         {
          "HGVS_P_1LETTER": "p.M7020T",
          "Unique_Sample_Count": 4
         },
         {
          "HGVS_P_1LETTER": "p.N2405S",
          "Unique_Sample_Count": 4
         },
         {
          "HGVS_P_1LETTER": "p.N348D",
          "Unique_Sample_Count": 6
         },
         {
          "HGVS_P_1LETTER": "p.N440K",
          "Unique_Sample_Count": 80
         },
         {
          "HGVS_P_1LETTER": "p.N4583K",
          "Unique_Sample_Count": 4
         },
         {
          "HGVS_P_1LETTER": "p.N47I",
          "Unique_Sample_Count": 4
         },
         {
          "HGVS_P_1LETTER": "p.N501Y",
          "Unique_Sample_Count": 122
         },
         {
          "HGVS_P_1LETTER": "p.N6562D",
          "Unique_Sample_Count": 4
         },
         {
          "HGVS_P_1LETTER": "p.N6604S",
          "Unique_Sample_Count": 2
         },
         {
          "HGVS_P_1LETTER": "p.N679K",
          "Unique_Sample_Count": 80
         },
         {
          "HGVS_P_1LETTER": "p.N764K",
          "Unique_Sample_Count": 1
         },
         {
          "HGVS_P_1LETTER": "p.N856K",
          "Unique_Sample_Count": 80
         },
         {
          "HGVS_P_1LETTER": "p.N969K",
          "Unique_Sample_Count": 80
         },
         {
          "HGVS_P_1LETTER": "p.P1010S",
          "Unique_Sample_Count": 4
         },
         {
          "HGVS_P_1LETTER": "p.P10L",
          "Unique_Sample_Count": 4
         },
         {
          "HGVS_P_1LETTER": "p.P13L",
          "Unique_Sample_Count": 90
         },
         {
          "HGVS_P_1LETTER": "p.P174S",
          "Unique_Sample_Count": 1
         },
         {
          "HGVS_P_1LETTER": "p.P199L",
          "Unique_Sample_Count": 30
         },
         {
          "HGVS_P_1LETTER": "p.P2046L",
          "Unique_Sample_Count": 52
         },
         {
          "HGVS_P_1LETTER": "p.P2144L",
          "Unique_Sample_Count": 4
         },
         {
          "HGVS_P_1LETTER": "p.P2287S",
          "Unique_Sample_Count": 54
         },
         {
          "HGVS_P_1LETTER": "p.P2483S",
          "Unique_Sample_Count": 4
         },
         {
          "HGVS_P_1LETTER": "p.P26S",
          "Unique_Sample_Count": 4
         },
         {
          "HGVS_P_1LETTER": "p.P3395H",
          "Unique_Sample_Count": 80
         },
         {
          "HGVS_P_1LETTER": "p.P38L",
          "Unique_Sample_Count": 4
         },
         {
          "HGVS_P_1LETTER": "p.P4075S",
          "Unique_Sample_Count": 4
         },
         {
          "HGVS_P_1LETTER": "p.P4220L",
          "Unique_Sample_Count": 4
         },
         {
          "HGVS_P_1LETTER": "p.P4223L",
          "Unique_Sample_Count": 6
         },
         {
          "HGVS_P_1LETTER": "p.P4638L",
          "Unique_Sample_Count": 6
         },
         {
          "HGVS_P_1LETTER": "p.P479S",
          "Unique_Sample_Count": 2
         },
         {
          "HGVS_P_1LETTER": "p.P4804L",
          "Unique_Sample_Count": 38
         },
         {
          "HGVS_P_1LETTER": "p.P4959L",
          "Unique_Sample_Count": 4
         },
         {
          "HGVS_P_1LETTER": "p.P521S",
          "Unique_Sample_Count": 2
         },
         {
          "HGVS_P_1LETTER": "p.P6560L",
          "Unique_Sample_Count": 6
         },
         {
          "HGVS_P_1LETTER": "p.P67S",
          "Unique_Sample_Count": 38
         },
         {
          "HGVS_P_1LETTER": "p.P681H",
          "Unique_Sample_Count": 118
         },
         {
          "HGVS_P_1LETTER": "p.P681R",
          "Unique_Sample_Count": 52
         },
         {
          "HGVS_P_1LETTER": "p.P807L",
          "Unique_Sample_Count": 4
         },
         {
          "HGVS_P_1LETTER": "p.P80R",
          "Unique_Sample_Count": 4
         },
         {
          "HGVS_P_1LETTER": "p.Q19E",
          "Unique_Sample_Count": 80
         },
         {
          "HGVS_P_1LETTER": "p.Q22R",
          "Unique_Sample_Count": 4
         },
         {
          "HGVS_P_1LETTER": "p.Q493R",
          "Unique_Sample_Count": 80
         },
         {
          "HGVS_P_1LETTER": "p.Q498R",
          "Unique_Sample_Count": 80
         },
         {
          "HGVS_P_1LETTER": "p.Q5691H",
          "Unique_Sample_Count": 6
         },
         {
          "HGVS_P_1LETTER": "p.Q57H",
          "Unique_Sample_Count": 30
         },
         {
          "HGVS_P_1LETTER": "p.Q677H",
          "Unique_Sample_Count": 8
         },
         {
          "HGVS_P_1LETTER": "p.Q690R",
          "Unique_Sample_Count": 4
         },
         {
          "HGVS_P_1LETTER": "p.Q954H",
          "Unique_Sample_Count": 80
         },
         {
          "HGVS_P_1LETTER": "p.R134C",
          "Unique_Sample_Count": 2
         },
         {
          "HGVS_P_1LETTER": "p.R1404C",
          "Unique_Sample_Count": 6
         },
         {
          "HGVS_P_1LETTER": "p.R190S",
          "Unique_Sample_Count": 4
         },
         {
          "HGVS_P_1LETTER": "p.R203M",
          "Unique_Sample_Count": 52
         },
         {
          "HGVS_P_1LETTER": "p.R207C",
          "Unique_Sample_Count": 6
         },
         {
          "HGVS_P_1LETTER": "p.R2336K",
          "Unique_Sample_Count": 6
         },
         {
          "HGVS_P_1LETTER": "p.R24H",
          "Unique_Sample_Count": 2
         },
         {
          "HGVS_P_1LETTER": "p.R346K",
          "Unique_Sample_Count": 58
         },
         {
          "HGVS_P_1LETTER": "p.R4179K",
          "Unique_Sample_Count": 4
         },
         {
          "HGVS_P_1LETTER": "p.R52I",
          "Unique_Sample_Count": 38
         },
         {
          "HGVS_P_1LETTER": "p.R5738K",
          "Unique_Sample_Count": 4
         },
         {
          "HGVS_P_1LETTER": "p.R68G",
          "Unique_Sample_Count": 8
         },
         {
          "HGVS_P_1LETTER": "p.S1029G",
          "Unique_Sample_Count": 4
         },
         {
          "HGVS_P_1LETTER": "p.S1188L",
          "Unique_Sample_Count": 4
         },
         {
          "HGVS_P_1LETTER": "p.S1587L",
          "Unique_Sample_Count": 4
         },
         {
          "HGVS_P_1LETTER": "p.S194L",
          "Unique_Sample_Count": 10
         },
         {
          "HGVS_P_1LETTER": "p.S235F",
          "Unique_Sample_Count": 37
         },
         {
          "HGVS_P_1LETTER": "p.S24L",
          "Unique_Sample_Count": 30
         },
         {
          "HGVS_P_1LETTER": "p.S253P",
          "Unique_Sample_Count": 4
         },
         {
          "HGVS_P_1LETTER": "p.S2547T",
          "Unique_Sample_Count": 1
         },
         {
          "HGVS_P_1LETTER": "p.S254F",
          "Unique_Sample_Count": 4
         },
         {
          "HGVS_P_1LETTER": "p.S26L",
          "Unique_Sample_Count": 52
         },
         {
          "HGVS_P_1LETTER": "p.S327L",
          "Unique_Sample_Count": 4
         },
         {
          "HGVS_P_1LETTER": "p.S373P",
          "Unique_Sample_Count": 80
         },
         {
          "HGVS_P_1LETTER": "p.S375F",
          "Unique_Sample_Count": 80
         },
         {
          "HGVS_P_1LETTER": "p.S477N",
          "Unique_Sample_Count": 80
         },
         {
          "HGVS_P_1LETTER": "p.S4802L",
          "Unique_Sample_Count": 6
         },
         {
          "HGVS_P_1LETTER": "p.S4842L",
          "Unique_Sample_Count": 4
         },
         {
          "HGVS_P_1LETTER": "p.S538L",
          "Unique_Sample_Count": 4
         },
         {
          "HGVS_P_1LETTER": "p.S55F",
          "Unique_Sample_Count": 4
         },
         {
          "HGVS_P_1LETTER": "p.S5665I",
          "Unique_Sample_Count": 4
         },
         {
          "HGVS_P_1LETTER": "p.S5762L",
          "Unique_Sample_Count": 4
         },
         {
          "HGVS_P_1LETTER": "p.S6074L",
          "Unique_Sample_Count": 4
         },
         {
          "HGVS_P_1LETTER": "p.S67F",
          "Unique_Sample_Count": 4
         },
         {
          "HGVS_P_1LETTER": "p.S6948L",
          "Unique_Sample_Count": 4
         },
         {
          "HGVS_P_1LETTER": "p.S7036I",
          "Unique_Sample_Count": 10
         },
         {
          "HGVS_P_1LETTER": "p.S92T",
          "Unique_Sample_Count": 4
         },
         {
          "HGVS_P_1LETTER": "p.S94F",
          "Unique_Sample_Count": 6
         },
         {
          "HGVS_P_1LETTER": "p.S982A",
          "Unique_Sample_Count": 38
         },
         {
          "HGVS_P_1LETTER": "p.T1001I",
          "Unique_Sample_Count": 38
         },
         {
          "HGVS_P_1LETTER": "p.T1027I",
          "Unique_Sample_Count": 4
         },
         {
          "HGVS_P_1LETTER": "p.T120I",
          "Unique_Sample_Count": 52
         },
         {
          "HGVS_P_1LETTER": "p.T1246I",
          "Unique_Sample_Count": 6
         },
         {
          "HGVS_P_1LETTER": "p.T135I",
          "Unique_Sample_Count": 4
         },
         {
          "HGVS_P_1LETTER": "p.T1444N",
          "Unique_Sample_Count": 6
         },
         {
          "HGVS_P_1LETTER": "p.T151I",
          "Unique_Sample_Count": 4
         },
         {
          "HGVS_P_1LETTER": "p.T1788M",
          "Unique_Sample_Count": 6
         },
         {
          "HGVS_P_1LETTER": "p.T1822I",
          "Unique_Sample_Count": 6
         },
         {
          "HGVS_P_1LETTER": "p.T19R",
          "Unique_Sample_Count": 52
         },
         {
          "HGVS_P_1LETTER": "p.T2069A",
          "Unique_Sample_Count": 2
         },
         {
          "HGVS_P_1LETTER": "p.T208I",
          "Unique_Sample_Count": 6
         },
         {
          "HGVS_P_1LETTER": "p.T20N",
          "Unique_Sample_Count": 4
         },
         {
          "HGVS_P_1LETTER": "p.T223I",
          "Unique_Sample_Count": 4
         },
         {
          "HGVS_P_1LETTER": "p.T265I",
          "Unique_Sample_Count": 30
         },
         {
          "HGVS_P_1LETTER": "p.T2791I",
          "Unique_Sample_Count": 6
         },
         {
          "HGVS_P_1LETTER": "p.T29I",
          "Unique_Sample_Count": 6
         },
         {
          "HGVS_P_1LETTER": "p.T3255I",
          "Unique_Sample_Count": 138
         },
         {
          "HGVS_P_1LETTER": "p.T350I",
          "Unique_Sample_Count": 4
         },
         {
          "HGVS_P_1LETTER": "p.T3646A",
          "Unique_Sample_Count": 52
         },
         {
          "HGVS_P_1LETTER": "p.T366I",
          "Unique_Sample_Count": 1
         },
         {
          "HGVS_P_1LETTER": "p.T391I",
          "Unique_Sample_Count": 6
         },
         {
          "HGVS_P_1LETTER": "p.T4175A",
          "Unique_Sample_Count": 4
         },
         {
          "HGVS_P_1LETTER": "p.T4424I",
          "Unique_Sample_Count": 6
         },
         {
          "HGVS_P_1LETTER": "p.T4467I",
          "Unique_Sample_Count": 6
         },
         {
          "HGVS_P_1LETTER": "p.T4532I",
          "Unique_Sample_Count": 4
         },
         {
          "HGVS_P_1LETTER": "p.T478K",
          "Unique_Sample_Count": 132
         },
         {
          "HGVS_P_1LETTER": "p.T4847I",
          "Unique_Sample_Count": 12
         },
         {
          "HGVS_P_1LETTER": "p.T4992I",
          "Unique_Sample_Count": 88
         },
         {
          "HGVS_P_1LETTER": "p.T5005I",
          "Unique_Sample_Count": 38
         },
         {
          "HGVS_P_1LETTER": "p.T5130I",
          "Unique_Sample_Count": 2
         },
         {
          "HGVS_P_1LETTER": "p.T5152M",
          "Unique_Sample_Count": 6
         },
         {
          "HGVS_P_1LETTER": "p.T5356I",
          "Unique_Sample_Count": 4
         },
         {
          "HGVS_P_1LETTER": "p.T547K",
          "Unique_Sample_Count": 86
         },
         {
          "HGVS_P_1LETTER": "p.T5541I",
          "Unique_Sample_Count": 6
         },
         {
          "HGVS_P_1LETTER": "p.T5813I",
          "Unique_Sample_Count": 4
         },
         {
          "HGVS_P_1LETTER": "p.T6208M",
          "Unique_Sample_Count": 4
         },
         {
          "HGVS_P_1LETTER": "p.T716I",
          "Unique_Sample_Count": 38
         },
         {
          "HGVS_P_1LETTER": "p.T727I",
          "Unique_Sample_Count": 6
         },
         {
          "HGVS_P_1LETTER": "p.T76I",
          "Unique_Sample_Count": 6
         },
         {
          "HGVS_P_1LETTER": "p.T859N",
          "Unique_Sample_Count": 6
         },
         {
          "HGVS_P_1LETTER": "p.T95I",
          "Unique_Sample_Count": 88
         },
         {
          "HGVS_P_1LETTER": "p.T9I",
          "Unique_Sample_Count": 80
         },
         {
          "HGVS_P_1LETTER": "p.V1008I",
          "Unique_Sample_Count": 2
         },
         {
          "HGVS_P_1LETTER": "p.V1176F",
          "Unique_Sample_Count": 4
         },
         {
          "HGVS_P_1LETTER": "p.V16A",
          "Unique_Sample_Count": 4
         },
         {
          "HGVS_P_1LETTER": "p.V2130A",
          "Unique_Sample_Count": 4
         },
         {
          "HGVS_P_1LETTER": "p.V2930L",
          "Unique_Sample_Count": 52
         },
         {
          "HGVS_P_1LETTER": "p.V6138L",
          "Unique_Sample_Count": 2
         },
         {
          "HGVS_P_1LETTER": "p.V6375G",
          "Unique_Sample_Count": 4
         },
         {
          "HGVS_P_1LETTER": "p.V665I",
          "Unique_Sample_Count": 6
         },
         {
          "HGVS_P_1LETTER": "p.V71I",
          "Unique_Sample_Count": 10
         },
         {
          "HGVS_P_1LETTER": "p.V826L",
          "Unique_Sample_Count": 6
         },
         {
          "HGVS_P_1LETTER": "p.V82A",
          "Unique_Sample_Count": 52
         },
         {
          "HGVS_P_1LETTER": "p.V93A",
          "Unique_Sample_Count": 2
         },
         {
          "HGVS_P_1LETTER": "p.W646R",
          "Unique_Sample_Count": 24
         },
         {
          "HGVS_P_1LETTER": "p.Y2003N",
          "Unique_Sample_Count": 8
         },
         {
          "HGVS_P_1LETTER": "p.Y31F",
          "Unique_Sample_Count": 4
         },
         {
          "HGVS_P_1LETTER": "p.Y505H",
          "Unique_Sample_Count": 80
         },
         {
          "HGVS_P_1LETTER": "p.Y5349C",
          "Unique_Sample_Count": 8
         },
         {
          "HGVS_P_1LETTER": "p.Y73C",
          "Unique_Sample_Count": 38
         }
        ]
       },
       "encoding": {
        "color": {
         "field": "HGVS_P_1LETTER",
         "type": "nominal"
        },
        "tooltip": [
         {
          "field": "HGVS_P_1LETTER",
          "type": "nominal"
         },
         {
          "field": "Unique_Sample_Count",
          "type": "quantitative"
         }
        ],
        "x": {
         "field": "Unique_Sample_Count",
         "title": "Number of Samples",
         "type": "quantitative"
        },
        "y": {
         "axis": {
          "labels": false
         },
         "field": "HGVS_P_1LETTER",
         "sort": "-x",
         "title": "Amino Acid Change",
         "type": "nominal"
        }
       },
       "height": 400,
       "mark": {
        "type": "bar"
       },
       "title": "Number of Samples per Amino Acid Change",
       "width": 800
      },
      "text/plain": [
       "<VegaLite 5 object>\n",
       "\n",
       "If you see this message, it means the renderer has not been properly enabled\n",
       "for the frontend that you are using. For more information, see\n",
       "https://altair-viz.github.io/user_guide/display_frontends.html#troubleshooting\n"
      ]
     },
     "execution_count": 6,
     "metadata": {},
     "output_type": "execute_result"
    }
   ],
   "source": [
    "data = pd.read_csv('../data/modified_full_variants_long_table.csv')\n",
    "\n",
    "filtered_data = data[\n",
    "    (data['FILTER'] == 'PASS') & \n",
    "    (data['REF'].isin(['A', 'T', 'C', 'G'])) &\n",
    "    (data['ALT'].isin(['A', 'T', 'C', 'G'])) &\n",
    "    (data['EFFECT'] == 'missense_variant') # only looks at missense mutations \n",
    "]\n",
    "\n",
    "\n",
    "amino_acid_counts = filtered_data.groupby('HGVS_P_1LETTER')['SAMPLE'].nunique().reset_index()\n",
    "amino_acid_counts.columns = ['HGVS_P_1LETTER', 'Unique_Sample_Count']\n",
    "\n",
    "chart = alt.Chart(amino_acid_counts).mark_bar().encode(\n",
    "    x=alt.X('Unique_Sample_Count:Q', title='Number of Samples'),\n",
    "    y=alt.Y('HGVS_P_1LETTER:N', title='Amino Acid Change', sort='-x', axis=alt.Axis(labels=False)), # mod sort -x / x to reverse top/bottom\n",
    "    color='HGVS_P_1LETTER:N',\n",
    "    tooltip=['HGVS_P_1LETTER', 'Unique_Sample_Count']\n",
    ").properties(\n",
    "    title='Number of Samples per Amino Acid Change',\n",
    "    width=800,\n",
    "    height=400\n",
    ")#.interactive()\n",
    "\n",
    "chart\n"
   ]
  },
  {
   "cell_type": "code",
   "execution_count": 7,
   "id": "992b200c-982c-4ae5-b4ce-365188fabae5",
   "metadata": {},
   "outputs": [
    {
     "data": {
      "application/vnd.vegalite.v5+json": {
       "$schema": "https://vega.github.io/schema/vega-lite/v5.17.0.json",
       "config": {
        "view": {
         "continuousHeight": 300,
         "continuousWidth": 300
        }
       },
       "data": {
        "name": "data-6a0ef7c617ef36e7bb3e109e25b62173"
       },
       "datasets": {
        "data-6a0ef7c617ef36e7bb3e109e25b62173": [
         {
          "HGVS_C": "c.*4316A>G",
          "Unique_Sample_Count": 4
         },
         {
          "HGVS_C": "c.*4324C>T",
          "Unique_Sample_Count": 5
         },
         {
          "HGVS_C": "c.*4327G>T",
          "Unique_Sample_Count": 4
         },
         {
          "HGVS_C": "c.*4352G>T",
          "Unique_Sample_Count": 4
         },
         {
          "HGVS_C": "c.*4353G>T",
          "Unique_Sample_Count": 4
         },
         {
          "HGVS_C": "c.*4358G>T",
          "Unique_Sample_Count": 52
         },
         {
          "HGVS_C": "c.*4450T>A",
          "Unique_Sample_Count": 4
         },
         {
          "HGVS_C": "c.-12G>A",
          "Unique_Sample_Count": 1
         },
         {
          "HGVS_C": "c.-19G>A",
          "Unique_Sample_Count": 4
         },
         {
          "HGVS_C": "c.-20C>T",
          "Unique_Sample_Count": 51
         },
         {
          "HGVS_C": "c.-25C>T",
          "Unique_Sample_Count": 224
         },
         {
          "HGVS_C": "c.-3A>C",
          "Unique_Sample_Count": 1
         },
         {
          "HGVS_C": "c.-3A>T",
          "Unique_Sample_Count": 87
         },
         {
          "HGVS_C": "c.-56G>T",
          "Unique_Sample_Count": 52
         },
         {
          "HGVS_C": "c.-5G>T",
          "Unique_Sample_Count": 4
         },
         {
          "HGVS_C": "c.-60C>T",
          "Unique_Sample_Count": 4
         },
         {
          "HGVS_C": "c.-64T>C",
          "Unique_Sample_Count": 4
         },
         {
          "HGVS_C": "c.-87C>T",
          "Unique_Sample_Count": 80
         },
         {
          "HGVS_C": "c.10054C>T",
          "Unique_Sample_Count": 30
         },
         {
          "HGVS_C": "c.10158T>C",
          "Unique_Sample_Count": 10
         },
         {
          "HGVS_C": "c.1016G>A",
          "Unique_Sample_Count": 80
         },
         {
          "HGVS_C": "c.10184C>A",
          "Unique_Sample_Count": 80
         },
         {
          "HGVS_C": "c.10242C>T",
          "Unique_Sample_Count": 4
         },
         {
          "HGVS_C": "c.1028A>G",
          "Unique_Sample_Count": 4
         },
         {
          "HGVS_C": "c.1037G>A",
          "Unique_Sample_Count": 58
         },
         {
          "HGVS_C": "c.1038C>T",
          "Unique_Sample_Count": 6
         },
         {
          "HGVS_C": "c.103G>T",
          "Unique_Sample_Count": 10
         },
         {
          "HGVS_C": "c.1042A>G",
          "Unique_Sample_Count": 6
         },
         {
          "HGVS_C": "c.1049C>T",
          "Unique_Sample_Count": 4
         },
         {
          "HGVS_C": "c.10533C>T",
          "Unique_Sample_Count": 2
         },
         {
          "HGVS_C": "c.10587T>G",
          "Unique_Sample_Count": 2
         },
         {
          "HGVS_C": "c.10718A>G",
          "Unique_Sample_Count": 4
         },
         {
          "HGVS_C": "c.10733G>T",
          "Unique_Sample_Count": 4
         },
         {
          "HGVS_C": "c.10755C>T",
          "Unique_Sample_Count": 2
         },
         {
          "HGVS_C": "c.10818G>T",
          "Unique_Sample_Count": 9
         },
         {
          "HGVS_C": "c.10936A>G",
          "Unique_Sample_Count": 52
         },
         {
          "HGVS_C": "c.1097C>T",
          "Unique_Sample_Count": 1
         },
         {
          "HGVS_C": "c.11013T>C",
          "Unique_Sample_Count": 12
         },
         {
          "HGVS_C": "c.11067A>G",
          "Unique_Sample_Count": 52
         },
         {
          "HGVS_C": "c.11074C>T",
          "Unique_Sample_Count": 6
         },
         {
          "HGVS_C": "c.1111G>T",
          "Unique_Sample_Count": 6
         },
         {
          "HGVS_C": "c.1117T>C",
          "Unique_Sample_Count": 80
         },
         {
          "HGVS_C": "c.1118A>G",
          "Unique_Sample_Count": 4
         },
         {
          "HGVS_C": "c.11191A>G",
          "Unique_Sample_Count": 18
         },
         {
          "HGVS_C": "c.1124C>T",
          "Unique_Sample_Count": 80
         },
         {
          "HGVS_C": "c.11272A>G",
          "Unique_Sample_Count": 80
         },
         {
          "HGVS_C": "c.1129G>T",
          "Unique_Sample_Count": 70
         },
         {
          "HGVS_C": "c.113C>T",
          "Unique_Sample_Count": 4
         },
         {
          "HGVS_C": "c.11409C>T",
          "Unique_Sample_Count": 6
         },
         {
          "HGVS_C": "c.11485C>T",
          "Unique_Sample_Count": 24
         },
         {
          "HGVS_C": "c.11493C>T",
          "Unique_Sample_Count": 4
         },
         {
          "HGVS_C": "c.114A>C",
          "Unique_Sample_Count": 4
         },
         {
          "HGVS_C": "c.114T>C",
          "Unique_Sample_Count": 8
         },
         {
          "HGVS_C": "c.11517A>G",
          "Unique_Sample_Count": 4
         },
         {
          "HGVS_C": "c.11685C>T",
          "Unique_Sample_Count": 8
         },
         {
          "HGVS_C": "c.11691C>T",
          "Unique_Sample_Count": 4
         },
         {
          "HGVS_C": "c.11727A>G",
          "Unique_Sample_Count": 4
         },
         {
          "HGVS_C": "c.1172C>T",
          "Unique_Sample_Count": 6
         },
         {
          "HGVS_C": "c.11811C>T",
          "Unique_Sample_Count": 6
         },
         {
          "HGVS_C": "c.11829T>C",
          "Unique_Sample_Count": 2
         },
         {
          "HGVS_C": "c.1193C>T",
          "Unique_Sample_Count": 4
         },
         {
          "HGVS_C": "c.1194A>G",
          "Unique_Sample_Count": 2
         },
         {
          "HGVS_C": "c.11999A>G",
          "Unique_Sample_Count": 4
         },
         {
          "HGVS_C": "c.11T>C",
          "Unique_Sample_Count": 4
         },
         {
          "HGVS_C": "c.120A>G",
          "Unique_Sample_Count": 4
         },
         {
          "HGVS_C": "c.12223C>T",
          "Unique_Sample_Count": 4
         },
         {
          "HGVS_C": "c.12249G>T",
          "Unique_Sample_Count": 4
         },
         {
          "HGVS_C": "c.1236C>T",
          "Unique_Sample_Count": 18
         },
         {
          "HGVS_C": "c.1239G>T",
          "Unique_Sample_Count": 4
         },
         {
          "HGVS_C": "c.1250A>C",
          "Unique_Sample_Count": 4
         },
         {
          "HGVS_C": "c.12513C>T",
          "Unique_Sample_Count": 4
         },
         {
          "HGVS_C": "c.1251G>T",
          "Unique_Sample_Count": 80
         },
         {
          "HGVS_C": "c.12523A>G",
          "Unique_Sample_Count": 4
         },
         {
          "HGVS_C": "c.12536G>A",
          "Unique_Sample_Count": 4
         },
         {
          "HGVS_C": "c.12544C>T",
          "Unique_Sample_Count": 6
         },
         {
          "HGVS_C": "c.12659C>T",
          "Unique_Sample_Count": 4
         },
         {
          "HGVS_C": "c.12668C>T",
          "Unique_Sample_Count": 6
         },
         {
          "HGVS_C": "c.12678G>T",
          "Unique_Sample_Count": 4
         },
         {
          "HGVS_C": "c.12930T>C",
          "Unique_Sample_Count": 80
         },
         {
          "HGVS_C": "c.1296C>T",
          "Unique_Sample_Count": 4
         },
         {
          "HGVS_C": "c.129T>C",
          "Unique_Sample_Count": 2
         },
         {
          "HGVS_C": "c.12C>G",
          "Unique_Sample_Count": 6
         },
         {
          "HGVS_C": "c.13032C>T",
          "Unique_Sample_Count": 4
         },
         {
          "HGVS_C": "c.13089T>C",
          "Unique_Sample_Count": 4
         },
         {
          "HGVS_C": "c.13119C>T",
          "Unique_Sample_Count": 6
         },
         {
          "HGVS_C": "c.13187C>T",
          "Unique_Sample_Count": 4
         },
         {
          "HGVS_C": "c.1320T>G",
          "Unique_Sample_Count": 80
         },
         {
          "HGVS_C": "c.13271C>T",
          "Unique_Sample_Count": 6
         },
         {
          "HGVS_C": "c.1336G>A",
          "Unique_Sample_Count": 80
         },
         {
          "HGVS_C": "c.13400C>T",
          "Unique_Sample_Count": 6
         },
         {
          "HGVS_C": "c.13465C>T",
          "Unique_Sample_Count": 4
         },
         {
          "HGVS_C": "c.1355T>A",
          "Unique_Sample_Count": 6
         },
         {
          "HGVS_C": "c.1355T>G",
          "Unique_Sample_Count": 52
         },
         {
          "HGVS_C": "c.13595C>T",
          "Unique_Sample_Count": 4
         },
         {
          "HGVS_C": "c.13749T>G",
          "Unique_Sample_Count": 4
         },
         {
          "HGVS_C": "c.1383C>T",
          "Unique_Sample_Count": 4
         },
         {
          "HGVS_C": "c.13913C>T",
          "Unique_Sample_Count": 6
         },
         {
          "HGVS_C": "c.13931T>C",
          "Unique_Sample_Count": 4
         },
         {
          "HGVS_C": "c.13C>T",
          "Unique_Sample_Count": 10
         },
         {
          "HGVS_C": "c.14025G>A",
          "Unique_Sample_Count": 6
         },
         {
          "HGVS_C": "c.140A>T",
          "Unique_Sample_Count": 4
         },
         {
          "HGVS_C": "c.14143C>T",
          "Unique_Sample_Count": 224
         },
         {
          "HGVS_C": "c.14183T>C",
          "Unique_Sample_Count": 2
         },
         {
          "HGVS_C": "c.1430G>A",
          "Unique_Sample_Count": 80
         },
         {
          "HGVS_C": "c.1433C>A",
          "Unique_Sample_Count": 132
         },
         {
          "HGVS_C": "c.1435C>T",
          "Unique_Sample_Count": 2
         },
         {
          "HGVS_C": "c.14405C>T",
          "Unique_Sample_Count": 6
         },
         {
          "HGVS_C": "c.14411C>T",
          "Unique_Sample_Count": 38
         },
         {
          "HGVS_C": "c.1450G>A",
          "Unique_Sample_Count": 4
         },
         {
          "HGVS_C": "c.1451A>C",
          "Unique_Sample_Count": 80
         },
         {
          "HGVS_C": "c.14525C>T",
          "Unique_Sample_Count": 4
         },
         {
          "HGVS_C": "c.14540C>T",
          "Unique_Sample_Count": 12
         },
         {
          "HGVS_C": "c.14543T>C",
          "Unique_Sample_Count": 6
         },
         {
          "HGVS_C": "c.14564G>T",
          "Unique_Sample_Count": 4
         },
         {
          "HGVS_C": "c.145G>T",
          "Unique_Sample_Count": 6
         },
         {
          "HGVS_C": "c.1469T>C",
          "Unique_Sample_Count": 6
         },
         {
          "HGVS_C": "c.1473G>T",
          "Unique_Sample_Count": 6
         },
         {
          "HGVS_C": "c.1476A>G",
          "Unique_Sample_Count": 4
         },
         {
          "HGVS_C": "c.1478A>G",
          "Unique_Sample_Count": 80
         },
         {
          "HGVS_C": "c.1486G>A",
          "Unique_Sample_Count": 80
         },
         {
          "HGVS_C": "c.14876C>T",
          "Unique_Sample_Count": 4
         },
         {
          "HGVS_C": "c.1493A>G",
          "Unique_Sample_Count": 80
         },
         {
          "HGVS_C": "c.14975C>T",
          "Unique_Sample_Count": 88
         },
         {
          "HGVS_C": "c.15014C>T",
          "Unique_Sample_Count": 38
         },
         {
          "HGVS_C": "c.1501A>T",
          "Unique_Sample_Count": 122
         },
         {
          "HGVS_C": "c.15103C>T",
          "Unique_Sample_Count": 4
         },
         {
          "HGVS_C": "c.1513T>C",
          "Unique_Sample_Count": 80
         },
         {
          "HGVS_C": "c.15186G>A",
          "Unique_Sample_Count": 52
         },
         {
          "HGVS_C": "c.15389C>T",
          "Unique_Sample_Count": 2
         },
         {
          "HGVS_C": "c.15455C>T",
          "Unique_Sample_Count": 6
         },
         {
          "HGVS_C": "c.15498C>T",
          "Unique_Sample_Count": 4
         },
         {
          "HGVS_C": "c.154G>T",
          "Unique_Sample_Count": 6
         },
         {
          "HGVS_C": "c.155G>T",
          "Unique_Sample_Count": 38
         },
         {
          "HGVS_C": "c.1561C>T",
          "Unique_Sample_Count": 2
         },
         {
          "HGVS_C": "c.15629G>T",
          "Unique_Sample_Count": 6
         },
         {
          "HGVS_C": "c.15911T>C",
          "Unique_Sample_Count": 38
         },
         {
          "HGVS_C": "c.159C>T",
          "Unique_Sample_Count": 8
         },
         {
          "HGVS_C": "c.16046A>G",
          "Unique_Sample_Count": 8
         },
         {
          "HGVS_C": "c.16067C>T",
          "Unique_Sample_Count": 4
         },
         {
          "HGVS_C": "c.1613C>T",
          "Unique_Sample_Count": 4
         },
         {
          "HGVS_C": "c.16201C>T",
          "Unique_Sample_Count": 52
         },
         {
          "HGVS_C": "c.1640C>A",
          "Unique_Sample_Count": 86
         },
         {
          "HGVS_C": "c.1644C>T",
          "Unique_Sample_Count": 4
         },
         {
          "HGVS_C": "c.16461C>T",
          "Unique_Sample_Count": 4
         },
         {
          "HGVS_C": "c.164C>T",
          "Unique_Sample_Count": 4
         },
         {
          "HGVS_C": "c.165C>T",
          "Unique_Sample_Count": 4
         },
         {
          "HGVS_C": "c.16617A>G",
          "Unique_Sample_Count": 4
         },
         {
          "HGVS_C": "c.16622C>T",
          "Unique_Sample_Count": 6
         },
         {
          "HGVS_C": "c.1662T>C",
          "Unique_Sample_Count": 8
         },
         {
          "HGVS_C": "c.16689C>T",
          "Unique_Sample_Count": 4
         },
         {
          "HGVS_C": "c.16721T>C",
          "Unique_Sample_Count": 10
         },
         {
          "HGVS_C": "c.1677G>T",
          "Unique_Sample_Count": 8
         },
         {
          "HGVS_C": "c.16782A>G",
          "Unique_Sample_Count": 1
         },
         {
          "HGVS_C": "c.16839C>T",
          "Unique_Sample_Count": 4
         },
         {
          "HGVS_C": "c.16854C>T",
          "Unique_Sample_Count": 2
         },
         {
          "HGVS_C": "c.16857G>T",
          "Unique_Sample_Count": 8
         },
         {
          "HGVS_C": "c.16860C>T",
          "Unique_Sample_Count": 12
         },
         {
          "HGVS_C": "c.16875G>T",
          "Unique_Sample_Count": 4
         },
         {
          "HGVS_C": "c.16979A>G",
          "Unique_Sample_Count": 4
         },
         {
          "HGVS_C": "c.16994G>T",
          "Unique_Sample_Count": 4
         },
         {
          "HGVS_C": "c.17073G>T",
          "Unique_Sample_Count": 6
         },
         {
          "HGVS_C": "c.1709C>A",
          "Unique_Sample_Count": 38
         },
         {
          "HGVS_C": "c.17120T>C",
          "Unique_Sample_Count": 4
         },
         {
          "HGVS_C": "c.17145C>T",
          "Unique_Sample_Count": 4
         },
         {
          "HGVS_C": "c.17178G>T",
          "Unique_Sample_Count": 4
         },
         {
          "HGVS_C": "c.171G>T",
          "Unique_Sample_Count": 30
         },
         {
          "HGVS_C": "c.17213G>A",
          "Unique_Sample_Count": 4
         },
         {
          "HGVS_C": "c.1722T>C",
          "Unique_Sample_Count": 8
         },
         {
          "HGVS_C": "c.17285C>T",
          "Unique_Sample_Count": 4
         },
         {
          "HGVS_C": "c.17438C>T",
          "Unique_Sample_Count": 4
         },
         {
          "HGVS_C": "c.17481C>T",
          "Unique_Sample_Count": 2
         },
         {
          "HGVS_C": "c.17482C>T",
          "Unique_Sample_Count": 4
         },
         {
          "HGVS_C": "c.174C>T",
          "Unique_Sample_Count": 4
         },
         {
          "HGVS_C": "c.17516T>C",
          "Unique_Sample_Count": 4
         },
         {
          "HGVS_C": "c.17534A>G",
          "Unique_Sample_Count": 10
         },
         {
          "HGVS_C": "c.17610A>G",
          "Unique_Sample_Count": 4
         },
         {
          "HGVS_C": "c.17898A>G",
          "Unique_Sample_Count": 80
         },
         {
          "HGVS_C": "c.1797C>T",
          "Unique_Sample_Count": 8
         },
         {
          "HGVS_C": "c.17990G>T",
          "Unique_Sample_Count": 4
         },
         {
          "HGVS_C": "c.180G>A",
          "Unique_Sample_Count": 4
         },
         {
          "HGVS_C": "c.180G>T",
          "Unique_Sample_Count": 4
         },
         {
          "HGVS_C": "c.18152T>C",
          "Unique_Sample_Count": 2
         },
         {
          "HGVS_C": "c.18159A>G",
          "Unique_Sample_Count": 30
         },
         {
          "HGVS_C": "c.18221C>T",
          "Unique_Sample_Count": 4
         },
         {
          "HGVS_C": "c.1837C>T",
          "Unique_Sample_Count": 4
         },
         {
          "HGVS_C": "c.18412G>T",
          "Unique_Sample_Count": 2
         },
         {
          "HGVS_C": "c.1841A>G",
          "Unique_Sample_Count": 224
         },
         {
          "HGVS_C": "c.18434T>C",
          "Unique_Sample_Count": 4
         },
         {
          "HGVS_C": "c.18612C>T",
          "Unique_Sample_Count": 2
         },
         {
          "HGVS_C": "c.18623C>T",
          "Unique_Sample_Count": 4
         },
         {
          "HGVS_C": "c.18683G>T",
          "Unique_Sample_Count": 4
         },
         {
          "HGVS_C": "c.18741G>T",
          "Unique_Sample_Count": 4
         },
         {
          "HGVS_C": "c.1876G>T",
          "Unique_Sample_Count": 8
         },
         {
          "HGVS_C": "c.187G>A",
          "Unique_Sample_Count": 80
         },
         {
          "HGVS_C": "c.18891C>T",
          "Unique_Sample_Count": 6
         },
         {
          "HGVS_C": "c.188A>G",
          "Unique_Sample_Count": 52
         },
         {
          "HGVS_C": "c.18955C>T",
          "Unique_Sample_Count": 52
         },
         {
          "HGVS_C": "c.19008C>T",
          "Unique_Sample_Count": 6
         },
         {
          "HGVS_C": "c.19073A>G",
          "Unique_Sample_Count": 4
         },
         {
          "HGVS_C": "c.19124T>G",
          "Unique_Sample_Count": 4
         },
         {
          "HGVS_C": "c.19211A>G",
          "Unique_Sample_Count": 2
         },
         {
          "HGVS_C": "c.192C>T",
          "Unique_Sample_Count": 80
         },
         {
          "HGVS_C": "c.1936T>A",
          "Unique_Sample_Count": 24
         },
         {
          "HGVS_C": "c.19380G>T",
          "Unique_Sample_Count": 4
         },
         {
          "HGVS_C": "c.193G>T",
          "Unique_Sample_Count": 6
         },
         {
          "HGVS_C": "c.19453C>T",
          "Unique_Sample_Count": 4
         },
         {
          "HGVS_C": "c.19562G>T",
          "Unique_Sample_Count": 6
         },
         {
          "HGVS_C": "c.19594C>T",
          "Unique_Sample_Count": 6
         },
         {
          "HGVS_C": "c.1960G>A",
          "Unique_Sample_Count": 4
         },
         {
          "HGVS_C": "c.1963C>T",
          "Unique_Sample_Count": 84
         },
         {
          "HGVS_C": "c.19679C>T",
          "Unique_Sample_Count": 6
         },
         {
          "HGVS_C": "c.19684A>G",
          "Unique_Sample_Count": 4
         },
         {
          "HGVS_C": "c.1971C>T",
          "Unique_Sample_Count": 4
         },
         {
          "HGVS_C": "c.19811A>G",
          "Unique_Sample_Count": 2
         },
         {
          "HGVS_C": "c.1993G>A",
          "Unique_Sample_Count": 6
         },
         {
          "HGVS_C": "c.199C>T",
          "Unique_Sample_Count": 38
         },
         {
          "HGVS_C": "c.20003A>G",
          "Unique_Sample_Count": 10
         },
         {
          "HGVS_C": "c.200C>T",
          "Unique_Sample_Count": 84
         },
         {
          "HGVS_C": "c.20262G>T",
          "Unique_Sample_Count": 4
         },
         {
          "HGVS_C": "c.202A>G",
          "Unique_Sample_Count": 8
         },
         {
          "HGVS_C": "c.2031G>T",
          "Unique_Sample_Count": 8
         },
         {
          "HGVS_C": "c.2037T>G",
          "Unique_Sample_Count": 80
         },
         {
          "HGVS_C": "c.2038A>G",
          "Unique_Sample_Count": 4
         },
         {
          "HGVS_C": "c.2042C>A",
          "Unique_Sample_Count": 118
         },
         {
          "HGVS_C": "c.2042C>G",
          "Unique_Sample_Count": 52
         },
         {
          "HGVS_C": "c.20534T>C",
          "Unique_Sample_Count": 6
         },
         {
          "HGVS_C": "c.20541C>T",
          "Unique_Sample_Count": 6
         },
         {
          "HGVS_C": "c.20690T>C",
          "Unique_Sample_Count": 6
         },
         {
          "HGVS_C": "c.2069A>G",
          "Unique_Sample_Count": 4
         },
         {
          "HGVS_C": "c.20722C>T",
          "Unique_Sample_Count": 4
         },
         {
          "HGVS_C": "c.20843C>T",
          "Unique_Sample_Count": 4
         },
         {
          "HGVS_C": "c.2102C>T",
          "Unique_Sample_Count": 4
         },
         {
          "HGVS_C": "c.21039C>T",
          "Unique_Sample_Count": 30
         },
         {
          "HGVS_C": "c.21059T>C",
          "Unique_Sample_Count": 4
         },
         {
          "HGVS_C": "c.21107G>T",
          "Unique_Sample_Count": 10
         },
         {
          "HGVS_C": "c.211G>A",
          "Unique_Sample_Count": 10
         },
         {
          "HGVS_C": "c.2147C>T",
          "Unique_Sample_Count": 38
         },
         {
          "HGVS_C": "c.215A>G",
          "Unique_Sample_Count": 4
         },
         {
          "HGVS_C": "c.2169C>T",
          "Unique_Sample_Count": 6
         },
         {
          "HGVS_C": "c.2180C>T",
          "Unique_Sample_Count": 6
         },
         {
          "HGVS_C": "c.218A>G",
          "Unique_Sample_Count": 38
         },
         {
          "HGVS_C": "c.2205C>T",
          "Unique_Sample_Count": 58
         },
         {
          "HGVS_C": "c.2244A>G",
          "Unique_Sample_Count": 6
         },
         {
          "HGVS_C": "c.224G>T",
          "Unique_Sample_Count": 6
         },
         {
          "HGVS_C": "c.2253G>A",
          "Unique_Sample_Count": 6
         },
         {
          "HGVS_C": "c.227C>T",
          "Unique_Sample_Count": 6
         },
         {
          "HGVS_C": "c.2292C>A",
          "Unique_Sample_Count": 1
         },
         {
          "HGVS_C": "c.234C>T",
          "Unique_Sample_Count": 4
         },
         {
          "HGVS_C": "c.2386G>T",
          "Unique_Sample_Count": 80
         },
         {
          "HGVS_C": "c.239C>G",
          "Unique_Sample_Count": 4
         },
         {
          "HGVS_C": "c.23C>T",
          "Unique_Sample_Count": 2
         },
         {
          "HGVS_C": "c.2420C>T",
          "Unique_Sample_Count": 4
         },
         {
          "HGVS_C": "c.245T>C",
          "Unique_Sample_Count": 52
         },
         {
          "HGVS_C": "c.2465A>G",
          "Unique_Sample_Count": 4
         },
         {
          "HGVS_C": "c.2476G>T",
          "Unique_Sample_Count": 6
         },
         {
          "HGVS_C": "c.2484C>T",
          "Unique_Sample_Count": 4
         },
         {
          "HGVS_C": "c.2567A>G",
          "Unique_Sample_Count": 80
         },
         {
          "HGVS_C": "c.2568C>A",
          "Unique_Sample_Count": 80
         },
         {
          "HGVS_C": "c.2568C>T",
          "Unique_Sample_Count": 6
         },
         {
          "HGVS_C": "c.2576C>A",
          "Unique_Sample_Count": 6
         },
         {
          "HGVS_C": "c.2637G>T",
          "Unique_Sample_Count": 4
         },
         {
          "HGVS_C": "c.26C>T",
          "Unique_Sample_Count": 80
         },
         {
          "HGVS_C": "c.274G>A",
          "Unique_Sample_Count": 4
         },
         {
          "HGVS_C": "c.274T>A",
          "Unique_Sample_Count": 4
         },
         {
          "HGVS_C": "c.2772C>T",
          "Unique_Sample_Count": 224
         },
         {
          "HGVS_C": "c.2787G>A",
          "Unique_Sample_Count": 4
         },
         {
          "HGVS_C": "c.278T>C",
          "Unique_Sample_Count": 2
         },
         {
          "HGVS_C": "c.281C>T",
          "Unique_Sample_Count": 6
         },
         {
          "HGVS_C": "c.2848G>A",
          "Unique_Sample_Count": 52
         },
         {
          "HGVS_C": "c.284C>T",
          "Unique_Sample_Count": 88
         },
         {
          "HGVS_C": "c.2862A>T",
          "Unique_Sample_Count": 80
         },
         {
          "HGVS_C": "c.2907T>A",
          "Unique_Sample_Count": 80
         },
         {
          "HGVS_C": "c.2941C>T",
          "Unique_Sample_Count": 80
         },
         {
          "HGVS_C": "c.2944T>G",
          "Unique_Sample_Count": 38
         },
         {
          "HGVS_C": "c.29C>T",
          "Unique_Sample_Count": 4
         },
         {
          "HGVS_C": "c.3002C>T",
          "Unique_Sample_Count": 38
         },
         {
          "HGVS_C": "c.3022G>A",
          "Unique_Sample_Count": 2
         },
         {
          "HGVS_C": "c.3028C>T",
          "Unique_Sample_Count": 4
         },
         {
          "HGVS_C": "c.3060T>C",
          "Unique_Sample_Count": 4
         },
         {
          "HGVS_C": "c.3080C>T",
          "Unique_Sample_Count": 4
         },
         {
          "HGVS_C": "c.3085A>G",
          "Unique_Sample_Count": 4
         },
         {
          "HGVS_C": "c.3117C>T",
          "Unique_Sample_Count": 2
         },
         {
          "HGVS_C": "c.3168G>T",
          "Unique_Sample_Count": 10
         },
         {
          "HGVS_C": "c.316C>T",
          "Unique_Sample_Count": 4
         },
         {
          "HGVS_C": "c.3303C>T",
          "Unique_Sample_Count": 4
         },
         {
          "HGVS_C": "c.330C>T",
          "Unique_Sample_Count": 4
         },
         {
          "HGVS_C": "c.3352G>C",
          "Unique_Sample_Count": 38
         },
         {
          "HGVS_C": "c.336C>T",
          "Unique_Sample_Count": 4
         },
         {
          "HGVS_C": "c.339T>C",
          "Unique_Sample_Count": 4
         },
         {
          "HGVS_C": "c.33C>T",
          "Unique_Sample_Count": 34
         },
         {
          "HGVS_C": "c.3438C>T",
          "Unique_Sample_Count": 80
         },
         {
          "HGVS_C": "c.346C>T",
          "Unique_Sample_Count": 4
         },
         {
          "HGVS_C": "c.3476T>G",
          "Unique_Sample_Count": 4
         },
         {
          "HGVS_C": "c.348C>T",
          "Unique_Sample_Count": 4
         },
         {
          "HGVS_C": "c.351C>T",
          "Unique_Sample_Count": 4
         },
         {
          "HGVS_C": "c.3526G>T",
          "Unique_Sample_Count": 4
         },
         {
          "HGVS_C": "c.3563C>T",
          "Unique_Sample_Count": 4
         },
         {
          "HGVS_C": "c.359C>T",
          "Unique_Sample_Count": 52
         },
         {
          "HGVS_C": "c.360A>G",
          "Unique_Sample_Count": 12
         },
         {
          "HGVS_C": "c.360C>T",
          "Unique_Sample_Count": 6
         },
         {
          "HGVS_C": "c.361A>T",
          "Unique_Sample_Count": 1
         },
         {
          "HGVS_C": "c.3661A>G",
          "Unique_Sample_Count": 4
         },
         {
          "HGVS_C": "c.3668A>C",
          "Unique_Sample_Count": 24
         },
         {
          "HGVS_C": "c.368T>C",
          "Unique_Sample_Count": 6
         },
         {
          "HGVS_C": "c.3700G>T",
          "Unique_Sample_Count": 4
         },
         {
          "HGVS_C": "c.372C>T",
          "Unique_Sample_Count": 6
         },
         {
          "HGVS_C": "c.3737C>T",
          "Unique_Sample_Count": 6
         },
         {
          "HGVS_C": "c.3777C>T",
          "Unique_Sample_Count": 8
         },
         {
          "HGVS_C": "c.379C>G",
          "Unique_Sample_Count": 4
         },
         {
          "HGVS_C": "c.3835T>C",
          "Unique_Sample_Count": 6
         },
         {
          "HGVS_C": "c.38C>T",
          "Unique_Sample_Count": 90
         },
         {
          "HGVS_C": "c.3916G>T",
          "Unique_Sample_Count": 52
         },
         {
          "HGVS_C": "c.39T>C",
          "Unique_Sample_Count": 6
         },
         {
          "HGVS_C": "c.400C>T",
          "Unique_Sample_Count": 2
         },
         {
          "HGVS_C": "c.404C>T",
          "Unique_Sample_Count": 4
         },
         {
          "HGVS_C": "c.4055C>T",
          "Unique_Sample_Count": 8
         },
         {
          "HGVS_C": "c.412G>T",
          "Unique_Sample_Count": 4
         },
         {
          "HGVS_C": "c.4190C>T",
          "Unique_Sample_Count": 4
         },
         {
          "HGVS_C": "c.4210C>T",
          "Unique_Sample_Count": 6
         },
         {
          "HGVS_C": "c.425G>A",
          "Unique_Sample_Count": 34
         },
         {
          "HGVS_C": "c.4331C>A",
          "Unique_Sample_Count": 6
         },
         {
          "HGVS_C": "c.439G>A",
          "Unique_Sample_Count": 8
         },
         {
          "HGVS_C": "c.452C>T",
          "Unique_Sample_Count": 4
         },
         {
          "HGVS_C": "c.4639G>T",
          "Unique_Sample_Count": 4
         },
         {
          "HGVS_C": "c.4640A>C",
          "Unique_Sample_Count": 2
         },
         {
          "HGVS_C": "c.468T>C",
          "Unique_Sample_Count": 4
         },
         {
          "HGVS_C": "c.4760C>T",
          "Unique_Sample_Count": 4
         },
         {
          "HGVS_C": "c.47T>C",
          "Unique_Sample_Count": 4
         },
         {
          "HGVS_C": "c.48G>T",
          "Unique_Sample_Count": 4
         },
         {
          "HGVS_C": "c.4938C>T",
          "Unique_Sample_Count": 4
         },
         {
          "HGVS_C": "c.49C>T",
          "Unique_Sample_Count": 8
         },
         {
          "HGVS_C": "c.5019C>T",
          "Unique_Sample_Count": 4
         },
         {
          "HGVS_C": "c.5121T>G",
          "Unique_Sample_Count": 80
         },
         {
          "HGVS_C": "c.5123C>A",
          "Unique_Sample_Count": 38
         },
         {
          "HGVS_C": "c.514G>T",
          "Unique_Sample_Count": 4
         },
         {
          "HGVS_C": "c.515G>T",
          "Unique_Sample_Count": 30
         },
         {
          "HGVS_C": "c.520C>T",
          "Unique_Sample_Count": 1
         },
         {
          "HGVS_C": "c.5250G>T",
          "Unique_Sample_Count": 4
         },
         {
          "HGVS_C": "c.52C>T",
          "Unique_Sample_Count": 4
         },
         {
          "HGVS_C": "c.5319A>G",
          "Unique_Sample_Count": 4
         },
         {
          "HGVS_C": "c.5363C>T",
          "Unique_Sample_Count": 6
         },
         {
          "HGVS_C": "c.5383A>C",
          "Unique_Sample_Count": 4
         },
         {
          "HGVS_C": "c.542G>T",
          "Unique_Sample_Count": 2
         },
         {
          "HGVS_C": "c.5465C>T",
          "Unique_Sample_Count": 6
         },
         {
          "HGVS_C": "c.549G>A",
          "Unique_Sample_Count": 4
         },
         {
          "HGVS_C": "c.5547C>T",
          "Unique_Sample_Count": 10
         },
         {
          "HGVS_C": "c.55C>G",
          "Unique_Sample_Count": 80
         },
         {
          "HGVS_C": "c.56C>G",
          "Unique_Sample_Count": 52
         },
         {
          "HGVS_C": "c.570G>T",
          "Unique_Sample_Count": 4
         },
         {
          "HGVS_C": "c.5721C>T",
          "Unique_Sample_Count": 38
         },
         {
          "HGVS_C": "c.5775C>T",
          "Unique_Sample_Count": 4
         },
         {
          "HGVS_C": "c.581C>T",
          "Unique_Sample_Count": 10
         },
         {
          "HGVS_C": "c.5880C>T",
          "Unique_Sample_Count": 6
         },
         {
          "HGVS_C": "c.58A>C",
          "Unique_Sample_Count": 80
         },
         {
          "HGVS_C": "c.596C>T",
          "Unique_Sample_Count": 30
         },
         {
          "HGVS_C": "c.59C>A",
          "Unique_Sample_Count": 4
         },
         {
          "HGVS_C": "c.6007T>A",
          "Unique_Sample_Count": 8
         },
         {
          "HGVS_C": "c.600T>C",
          "Unique_Sample_Count": 4
         },
         {
          "HGVS_C": "c.6045C>T",
          "Unique_Sample_Count": 4
         },
         {
          "HGVS_C": "c.6054A>G",
          "Unique_Sample_Count": 4
         },
         {
          "HGVS_C": "c.6087G>T",
          "Unique_Sample_Count": 2
         },
         {
          "HGVS_C": "c.608G>T",
          "Unique_Sample_Count": 52
         },
         {
          "HGVS_C": "c.6107T>C",
          "Unique_Sample_Count": 2
         },
         {
          "HGVS_C": "c.610G>C",
          "Unique_Sample_Count": 131
         },
         {
          "HGVS_C": "c.6111T>C",
          "Unique_Sample_Count": 4
         },
         {
          "HGVS_C": "c.6137C>T",
          "Unique_Sample_Count": 52
         },
         {
          "HGVS_C": "c.6176A>G",
          "Unique_Sample_Count": 6
         },
         {
          "HGVS_C": "c.619C>T",
          "Unique_Sample_Count": 6
         },
         {
          "HGVS_C": "c.6205A>G",
          "Unique_Sample_Count": 2
         },
         {
          "HGVS_C": "c.623C>T",
          "Unique_Sample_Count": 12
         },
         {
          "HGVS_C": "c.6265G>A",
          "Unique_Sample_Count": 4
         },
         {
          "HGVS_C": "c.6294T>G",
          "Unique_Sample_Count": 8
         },
         {
          "HGVS_C": "c.6348A>G",
          "Unique_Sample_Count": 4
         },
         {
          "HGVS_C": "c.6373C>T",
          "Unique_Sample_Count": 4
         },
         {
          "HGVS_C": "c.6389T>C",
          "Unique_Sample_Count": 4
         },
         {
          "HGVS_C": "c.640G>T",
          "Unique_Sample_Count": 6
         },
         {
          "HGVS_C": "c.6431C>T",
          "Unique_Sample_Count": 4
         },
         {
          "HGVS_C": "c.643G>T",
          "Unique_Sample_Count": 52
         },
         {
          "HGVS_C": "c.645T>G",
          "Unique_Sample_Count": 4
         },
         {
          "HGVS_C": "c.648C>T",
          "Unique_Sample_Count": 38
         },
         {
          "HGVS_C": "c.65A>G",
          "Unique_Sample_Count": 4
         },
         {
          "HGVS_C": "c.666C>T",
          "Unique_Sample_Count": 24
         },
         {
          "HGVS_C": "c.6689T>C",
          "Unique_Sample_Count": 35
         },
         {
          "HGVS_C": "c.668C>T",
          "Unique_Sample_Count": 4
         },
         {
          "HGVS_C": "c.6859C>T",
          "Unique_Sample_Count": 54
         },
         {
          "HGVS_C": "c.693A>T",
          "Unique_Sample_Count": 8
         },
         {
          "HGVS_C": "c.7007G>A",
          "Unique_Sample_Count": 6
         },
         {
          "HGVS_C": "c.7038C>T",
          "Unique_Sample_Count": 4
         },
         {
          "HGVS_C": "c.704C>T",
          "Unique_Sample_Count": 37
         },
         {
          "HGVS_C": "c.7159T>G",
          "Unique_Sample_Count": 6
         },
         {
          "HGVS_C": "c.715G>C",
          "Unique_Sample_Count": 4
         },
         {
          "HGVS_C": "c.71C>T",
          "Unique_Sample_Count": 30
         },
         {
          "HGVS_C": "c.71G>A",
          "Unique_Sample_Count": 2
         },
         {
          "HGVS_C": "c.7214A>G",
          "Unique_Sample_Count": 4
         },
         {
          "HGVS_C": "c.7266A>G",
          "Unique_Sample_Count": 4
         },
         {
          "HGVS_C": "c.7447C>T",
          "Unique_Sample_Count": 4
         },
         {
          "HGVS_C": "c.7522G>A",
          "Unique_Sample_Count": 4
         },
         {
          "HGVS_C": "c.757T>C",
          "Unique_Sample_Count": 4
         },
         {
          "HGVS_C": "c.7586C>T",
          "Unique_Sample_Count": 4
         },
         {
          "HGVS_C": "c.761C>T",
          "Unique_Sample_Count": 4
         },
         {
          "HGVS_C": "c.7639T>A",
          "Unique_Sample_Count": 1
         },
         {
          "HGVS_C": "c.7661C>T",
          "Unique_Sample_Count": 16
         },
         {
          "HGVS_C": "c.76A>G",
          "Unique_Sample_Count": 6
         },
         {
          "HGVS_C": "c.76C>T",
          "Unique_Sample_Count": 4
         },
         {
          "HGVS_C": "c.777G>A",
          "Unique_Sample_Count": 18
         },
         {
          "HGVS_C": "c.779T>C",
          "Unique_Sample_Count": 4
         },
         {
          "HGVS_C": "c.77C>T",
          "Unique_Sample_Count": 52
         },
         {
          "HGVS_C": "c.7818G>A",
          "Unique_Sample_Count": 12
         },
         {
          "HGVS_C": "c.7875C>T",
          "Unique_Sample_Count": 6
         },
         {
          "HGVS_C": "c.794C>T",
          "Unique_Sample_Count": 30
         },
         {
          "HGVS_C": "c.7999G>T",
          "Unique_Sample_Count": 4
         },
         {
          "HGVS_C": "c.79C>T",
          "Unique_Sample_Count": 38
         },
         {
          "HGVS_C": "c.8034C>T",
          "Unique_Sample_Count": 4
         },
         {
          "HGVS_C": "c.8128G>A",
          "Unique_Sample_Count": 75
         },
         {
          "HGVS_C": "c.8278C>T",
          "Unique_Sample_Count": 4
         },
         {
          "HGVS_C": "c.8283G>T",
          "Unique_Sample_Count": 4
         },
         {
          "HGVS_C": "c.8372C>T",
          "Unique_Sample_Count": 6
         },
         {
          "HGVS_C": "c.8525G>T",
          "Unique_Sample_Count": 4
         },
         {
          "HGVS_C": "c.8564C>T",
          "Unique_Sample_Count": 4
         },
         {
          "HGVS_C": "c.8688T>C",
          "Unique_Sample_Count": 2
         },
         {
          "HGVS_C": "c.86C>T",
          "Unique_Sample_Count": 6
         },
         {
          "HGVS_C": "c.871C>T",
          "Unique_Sample_Count": 4
         },
         {
          "HGVS_C": "c.8721C>T",
          "Unique_Sample_Count": 52
         },
         {
          "HGVS_C": "c.8788G>T",
          "Unique_Sample_Count": 52
         },
         {
          "HGVS_C": "c.8805T>C",
          "Unique_Sample_Count": 4
         },
         {
          "HGVS_C": "c.8820A>G",
          "Unique_Sample_Count": 8
         },
         {
          "HGVS_C": "c.8939A>G",
          "Unique_Sample_Count": 6
         },
         {
          "HGVS_C": "c.8A>G",
          "Unique_Sample_Count": 80
         },
         {
          "HGVS_C": "c.90C>T",
          "Unique_Sample_Count": 4
         },
         {
          "HGVS_C": "c.9165C>T",
          "Unique_Sample_Count": 6
         },
         {
          "HGVS_C": "c.9294C>T",
          "Unique_Sample_Count": 8
         },
         {
          "HGVS_C": "c.92A>T",
          "Unique_Sample_Count": 4
         },
         {
          "HGVS_C": "c.939G>T",
          "Unique_Sample_Count": 6
         },
         {
          "HGVS_C": "c.93A>G",
          "Unique_Sample_Count": 4
         },
         {
          "HGVS_C": "c.9537G>T",
          "Unique_Sample_Count": 4
         },
         {
          "HGVS_C": "c.9592C>T",
          "Unique_Sample_Count": 10
         },
         {
          "HGVS_C": "c.9602T>C",
          "Unique_Sample_Count": 6
         },
         {
          "HGVS_C": "c.960C>T",
          "Unique_Sample_Count": 4
         },
         {
          "HGVS_C": "c.963A>G",
          "Unique_Sample_Count": 6
         },
         {
          "HGVS_C": "c.9764C>T",
          "Unique_Sample_Count": 138
         },
         {
          "HGVS_C": "c.980C>T",
          "Unique_Sample_Count": 4
         },
         {
          "HGVS_C": "c.9832G>A",
          "Unique_Sample_Count": 6
         },
         {
          "HGVS_C": "c.9870T>C",
          "Unique_Sample_Count": 4
         },
         {
          "HGVS_C": "c.9924C>T",
          "Unique_Sample_Count": 4
         },
         {
          "HGVS_C": "c.9987C>T",
          "Unique_Sample_Count": 6
         },
         {
          "HGVS_C": "c.999C>T",
          "Unique_Sample_Count": 6
         }
        ]
       },
       "encoding": {
        "color": {
         "field": "HGVS_C",
         "type": "nominal"
        },
        "tooltip": [
         {
          "field": "HGVS_C",
          "type": "nominal"
         },
         {
          "field": "Unique_Sample_Count",
          "type": "quantitative"
         }
        ],
        "x": {
         "field": "Unique_Sample_Count",
         "title": "Number of Samples",
         "type": "quantitative"
        },
        "y": {
         "axis": {
          "labels": false
         },
         "field": "HGVS_C",
         "sort": "-x",
         "title": "Nucleotide Change",
         "type": "nominal"
        }
       },
       "height": 400,
       "mark": {
        "type": "bar"
       },
       "title": "Number of Samples per Nucleotide Change",
       "width": 800
      },
      "text/plain": [
       "<VegaLite 5 object>\n",
       "\n",
       "If you see this message, it means the renderer has not been properly enabled\n",
       "for the frontend that you are using. For more information, see\n",
       "https://altair-viz.github.io/user_guide/display_frontends.html#troubleshooting\n"
      ]
     },
     "execution_count": 7,
     "metadata": {},
     "output_type": "execute_result"
    }
   ],
   "source": [
    "\n",
    "data = pd.read_csv('../data/modified_full_variants_long_table.csv')\n",
    "\n",
    "filtered_data = data[\n",
    "    (data['FILTER'] == 'PASS') & \n",
    "    (data['REF'].isin(['A', 'T', 'C', 'G'])) &\n",
    "    (data['ALT'].isin(['A', 'T', 'C', 'G']))\n",
    "]\n",
    "\n",
    "\n",
    "\n",
    "nuc_counts = filtered_data.groupby('HGVS_C')['SAMPLE'].nunique().reset_index()\n",
    "nuc_counts.columns = ['HGVS_C', 'Unique_Sample_Count']\n",
    "\n",
    "chart = alt.Chart(nuc_counts).mark_bar().encode(\n",
    "    x=alt.X('Unique_Sample_Count:Q', title='Number of Samples'),\n",
    "    y=alt.Y('HGVS_C:N', title='Nucleotide Change', sort='-x', axis=alt.Axis(labels=False)), # mod sort -x / x to reverse top/bottom\n",
    "    color='HGVS_C:N',\n",
    "    tooltip=['HGVS_C', 'Unique_Sample_Count']\n",
    ").properties(\n",
    "    title='Number of Samples per Nucleotide Change',\n",
    "    width=800,\n",
    "    height=400\n",
    ")#.interactive()\n",
    "\n",
    "chart\n"
   ]
  },
  {
   "cell_type": "code",
   "execution_count": null,
   "id": "61f7e28d-c26d-4894-be8c-57bcba8cbd3a",
   "metadata": {},
   "outputs": [],
   "source": []
  },
  {
   "cell_type": "code",
   "execution_count": 8,
   "id": "a07a0e03-e114-4726-99fe-4a7cf7c0787a",
   "metadata": {},
   "outputs": [
    {
     "data": {
      "application/vnd.vegalite.v5+json": {
       "$schema": "https://vega.github.io/schema/vega-lite/v5.17.0.json",
       "config": {
        "view": {
         "continuousHeight": 300,
         "continuousWidth": 300
        }
       },
       "datasets": {
        "data-a106dab616e13004f833928d5bfb91ad": [
         {
          "HGVS_P_1LETTER": "p.D614G",
          "Unique_Sample_Count": 224
         },
         {
          "HGVS_P_1LETTER": "p.T3255I",
          "Unique_Sample_Count": 138
         },
         {
          "HGVS_P_1LETTER": "p.T478K",
          "Unique_Sample_Count": 132
         },
         {
          "HGVS_P_1LETTER": "p.G204R",
          "Unique_Sample_Count": 131
         },
         {
          "HGVS_P_1LETTER": "p.N501Y",
          "Unique_Sample_Count": 122
         }
        ],
        "data-f40f33d643639c024ad25d2e96a9404d": [
         {
          "HGVS_P_1LETTER": "p.A1234S",
          "Unique_Sample_Count": 4
         },
         {
          "HGVS_P_1LETTER": "p.A1306S",
          "Unique_Sample_Count": 52
         },
         {
          "HGVS_P_1LETTER": "p.A1352V",
          "Unique_Sample_Count": 8
         },
         {
          "HGVS_P_1LETTER": "p.A1397V",
          "Unique_Sample_Count": 4
         },
         {
          "HGVS_P_1LETTER": "p.A1708D",
          "Unique_Sample_Count": 38
         },
         {
          "HGVS_P_1LETTER": "p.A208V",
          "Unique_Sample_Count": 6
         },
         {
          "HGVS_P_1LETTER": "p.A2508T",
          "Unique_Sample_Count": 4
         },
         {
          "HGVS_P_1LETTER": "p.A2529V",
          "Unique_Sample_Count": 4
         },
         {
          "HGVS_P_1LETTER": "p.A2554V",
          "Unique_Sample_Count": 16
         },
         {
          "HGVS_P_1LETTER": "p.A2710T",
          "Unique_Sample_Count": 75
         },
         {
          "HGVS_P_1LETTER": "p.A2855V",
          "Unique_Sample_Count": 4
         },
         {
          "HGVS_P_1LETTER": "p.A398V",
          "Unique_Sample_Count": 4
         },
         {
          "HGVS_P_1LETTER": "p.A4396V",
          "Unique_Sample_Count": 4
         },
         {
          "HGVS_P_1LETTER": "p.A570D",
          "Unique_Sample_Count": 38
         },
         {
          "HGVS_P_1LETTER": "p.A626S",
          "Unique_Sample_Count": 8
         },
         {
          "HGVS_P_1LETTER": "p.A63T",
          "Unique_Sample_Count": 80
         },
         {
          "HGVS_P_1LETTER": "p.A65S",
          "Unique_Sample_Count": 6
         },
         {
          "HGVS_P_1LETTER": "p.A67V",
          "Unique_Sample_Count": 80
         },
         {
          "HGVS_P_1LETTER": "p.A701V",
          "Unique_Sample_Count": 4
         },
         {
          "HGVS_P_1LETTER": "p.A8V",
          "Unique_Sample_Count": 2
         },
         {
          "HGVS_P_1LETTER": "p.C4855F",
          "Unique_Sample_Count": 4
         },
         {
          "HGVS_P_1LETTER": "p.C5210F",
          "Unique_Sample_Count": 6
         },
         {
          "HGVS_P_1LETTER": "p.C5997F",
          "Unique_Sample_Count": 4
         },
         {
          "HGVS_P_1LETTER": "p.D1118H",
          "Unique_Sample_Count": 38
         },
         {
          "HGVS_P_1LETTER": "p.D138Y",
          "Unique_Sample_Count": 4
         },
         {
          "HGVS_P_1LETTER": "p.D1547A",
          "Unique_Sample_Count": 2
         },
         {
          "HGVS_P_1LETTER": "p.D1547Y",
          "Unique_Sample_Count": 4
         },
         {
          "HGVS_P_1LETTER": "p.D215E",
          "Unique_Sample_Count": 4
         },
         {
          "HGVS_P_1LETTER": "p.D2980G",
          "Unique_Sample_Count": 6
         },
         {
          "HGVS_P_1LETTER": "p.D343G",
          "Unique_Sample_Count": 4
         },
         {
          "HGVS_P_1LETTER": "p.D35Y",
          "Unique_Sample_Count": 10
         },
         {
          "HGVS_P_1LETTER": "p.D371Y",
          "Unique_Sample_Count": 6
         },
         {
          "HGVS_P_1LETTER": "p.D377Y",
          "Unique_Sample_Count": 70
         },
         {
          "HGVS_P_1LETTER": "p.D3G",
          "Unique_Sample_Count": 80
         },
         {
          "HGVS_P_1LETTER": "p.D614G",
          "Unique_Sample_Count": 224
         },
         {
          "HGVS_P_1LETTER": "p.D63G",
          "Unique_Sample_Count": 52
         },
         {
          "HGVS_P_1LETTER": "p.D72G",
          "Unique_Sample_Count": 4
         },
         {
          "HGVS_P_1LETTER": "p.D796Y",
          "Unique_Sample_Count": 80
         },
         {
          "HGVS_P_1LETTER": "p.D950N",
          "Unique_Sample_Count": 52
         },
         {
          "HGVS_P_1LETTER": "p.E1223A",
          "Unique_Sample_Count": 24
         },
         {
          "HGVS_P_1LETTER": "p.E2089K",
          "Unique_Sample_Count": 4
         },
         {
          "HGVS_P_1LETTER": "p.E239Q",
          "Unique_Sample_Count": 4
         },
         {
          "HGVS_P_1LETTER": "p.E484A",
          "Unique_Sample_Count": 80
         },
         {
          "HGVS_P_1LETTER": "p.E484K",
          "Unique_Sample_Count": 4
         },
         {
          "HGVS_P_1LETTER": "p.E654K",
          "Unique_Sample_Count": 4
         },
         {
          "HGVS_P_1LETTER": "p.E92K",
          "Unique_Sample_Count": 4
         },
         {
          "HGVS_P_1LETTER": "p.F2387V",
          "Unique_Sample_Count": 6
         },
         {
          "HGVS_P_1LETTER": "p.F490S",
          "Unique_Sample_Count": 6
         },
         {
          "HGVS_P_1LETTER": "p.G142D",
          "Unique_Sample_Count": 34
         },
         {
          "HGVS_P_1LETTER": "p.G147S",
          "Unique_Sample_Count": 8
         },
         {
          "HGVS_P_1LETTER": "p.G172C",
          "Unique_Sample_Count": 4
         },
         {
          "HGVS_P_1LETTER": "p.G172V",
          "Unique_Sample_Count": 30
         },
         {
          "HGVS_P_1LETTER": "p.G181V",
          "Unique_Sample_Count": 2
         },
         {
          "HGVS_P_1LETTER": "p.G204R",
          "Unique_Sample_Count": 131
         },
         {
          "HGVS_P_1LETTER": "p.G214C",
          "Unique_Sample_Count": 6
         },
         {
          "HGVS_P_1LETTER": "p.G215C",
          "Unique_Sample_Count": 52
         },
         {
          "HGVS_P_1LETTER": "p.G2667C",
          "Unique_Sample_Count": 4
         },
         {
          "HGVS_P_1LETTER": "p.G2842V",
          "Unique_Sample_Count": 4
         },
         {
          "HGVS_P_1LETTER": "p.G3278S",
          "Unique_Sample_Count": 6
         },
         {
          "HGVS_P_1LETTER": "p.G339D",
          "Unique_Sample_Count": 80
         },
         {
          "HGVS_P_1LETTER": "p.G3578V",
          "Unique_Sample_Count": 4
         },
         {
          "HGVS_P_1LETTER": "p.G446S",
          "Unique_Sample_Count": 80
         },
         {
          "HGVS_P_1LETTER": "p.G496S",
          "Unique_Sample_Count": 80
         },
         {
          "HGVS_P_1LETTER": "p.G49C",
          "Unique_Sample_Count": 6
         },
         {
          "HGVS_P_1LETTER": "p.G52C",
          "Unique_Sample_Count": 6
         },
         {
          "HGVS_P_1LETTER": "p.G75V",
          "Unique_Sample_Count": 6
         },
         {
          "HGVS_P_1LETTER": "p.H2125Y",
          "Unique_Sample_Count": 4
         },
         {
          "HGVS_P_1LETTER": "p.H5401Y",
          "Unique_Sample_Count": 52
         },
         {
          "HGVS_P_1LETTER": "p.H5660R",
          "Unique_Sample_Count": 4
         },
         {
          "HGVS_P_1LETTER": "p.H655Y",
          "Unique_Sample_Count": 84
         },
         {
          "HGVS_P_1LETTER": "p.I1159R",
          "Unique_Sample_Count": 4
         },
         {
          "HGVS_P_1LETTER": "p.I121F",
          "Unique_Sample_Count": 1
         },
         {
          "HGVS_P_1LETTER": "p.I1221V",
          "Unique_Sample_Count": 4
         },
         {
          "HGVS_P_1LETTER": "p.I123T",
          "Unique_Sample_Count": 6
         },
         {
          "HGVS_P_1LETTER": "p.I2230T",
          "Unique_Sample_Count": 35
         },
         {
          "HGVS_P_1LETTER": "p.I26V",
          "Unique_Sample_Count": 6
         },
         {
          "HGVS_P_1LETTER": "p.I3731V",
          "Unique_Sample_Count": 18
         },
         {
          "HGVS_P_1LETTER": "p.I3758V",
          "Unique_Sample_Count": 80
         },
         {
          "HGVS_P_1LETTER": "p.I4848T",
          "Unique_Sample_Count": 6
         },
         {
          "HGVS_P_1LETTER": "p.I4T",
          "Unique_Sample_Count": 4
         },
         {
          "HGVS_P_1LETTER": "p.I5707T",
          "Unique_Sample_Count": 4
         },
         {
          "HGVS_P_1LETTER": "p.I5839T",
          "Unique_Sample_Count": 4
         },
         {
          "HGVS_P_1LETTER": "p.I6051T",
          "Unique_Sample_Count": 2
         },
         {
          "HGVS_P_1LETTER": "p.I6845T",
          "Unique_Sample_Count": 6
         },
         {
          "HGVS_P_1LETTER": "p.I6897T",
          "Unique_Sample_Count": 6
         },
         {
          "HGVS_P_1LETTER": "p.I82T",
          "Unique_Sample_Count": 52
         },
         {
          "HGVS_P_1LETTER": "p.K16N",
          "Unique_Sample_Count": 4
         },
         {
          "HGVS_P_1LETTER": "p.K1795Q",
          "Unique_Sample_Count": 4
         },
         {
          "HGVS_P_1LETTER": "p.K2029N",
          "Unique_Sample_Count": 2
         },
         {
          "HGVS_P_1LETTER": "p.K2059R",
          "Unique_Sample_Count": 6
         },
         {
          "HGVS_P_1LETTER": "p.K2761N",
          "Unique_Sample_Count": 4
         },
         {
          "HGVS_P_1LETTER": "p.K3573R",
          "Unique_Sample_Count": 4
         },
         {
          "HGVS_P_1LETTER": "p.K373R",
          "Unique_Sample_Count": 4
         },
         {
          "HGVS_P_1LETTER": "p.K4000R",
          "Unique_Sample_Count": 4
         },
         {
          "HGVS_P_1LETTER": "p.K417N",
          "Unique_Sample_Count": 80
         },
         {
          "HGVS_P_1LETTER": "p.K417T",
          "Unique_Sample_Count": 4
         },
         {
          "HGVS_P_1LETTER": "p.K4226N",
          "Unique_Sample_Count": 4
         },
         {
          "HGVS_P_1LETTER": "p.K6358R",
          "Unique_Sample_Count": 4
         },
         {
          "HGVS_P_1LETTER": "p.K680E",
          "Unique_Sample_Count": 4
         },
         {
          "HGVS_P_1LETTER": "p.K822R",
          "Unique_Sample_Count": 4
         },
         {
          "HGVS_P_1LETTER": "p.K856R",
          "Unique_Sample_Count": 80
         },
         {
          "HGVS_P_1LETTER": "p.L106F",
          "Unique_Sample_Count": 4
         },
         {
          "HGVS_P_1LETTER": "p.L116F",
          "Unique_Sample_Count": 4
         },
         {
          "HGVS_P_1LETTER": "p.L127V",
          "Unique_Sample_Count": 4
         },
         {
          "HGVS_P_1LETTER": "p.L17F",
          "Unique_Sample_Count": 8
         },
         {
          "HGVS_P_1LETTER": "p.L18F",
          "Unique_Sample_Count": 4
         },
         {
          "HGVS_P_1LETTER": "p.L2760F",
          "Unique_Sample_Count": 4
         },
         {
          "HGVS_P_1LETTER": "p.L3201P",
          "Unique_Sample_Count": 6
         },
         {
          "HGVS_P_1LETTER": "p.L3352F",
          "Unique_Sample_Count": 30
         },
         {
          "HGVS_P_1LETTER": "p.L3606F",
          "Unique_Sample_Count": 9
         },
         {
          "HGVS_P_1LETTER": "p.L3829F",
          "Unique_Sample_Count": 24
         },
         {
          "HGVS_P_1LETTER": "p.L4182F",
          "Unique_Sample_Count": 6
         },
         {
          "HGVS_P_1LETTER": "p.L452Q",
          "Unique_Sample_Count": 6
         },
         {
          "HGVS_P_1LETTER": "p.L452R",
          "Unique_Sample_Count": 52
         },
         {
          "HGVS_P_1LETTER": "p.L4644P",
          "Unique_Sample_Count": 4
         },
         {
          "HGVS_P_1LETTER": "p.L5304P",
          "Unique_Sample_Count": 38
         },
         {
          "HGVS_P_1LETTER": "p.L5574P",
          "Unique_Sample_Count": 10
         },
         {
          "HGVS_P_1LETTER": "p.L5F",
          "Unique_Sample_Count": 10
         },
         {
          "HGVS_P_1LETTER": "p.L60F",
          "Unique_Sample_Count": 4
         },
         {
          "HGVS_P_1LETTER": "p.L6145P",
          "Unique_Sample_Count": 4
         },
         {
          "HGVS_P_1LETTER": "p.L6754F",
          "Unique_Sample_Count": 4
         },
         {
          "HGVS_P_1LETTER": "p.L6908F",
          "Unique_Sample_Count": 4
         },
         {
          "HGVS_P_1LETTER": "p.L981F",
          "Unique_Sample_Count": 80
         },
         {
          "HGVS_P_1LETTER": "p.M2036T",
          "Unique_Sample_Count": 2
         },
         {
          "HGVS_P_1LETTER": "p.M2606I",
          "Unique_Sample_Count": 12
         },
         {
          "HGVS_P_1LETTER": "p.M260T",
          "Unique_Sample_Count": 4
         },
         {
          "HGVS_P_1LETTER": "p.M4728T",
          "Unique_Sample_Count": 2
         },
         {
          "HGVS_P_1LETTER": "p.M6460I",
          "Unique_Sample_Count": 4
         },
         {
          "HGVS_P_1LETTER": "p.M7020T",
          "Unique_Sample_Count": 4
         },
         {
          "HGVS_P_1LETTER": "p.N2405S",
          "Unique_Sample_Count": 4
         },
         {
          "HGVS_P_1LETTER": "p.N348D",
          "Unique_Sample_Count": 6
         },
         {
          "HGVS_P_1LETTER": "p.N440K",
          "Unique_Sample_Count": 80
         },
         {
          "HGVS_P_1LETTER": "p.N4583K",
          "Unique_Sample_Count": 4
         },
         {
          "HGVS_P_1LETTER": "p.N47I",
          "Unique_Sample_Count": 4
         },
         {
          "HGVS_P_1LETTER": "p.N501Y",
          "Unique_Sample_Count": 122
         },
         {
          "HGVS_P_1LETTER": "p.N6562D",
          "Unique_Sample_Count": 4
         },
         {
          "HGVS_P_1LETTER": "p.N6604S",
          "Unique_Sample_Count": 2
         },
         {
          "HGVS_P_1LETTER": "p.N679K",
          "Unique_Sample_Count": 80
         },
         {
          "HGVS_P_1LETTER": "p.N764K",
          "Unique_Sample_Count": 1
         },
         {
          "HGVS_P_1LETTER": "p.N856K",
          "Unique_Sample_Count": 80
         },
         {
          "HGVS_P_1LETTER": "p.N969K",
          "Unique_Sample_Count": 80
         },
         {
          "HGVS_P_1LETTER": "p.P1010S",
          "Unique_Sample_Count": 4
         },
         {
          "HGVS_P_1LETTER": "p.P10L",
          "Unique_Sample_Count": 4
         },
         {
          "HGVS_P_1LETTER": "p.P13L",
          "Unique_Sample_Count": 90
         },
         {
          "HGVS_P_1LETTER": "p.P174S",
          "Unique_Sample_Count": 1
         },
         {
          "HGVS_P_1LETTER": "p.P199L",
          "Unique_Sample_Count": 30
         },
         {
          "HGVS_P_1LETTER": "p.P2046L",
          "Unique_Sample_Count": 52
         },
         {
          "HGVS_P_1LETTER": "p.P2144L",
          "Unique_Sample_Count": 4
         },
         {
          "HGVS_P_1LETTER": "p.P2287S",
          "Unique_Sample_Count": 54
         },
         {
          "HGVS_P_1LETTER": "p.P2483S",
          "Unique_Sample_Count": 4
         },
         {
          "HGVS_P_1LETTER": "p.P26S",
          "Unique_Sample_Count": 4
         },
         {
          "HGVS_P_1LETTER": "p.P3395H",
          "Unique_Sample_Count": 80
         },
         {
          "HGVS_P_1LETTER": "p.P38L",
          "Unique_Sample_Count": 4
         },
         {
          "HGVS_P_1LETTER": "p.P4075S",
          "Unique_Sample_Count": 4
         },
         {
          "HGVS_P_1LETTER": "p.P4220L",
          "Unique_Sample_Count": 4
         },
         {
          "HGVS_P_1LETTER": "p.P4223L",
          "Unique_Sample_Count": 6
         },
         {
          "HGVS_P_1LETTER": "p.P4638L",
          "Unique_Sample_Count": 6
         },
         {
          "HGVS_P_1LETTER": "p.P479S",
          "Unique_Sample_Count": 2
         },
         {
          "HGVS_P_1LETTER": "p.P4804L",
          "Unique_Sample_Count": 38
         },
         {
          "HGVS_P_1LETTER": "p.P4959L",
          "Unique_Sample_Count": 4
         },
         {
          "HGVS_P_1LETTER": "p.P521S",
          "Unique_Sample_Count": 2
         },
         {
          "HGVS_P_1LETTER": "p.P6560L",
          "Unique_Sample_Count": 6
         },
         {
          "HGVS_P_1LETTER": "p.P67S",
          "Unique_Sample_Count": 38
         },
         {
          "HGVS_P_1LETTER": "p.P681H",
          "Unique_Sample_Count": 118
         },
         {
          "HGVS_P_1LETTER": "p.P681R",
          "Unique_Sample_Count": 52
         },
         {
          "HGVS_P_1LETTER": "p.P807L",
          "Unique_Sample_Count": 4
         },
         {
          "HGVS_P_1LETTER": "p.P80R",
          "Unique_Sample_Count": 4
         },
         {
          "HGVS_P_1LETTER": "p.Q19E",
          "Unique_Sample_Count": 80
         },
         {
          "HGVS_P_1LETTER": "p.Q22R",
          "Unique_Sample_Count": 4
         },
         {
          "HGVS_P_1LETTER": "p.Q493R",
          "Unique_Sample_Count": 80
         },
         {
          "HGVS_P_1LETTER": "p.Q498R",
          "Unique_Sample_Count": 80
         },
         {
          "HGVS_P_1LETTER": "p.Q5691H",
          "Unique_Sample_Count": 6
         },
         {
          "HGVS_P_1LETTER": "p.Q57H",
          "Unique_Sample_Count": 30
         },
         {
          "HGVS_P_1LETTER": "p.Q677H",
          "Unique_Sample_Count": 8
         },
         {
          "HGVS_P_1LETTER": "p.Q690R",
          "Unique_Sample_Count": 4
         },
         {
          "HGVS_P_1LETTER": "p.Q954H",
          "Unique_Sample_Count": 80
         },
         {
          "HGVS_P_1LETTER": "p.R134C",
          "Unique_Sample_Count": 2
         },
         {
          "HGVS_P_1LETTER": "p.R1404C",
          "Unique_Sample_Count": 6
         },
         {
          "HGVS_P_1LETTER": "p.R190S",
          "Unique_Sample_Count": 4
         },
         {
          "HGVS_P_1LETTER": "p.R203M",
          "Unique_Sample_Count": 52
         },
         {
          "HGVS_P_1LETTER": "p.R207C",
          "Unique_Sample_Count": 6
         },
         {
          "HGVS_P_1LETTER": "p.R2336K",
          "Unique_Sample_Count": 6
         },
         {
          "HGVS_P_1LETTER": "p.R24H",
          "Unique_Sample_Count": 2
         },
         {
          "HGVS_P_1LETTER": "p.R346K",
          "Unique_Sample_Count": 58
         },
         {
          "HGVS_P_1LETTER": "p.R4179K",
          "Unique_Sample_Count": 4
         },
         {
          "HGVS_P_1LETTER": "p.R52I",
          "Unique_Sample_Count": 38
         },
         {
          "HGVS_P_1LETTER": "p.R5738K",
          "Unique_Sample_Count": 4
         },
         {
          "HGVS_P_1LETTER": "p.R68G",
          "Unique_Sample_Count": 8
         },
         {
          "HGVS_P_1LETTER": "p.S1029G",
          "Unique_Sample_Count": 4
         },
         {
          "HGVS_P_1LETTER": "p.S1188L",
          "Unique_Sample_Count": 4
         },
         {
          "HGVS_P_1LETTER": "p.S1587L",
          "Unique_Sample_Count": 4
         },
         {
          "HGVS_P_1LETTER": "p.S194L",
          "Unique_Sample_Count": 10
         },
         {
          "HGVS_P_1LETTER": "p.S235F",
          "Unique_Sample_Count": 37
         },
         {
          "HGVS_P_1LETTER": "p.S24L",
          "Unique_Sample_Count": 30
         },
         {
          "HGVS_P_1LETTER": "p.S253P",
          "Unique_Sample_Count": 4
         },
         {
          "HGVS_P_1LETTER": "p.S2547T",
          "Unique_Sample_Count": 1
         },
         {
          "HGVS_P_1LETTER": "p.S254F",
          "Unique_Sample_Count": 4
         },
         {
          "HGVS_P_1LETTER": "p.S26L",
          "Unique_Sample_Count": 52
         },
         {
          "HGVS_P_1LETTER": "p.S327L",
          "Unique_Sample_Count": 4
         },
         {
          "HGVS_P_1LETTER": "p.S373P",
          "Unique_Sample_Count": 80
         },
         {
          "HGVS_P_1LETTER": "p.S375F",
          "Unique_Sample_Count": 80
         },
         {
          "HGVS_P_1LETTER": "p.S477N",
          "Unique_Sample_Count": 80
         },
         {
          "HGVS_P_1LETTER": "p.S4802L",
          "Unique_Sample_Count": 6
         },
         {
          "HGVS_P_1LETTER": "p.S4842L",
          "Unique_Sample_Count": 4
         },
         {
          "HGVS_P_1LETTER": "p.S538L",
          "Unique_Sample_Count": 4
         },
         {
          "HGVS_P_1LETTER": "p.S55F",
          "Unique_Sample_Count": 4
         },
         {
          "HGVS_P_1LETTER": "p.S5665I",
          "Unique_Sample_Count": 4
         },
         {
          "HGVS_P_1LETTER": "p.S5762L",
          "Unique_Sample_Count": 4
         },
         {
          "HGVS_P_1LETTER": "p.S6074L",
          "Unique_Sample_Count": 4
         },
         {
          "HGVS_P_1LETTER": "p.S67F",
          "Unique_Sample_Count": 4
         },
         {
          "HGVS_P_1LETTER": "p.S6948L",
          "Unique_Sample_Count": 4
         },
         {
          "HGVS_P_1LETTER": "p.S7036I",
          "Unique_Sample_Count": 10
         },
         {
          "HGVS_P_1LETTER": "p.S92T",
          "Unique_Sample_Count": 4
         },
         {
          "HGVS_P_1LETTER": "p.S94F",
          "Unique_Sample_Count": 6
         },
         {
          "HGVS_P_1LETTER": "p.S982A",
          "Unique_Sample_Count": 38
         },
         {
          "HGVS_P_1LETTER": "p.T1001I",
          "Unique_Sample_Count": 38
         },
         {
          "HGVS_P_1LETTER": "p.T1027I",
          "Unique_Sample_Count": 4
         },
         {
          "HGVS_P_1LETTER": "p.T120I",
          "Unique_Sample_Count": 52
         },
         {
          "HGVS_P_1LETTER": "p.T1246I",
          "Unique_Sample_Count": 6
         },
         {
          "HGVS_P_1LETTER": "p.T135I",
          "Unique_Sample_Count": 4
         },
         {
          "HGVS_P_1LETTER": "p.T1444N",
          "Unique_Sample_Count": 6
         },
         {
          "HGVS_P_1LETTER": "p.T151I",
          "Unique_Sample_Count": 4
         },
         {
          "HGVS_P_1LETTER": "p.T1788M",
          "Unique_Sample_Count": 6
         },
         {
          "HGVS_P_1LETTER": "p.T1822I",
          "Unique_Sample_Count": 6
         },
         {
          "HGVS_P_1LETTER": "p.T19R",
          "Unique_Sample_Count": 52
         },
         {
          "HGVS_P_1LETTER": "p.T2069A",
          "Unique_Sample_Count": 2
         },
         {
          "HGVS_P_1LETTER": "p.T208I",
          "Unique_Sample_Count": 6
         },
         {
          "HGVS_P_1LETTER": "p.T20N",
          "Unique_Sample_Count": 4
         },
         {
          "HGVS_P_1LETTER": "p.T223I",
          "Unique_Sample_Count": 4
         },
         {
          "HGVS_P_1LETTER": "p.T265I",
          "Unique_Sample_Count": 30
         },
         {
          "HGVS_P_1LETTER": "p.T2791I",
          "Unique_Sample_Count": 6
         },
         {
          "HGVS_P_1LETTER": "p.T29I",
          "Unique_Sample_Count": 6
         },
         {
          "HGVS_P_1LETTER": "p.T3255I",
          "Unique_Sample_Count": 138
         },
         {
          "HGVS_P_1LETTER": "p.T350I",
          "Unique_Sample_Count": 4
         },
         {
          "HGVS_P_1LETTER": "p.T3646A",
          "Unique_Sample_Count": 52
         },
         {
          "HGVS_P_1LETTER": "p.T366I",
          "Unique_Sample_Count": 1
         },
         {
          "HGVS_P_1LETTER": "p.T391I",
          "Unique_Sample_Count": 6
         },
         {
          "HGVS_P_1LETTER": "p.T4175A",
          "Unique_Sample_Count": 4
         },
         {
          "HGVS_P_1LETTER": "p.T4424I",
          "Unique_Sample_Count": 6
         },
         {
          "HGVS_P_1LETTER": "p.T4467I",
          "Unique_Sample_Count": 6
         },
         {
          "HGVS_P_1LETTER": "p.T4532I",
          "Unique_Sample_Count": 4
         },
         {
          "HGVS_P_1LETTER": "p.T478K",
          "Unique_Sample_Count": 132
         },
         {
          "HGVS_P_1LETTER": "p.T4847I",
          "Unique_Sample_Count": 12
         },
         {
          "HGVS_P_1LETTER": "p.T4992I",
          "Unique_Sample_Count": 88
         },
         {
          "HGVS_P_1LETTER": "p.T5005I",
          "Unique_Sample_Count": 38
         },
         {
          "HGVS_P_1LETTER": "p.T5130I",
          "Unique_Sample_Count": 2
         },
         {
          "HGVS_P_1LETTER": "p.T5152M",
          "Unique_Sample_Count": 6
         },
         {
          "HGVS_P_1LETTER": "p.T5356I",
          "Unique_Sample_Count": 4
         },
         {
          "HGVS_P_1LETTER": "p.T547K",
          "Unique_Sample_Count": 86
         },
         {
          "HGVS_P_1LETTER": "p.T5541I",
          "Unique_Sample_Count": 6
         },
         {
          "HGVS_P_1LETTER": "p.T5813I",
          "Unique_Sample_Count": 4
         },
         {
          "HGVS_P_1LETTER": "p.T6208M",
          "Unique_Sample_Count": 4
         },
         {
          "HGVS_P_1LETTER": "p.T716I",
          "Unique_Sample_Count": 38
         },
         {
          "HGVS_P_1LETTER": "p.T727I",
          "Unique_Sample_Count": 6
         },
         {
          "HGVS_P_1LETTER": "p.T76I",
          "Unique_Sample_Count": 6
         },
         {
          "HGVS_P_1LETTER": "p.T859N",
          "Unique_Sample_Count": 6
         },
         {
          "HGVS_P_1LETTER": "p.T95I",
          "Unique_Sample_Count": 88
         },
         {
          "HGVS_P_1LETTER": "p.T9I",
          "Unique_Sample_Count": 80
         },
         {
          "HGVS_P_1LETTER": "p.V1008I",
          "Unique_Sample_Count": 2
         },
         {
          "HGVS_P_1LETTER": "p.V1176F",
          "Unique_Sample_Count": 4
         },
         {
          "HGVS_P_1LETTER": "p.V16A",
          "Unique_Sample_Count": 4
         },
         {
          "HGVS_P_1LETTER": "p.V2130A",
          "Unique_Sample_Count": 4
         },
         {
          "HGVS_P_1LETTER": "p.V2930L",
          "Unique_Sample_Count": 52
         },
         {
          "HGVS_P_1LETTER": "p.V6138L",
          "Unique_Sample_Count": 2
         },
         {
          "HGVS_P_1LETTER": "p.V6375G",
          "Unique_Sample_Count": 4
         },
         {
          "HGVS_P_1LETTER": "p.V665I",
          "Unique_Sample_Count": 6
         },
         {
          "HGVS_P_1LETTER": "p.V71I",
          "Unique_Sample_Count": 10
         },
         {
          "HGVS_P_1LETTER": "p.V826L",
          "Unique_Sample_Count": 6
         },
         {
          "HGVS_P_1LETTER": "p.V82A",
          "Unique_Sample_Count": 52
         },
         {
          "HGVS_P_1LETTER": "p.V93A",
          "Unique_Sample_Count": 2
         },
         {
          "HGVS_P_1LETTER": "p.W646R",
          "Unique_Sample_Count": 24
         },
         {
          "HGVS_P_1LETTER": "p.Y2003N",
          "Unique_Sample_Count": 8
         },
         {
          "HGVS_P_1LETTER": "p.Y31F",
          "Unique_Sample_Count": 4
         },
         {
          "HGVS_P_1LETTER": "p.Y505H",
          "Unique_Sample_Count": 80
         },
         {
          "HGVS_P_1LETTER": "p.Y5349C",
          "Unique_Sample_Count": 8
         },
         {
          "HGVS_P_1LETTER": "p.Y73C",
          "Unique_Sample_Count": 38
         }
        ]
       },
       "height": 400,
       "layer": [
        {
         "data": {
          "name": "data-f40f33d643639c024ad25d2e96a9404d"
         },
         "encoding": {
          "color": {
           "field": "Unique_Sample_Count",
           "scale": {
            "reverse": true,
            "scheme": "magma"
           },
           "title": "Unique Sample Count",
           "type": "quantitative"
          },
          "tooltip": [
           {
            "field": "HGVS_P_1LETTER",
            "type": "nominal"
           },
           {
            "field": "Unique_Sample_Count",
            "type": "quantitative"
           }
          ],
          "x": {
           "field": "Unique_Sample_Count",
           "title": "Number of Samples",
           "type": "ordinal"
          },
          "y": {
           "axis": {
            "labels": false
           },
           "field": "HGVS_P_1LETTER",
           "title": "Amino Acid Change",
           "type": "nominal"
          }
         },
         "mark": {
          "type": "rect"
         },
         "name": "view_1",
         "title": "Heatmap of Amino Acid Changes Across Unique Samples"
        },
        {
         "data": {
          "name": "data-a106dab616e13004f833928d5bfb91ad"
         },
         "encoding": {
          "color": {
           "value": "black"
          },
          "text": {
           "field": "HGVS_P_1LETTER",
           "type": "nominal"
          },
          "x": {
           "field": "Unique_Sample_Count",
           "title": "Number of Samples",
           "type": "ordinal"
          },
          "y": {
           "field": "HGVS_P_1LETTER",
           "title": "Amino Acid Change",
           "type": "nominal"
          }
         },
         "mark": {
          "align": "center",
          "baseline": "top",
          "dy": 5,
          "type": "text"
         }
        }
       ],
       "params": [
        {
         "bind": "scales",
         "name": "param_1",
         "select": {
          "encodings": [
           "x",
           "y"
          ],
          "type": "interval"
         },
         "views": [
          "view_1"
         ]
        }
       ],
       "width": 800
      },
      "text/plain": [
       "<VegaLite 5 object>\n",
       "\n",
       "If you see this message, it means the renderer has not been properly enabled\n",
       "for the frontend that you are using. For more information, see\n",
       "https://altair-viz.github.io/user_guide/display_frontends.html#troubleshooting\n"
      ]
     },
     "execution_count": 8,
     "metadata": {},
     "output_type": "execute_result"
    }
   ],
   "source": [
    "\n",
    "data = pd.read_csv('../data/modified_full_variants_long_table.csv')\n",
    "\n",
    "\n",
    "filtered_data = data[\n",
    "    (data['FILTER'] == 'PASS') & \n",
    "    (data['REF'].isin(['A', 'T', 'C', 'G'])) &\n",
    "    (data['ALT'].isin(['A', 'T', 'C', 'G'])) &\n",
    "    (data['EFFECT'] == 'missense_variant') # only looks at missense mutations \n",
    "]\n",
    "\n",
    "\n",
    "amino_acid_counts = filtered_data.groupby('HGVS_P_1LETTER')['SAMPLE'].nunique().reset_index()\n",
    "amino_acid_counts.columns = ['HGVS_P_1LETTER', 'Unique_Sample_Count']\n",
    "\n",
    "\n",
    "top_10_amino_acids = amino_acid_counts.nlargest(5, 'Unique_Sample_Count')\n",
    "\n",
    "\n",
    "heatmap = alt.Chart(amino_acid_counts).mark_rect().encode(\n",
    "    x=alt.X('Unique_Sample_Count:O', title='Number of Samples'),\n",
    "    y=alt.Y('HGVS_P_1LETTER:N', title='Amino Acid Change', axis=alt.Axis(labels=False)),\n",
    "    color=alt.Color('Unique_Sample_Count:Q', title='Unique Sample Count', scale=alt.Scale(scheme='magma', reverse=True)),\n",
    "    tooltip=['HGVS_P_1LETTER', 'Unique_Sample_Count']\n",
    ").properties(\n",
    "    title='Heatmap of Amino Acid Changes Across Unique Samples',\n",
    "    width=800,\n",
    "    height=400\n",
    ").interactive()\n",
    "\n",
    "\n",
    "text = alt.Chart(top_10_amino_acids).mark_text(\n",
    "    align='center',\n",
    "    baseline='top',\n",
    "    dy=5  # places txt below \n",
    ").encode(\n",
    "    x=alt.X('Unique_Sample_Count:O', title='Number of Samples'),\n",
    "    y=alt.Y('HGVS_P_1LETTER:N', title='Amino Acid Change'),\n",
    "    text=alt.Text('HGVS_P_1LETTER:N'),\n",
    "    color=alt.value('black')  \n",
    ")\n",
    "\n",
    "\n",
    "combined_chart = heatmap + text\n",
    "\n",
    "combined_chart\n",
    "\n",
    "## NOTE: To read plot cursor over p.D614D in upper rigiht corner shows this mutation is present in 224 uniqe samples in the dataset. \n"
   ]
  },
  {
   "cell_type": "code",
   "execution_count": null,
   "id": "9d8d69f7-a19f-4ee7-b1ee-e853fef42539",
   "metadata": {},
   "outputs": [],
   "source": []
  },
  {
   "cell_type": "markdown",
   "id": "471b438a-99f0-473b-b9d4-c58f8c0519c3",
   "metadata": {},
   "source": [
    "### Stats ..."
   ]
  },
  {
   "cell_type": "code",
   "execution_count": 9,
   "id": "4c611ec6-c099-4492-a531-f119c3b37d2e",
   "metadata": {},
   "outputs": [],
   "source": [
    "data = pd.read_csv('../data/combined_variants_long_table.csv')\n",
    "\n",
    "filtered_data = data[\n",
    "    (data['FILTER'] == 'PASS') & \n",
    "    (data['REF'].isin(['A', 'T', 'C', 'G'])) &\n",
    "    (data['ALT'].isin(['A', 'T', 'C', 'G']))\n",
    "]"
   ]
  },
  {
   "cell_type": "code",
   "execution_count": 10,
   "id": "863631a9-d29c-4479-924b-887bc0053b60",
   "metadata": {},
   "outputs": [],
   "source": [
    "effect_means = filtered_data.groupby('EFFECT')['AF'].mean().reset_index()\n",
    "effect_means = effect_means.sort_values(by='AF', ascending=False)\n",
    "\n",
    "gene_means = filtered_data.groupby('GENE')['AF'].mean().reset_index()\n",
    "gene_means = gene_means.sort_values(by='AF', ascending=False)\n",
    "\n"
   ]
  },
  {
   "cell_type": "code",
   "execution_count": 11,
   "id": "49e4d5a9-c4a7-4dc6-9100-975c2932cc40",
   "metadata": {},
   "outputs": [
    {
     "data": {
      "text/html": [
       "<div>\n",
       "<style scoped>\n",
       "    .dataframe tbody tr th:only-of-type {\n",
       "        vertical-align: middle;\n",
       "    }\n",
       "\n",
       "    .dataframe tbody tr th {\n",
       "        vertical-align: top;\n",
       "    }\n",
       "\n",
       "    .dataframe thead th {\n",
       "        text-align: right;\n",
       "    }\n",
       "</style>\n",
       "<table border=\"1\" class=\"dataframe\">\n",
       "  <thead>\n",
       "    <tr style=\"text-align: right;\">\n",
       "      <th></th>\n",
       "      <th>EFFECT</th>\n",
       "      <th>AF</th>\n",
       "    </tr>\n",
       "  </thead>\n",
       "  <tbody>\n",
       "    <tr>\n",
       "      <th>0</th>\n",
       "      <td>missense_variant</td>\n",
       "      <td>0.033056</td>\n",
       "    </tr>\n",
       "    <tr>\n",
       "      <th>1</th>\n",
       "      <td>stop_gained</td>\n",
       "      <td>0.030000</td>\n",
       "    </tr>\n",
       "    <tr>\n",
       "      <th>2</th>\n",
       "      <td>synonymous_variant</td>\n",
       "      <td>0.016000</td>\n",
       "    </tr>\n",
       "  </tbody>\n",
       "</table>\n",
       "</div>"
      ],
      "text/plain": [
       "               EFFECT        AF\n",
       "0    missense_variant  0.033056\n",
       "1         stop_gained  0.030000\n",
       "2  synonymous_variant  0.016000"
      ]
     },
     "execution_count": 11,
     "metadata": {},
     "output_type": "execute_result"
    }
   ],
   "source": [
    "effect_means"
   ]
  },
  {
   "cell_type": "code",
   "execution_count": 12,
   "id": "9e7bed6e-7a7b-4299-a41b-747d50b859b9",
   "metadata": {},
   "outputs": [
    {
     "data": {
      "text/html": [
       "<div>\n",
       "<style scoped>\n",
       "    .dataframe tbody tr th:only-of-type {\n",
       "        vertical-align: middle;\n",
       "    }\n",
       "\n",
       "    .dataframe tbody tr th {\n",
       "        vertical-align: top;\n",
       "    }\n",
       "\n",
       "    .dataframe thead th {\n",
       "        text-align: right;\n",
       "    }\n",
       "</style>\n",
       "<table border=\"1\" class=\"dataframe\">\n",
       "  <thead>\n",
       "    <tr style=\"text-align: right;\">\n",
       "      <th></th>\n",
       "      <th>GENE</th>\n",
       "      <th>AF</th>\n",
       "    </tr>\n",
       "  </thead>\n",
       "  <tbody>\n",
       "    <tr>\n",
       "      <th>5</th>\n",
       "      <td>orf1ab</td>\n",
       "      <td>0.037586</td>\n",
       "    </tr>\n",
       "    <tr>\n",
       "      <th>2</th>\n",
       "      <td>ORF7a</td>\n",
       "      <td>0.030000</td>\n",
       "    </tr>\n",
       "    <tr>\n",
       "      <th>0</th>\n",
       "      <td>N</td>\n",
       "      <td>0.018000</td>\n",
       "    </tr>\n",
       "    <tr>\n",
       "      <th>1</th>\n",
       "      <td>ORF6</td>\n",
       "      <td>0.015000</td>\n",
       "    </tr>\n",
       "    <tr>\n",
       "      <th>4</th>\n",
       "      <td>S</td>\n",
       "      <td>0.013333</td>\n",
       "    </tr>\n",
       "    <tr>\n",
       "      <th>3</th>\n",
       "      <td>ORF8</td>\n",
       "      <td>0.010000</td>\n",
       "    </tr>\n",
       "  </tbody>\n",
       "</table>\n",
       "</div>"
      ],
      "text/plain": [
       "     GENE        AF\n",
       "5  orf1ab  0.037586\n",
       "2   ORF7a  0.030000\n",
       "0       N  0.018000\n",
       "1    ORF6  0.015000\n",
       "4       S  0.013333\n",
       "3    ORF8  0.010000"
      ]
     },
     "execution_count": 12,
     "metadata": {},
     "output_type": "execute_result"
    }
   ],
   "source": [
    "gene_means"
   ]
  },
  {
   "cell_type": "code",
   "execution_count": 13,
   "id": "be779480-0079-484a-b203-ccaa74620dc7",
   "metadata": {},
   "outputs": [
    {
     "data": {
      "application/vnd.vegalite.v5+json": {
       "$schema": "https://vega.github.io/schema/vega-lite/v5.17.0.json",
       "config": {
        "axis": {
         "labelFont": "Arial",
         "labelFontSize": 14,
         "titleFont": "Arial",
         "titleFontSize": 16
        },
        "title": {
         "anchor": "start",
         "font": "Arial",
         "fontSize": 20,
         "fontWeight": "bold"
        },
        "view": {
         "continuousHeight": 300,
         "continuousWidth": 300,
         "strokeOpacity": 0
        }
       },
       "data": {
        "name": "data-ec8099515f3d97da8cc2b2ff73535eba"
       },
       "datasets": {
        "data-ec8099515f3d97da8cc2b2ff73535eba": [
         {
          "AF": 0.03305555555555555,
          "EFFECT": "missense_variant"
         },
         {
          "AF": 0.03,
          "EFFECT": "stop_gained"
         },
         {
          "AF": 0.016,
          "EFFECT": "synonymous_variant"
         }
        ]
       },
       "encoding": {
        "color": {
         "field": "EFFECT",
         "legend": null,
         "type": "nominal"
        },
        "x": {
         "axis": {
          "grid": true
         },
         "field": "AF",
         "title": "Mean Allele Frequency (AF)",
         "type": "quantitative"
        },
        "y": {
         "field": "EFFECT",
         "sort": "-x",
         "title": "Mutation Effect",
         "type": "nominal"
        }
       },
       "height": 600,
       "mark": {
        "type": "bar"
       },
       "title": "Mean Allele Frequency by Mutation Effect",
       "width": 800
      },
      "text/plain": [
       "<VegaLite 5 object>\n",
       "\n",
       "If you see this message, it means the renderer has not been properly enabled\n",
       "for the frontend that you are using. For more information, see\n",
       "https://altair-viz.github.io/user_guide/display_frontends.html#troubleshooting\n"
      ]
     },
     "metadata": {},
     "output_type": "display_data"
    },
    {
     "data": {
      "application/vnd.vegalite.v5+json": {
       "$schema": "https://vega.github.io/schema/vega-lite/v5.17.0.json",
       "config": {
        "axis": {
         "labelFont": "Arial",
         "labelFontSize": 14,
         "titleFont": "Arial",
         "titleFontSize": 16
        },
        "title": {
         "anchor": "start",
         "font": "Arial",
         "fontSize": 20,
         "fontWeight": "bold"
        },
        "view": {
         "continuousHeight": 300,
         "continuousWidth": 300,
         "strokeOpacity": 0
        }
       },
       "data": {
        "name": "data-e26553ec43d683d4b66d6a5cb483e6c4"
       },
       "datasets": {
        "data-e26553ec43d683d4b66d6a5cb483e6c4": [
         {
          "AF": 0.037586206896551726,
          "GENE": "orf1ab"
         },
         {
          "AF": 0.03,
          "GENE": "ORF7a"
         },
         {
          "AF": 0.018,
          "GENE": "N"
         },
         {
          "AF": 0.015,
          "GENE": "ORF6"
         },
         {
          "AF": 0.013333333333333334,
          "GENE": "S"
         },
         {
          "AF": 0.01,
          "GENE": "ORF8"
         }
        ]
       },
       "encoding": {
        "color": {
         "field": "GENE",
         "legend": null,
         "type": "nominal"
        },
        "x": {
         "axis": {
          "grid": true
         },
         "field": "AF",
         "title": "Mean Allele Frequency (AF)",
         "type": "quantitative"
        },
        "y": {
         "field": "GENE",
         "sort": "-x",
         "title": "Gene",
         "type": "nominal"
        }
       },
       "height": 600,
       "mark": {
        "type": "bar"
       },
       "title": "Mean Allele Frequency by Gene",
       "width": 800
      },
      "text/plain": [
       "<VegaLite 5 object>\n",
       "\n",
       "If you see this message, it means the renderer has not been properly enabled\n",
       "for the frontend that you are using. For more information, see\n",
       "https://altair-viz.github.io/user_guide/display_frontends.html#troubleshooting\n"
      ]
     },
     "metadata": {},
     "output_type": "display_data"
    }
   ],
   "source": [
    "\n",
    "data = pd.read_csv(\"../data/combined_variants_long_table.csv\")\n",
    "\n",
    "\n",
    "filtered_data = data[\n",
    "    (data['FILTER'] == 'PASS') & \n",
    "    (data['REF'].isin(['A', 'T', 'C', 'G'])) &\n",
    "    (data['ALT'].isin(['A', 'T', 'C', 'G']))\n",
    "]\n",
    "\n",
    "\n",
    "effect_means = filtered_data.groupby('EFFECT')['AF'].mean().reset_index()\n",
    "effect_means = effect_means.sort_values(by='AF', ascending=False)\n",
    "\n",
    "gene_means = filtered_data.groupby('GENE')['AF'].mean().reset_index()\n",
    "gene_means = gene_means.sort_values(by='AF', ascending=False)\n",
    "\n",
    "# make plot - mean AF by mutation effect \n",
    "effect_chart = alt.Chart(effect_means).mark_bar().encode(\n",
    "    x=alt.X('AF:Q', title='Mean Allele Frequency (AF)', axis=alt.Axis(grid=True)),\n",
    "    y=alt.Y('EFFECT:N', sort='-x', title='Mutation Effect'),\n",
    "    color=alt.Color('EFFECT:N', legend=None)\n",
    ").properties(\n",
    "    title='Mean Allele Frequency by Mutation Effect',\n",
    "    width=800,\n",
    "    height=600\n",
    ").configure_axis(\n",
    "    labelFontSize=14,\n",
    "    titleFontSize=16,\n",
    "    labelFont='Arial',\n",
    "    titleFont='Arial'\n",
    ").configure_title(\n",
    "    fontSize=20,\n",
    "    font='Arial',\n",
    "    anchor='start',\n",
    "    fontWeight='bold'\n",
    ").configure_view(\n",
    "    strokeOpacity=0\n",
    ")\n",
    "\n",
    "# make plot - mean AF by gene \n",
    "gene_chart = alt.Chart(gene_means).mark_bar().encode(\n",
    "    x=alt.X('AF:Q', title='Mean Allele Frequency (AF)', axis=alt.Axis(grid=True)),\n",
    "    y=alt.Y('GENE:N', sort='-x', title='Gene'),\n",
    "    color=alt.Color('GENE:N', legend=None)\n",
    ").properties(\n",
    "    title='Mean Allele Frequency by Gene',\n",
    "    width=800,\n",
    "    height=600\n",
    ").configure_axis(\n",
    "    labelFontSize=14,\n",
    "    titleFontSize=16,\n",
    "    labelFont='Arial',\n",
    "    titleFont='Arial'\n",
    ").configure_title(\n",
    "    fontSize=20,\n",
    "    font='Arial',\n",
    "    anchor='start',\n",
    "    fontWeight='bold'\n",
    ").configure_view(\n",
    "    strokeOpacity=0\n",
    ")\n",
    "\n",
    "\n",
    "\n",
    "# Display the charts\n",
    "effect_chart.display()\n",
    "gene_chart.display()\n"
   ]
  },
  {
   "cell_type": "code",
   "execution_count": 14,
   "id": "96327d93-9a84-4710-a368-76d0520878f1",
   "metadata": {},
   "outputs": [
    {
     "data": {
      "application/vnd.vegalite.v5+json": {
       "$schema": "https://vega.github.io/schema/vega-lite/v5.17.0.json",
       "config": {
        "axis": {
         "labelFont": "Arial",
         "labelFontSize": 14,
         "titleFont": "Arial",
         "titleFontSize": 16
        },
        "title": {
         "anchor": "start",
         "font": "Arial",
         "fontSize": 20,
         "fontWeight": "bold"
        },
        "view": {
         "continuousHeight": 300,
         "continuousWidth": 300,
         "strokeOpacity": 0
        }
       },
       "data": {
        "name": "data-220e7909fe65b0b603e24dc81f7382b9"
       },
       "datasets": {
        "data-220e7909fe65b0b603e24dc81f7382b9": [
         {
          "AF": 3.3055555555555554,
          "EFFECT": "missense_variant"
         },
         {
          "AF": 3,
          "EFFECT": "stop_gained"
         },
         {
          "AF": 1.6,
          "EFFECT": "synonymous_variant"
         }
        ]
       },
       "encoding": {
        "color": {
         "field": "EFFECT",
         "legend": null,
         "type": "nominal"
        },
        "x": {
         "axis": {
          "grid": true
         },
         "field": "AF",
         "title": "Mean Allele Frequency (AF) (%)",
         "type": "quantitative"
        },
        "y": {
         "field": "EFFECT",
         "sort": "-x",
         "title": "Mutation Effect",
         "type": "nominal"
        }
       },
       "height": 600,
       "mark": {
        "type": "bar"
       },
       "title": "Mean Allele Frequency by Mutation Effect",
       "width": 800
      },
      "text/plain": [
       "<VegaLite 5 object>\n",
       "\n",
       "If you see this message, it means the renderer has not been properly enabled\n",
       "for the frontend that you are using. For more information, see\n",
       "https://altair-viz.github.io/user_guide/display_frontends.html#troubleshooting\n"
      ]
     },
     "metadata": {},
     "output_type": "display_data"
    },
    {
     "data": {
      "application/vnd.vegalite.v5+json": {
       "$schema": "https://vega.github.io/schema/vega-lite/v5.17.0.json",
       "config": {
        "axis": {
         "labelFont": "Arial",
         "labelFontSize": 14,
         "titleFont": "Arial",
         "titleFontSize": 16
        },
        "title": {
         "anchor": "start",
         "font": "Arial",
         "fontSize": 20,
         "fontWeight": "bold"
        },
        "view": {
         "continuousHeight": 300,
         "continuousWidth": 300,
         "strokeOpacity": 0
        }
       },
       "data": {
        "name": "data-53eeacb3b0e451f75dd260b66f69b737"
       },
       "datasets": {
        "data-53eeacb3b0e451f75dd260b66f69b737": [
         {
          "AF": 3.7586206896551726,
          "GENE": "orf1ab"
         },
         {
          "AF": 3,
          "GENE": "ORF7a"
         },
         {
          "AF": 1.7999999999999998,
          "GENE": "N"
         },
         {
          "AF": 1.5,
          "GENE": "ORF6"
         },
         {
          "AF": 1.3333333333333335,
          "GENE": "S"
         },
         {
          "AF": 1,
          "GENE": "ORF8"
         }
        ]
       },
       "encoding": {
        "color": {
         "field": "GENE",
         "legend": null,
         "type": "nominal"
        },
        "x": {
         "axis": {
          "grid": true
         },
         "field": "AF",
         "title": "Mean Allele Frequency (AF) (%)",
         "type": "quantitative"
        },
        "y": {
         "field": "GENE",
         "sort": "-x",
         "title": "Gene",
         "type": "nominal"
        }
       },
       "height": 600,
       "mark": {
        "type": "bar"
       },
       "title": "Mean Allele Frequency by Gene",
       "width": 800
      },
      "text/plain": [
       "<VegaLite 5 object>\n",
       "\n",
       "If you see this message, it means the renderer has not been properly enabled\n",
       "for the frontend that you are using. For more information, see\n",
       "https://altair-viz.github.io/user_guide/display_frontends.html#troubleshooting\n"
      ]
     },
     "metadata": {},
     "output_type": "display_data"
    }
   ],
   "source": [
    "\n",
    "# make plot - convert AF to percent \n",
    "effect_means['AF'] = effect_means['AF'] * 100\n",
    "gene_means['AF'] = gene_means['AF'] * 100\n",
    "\n",
    "# make plot - mean AF by mutation effect \n",
    "effect_chart = alt.Chart(effect_means).mark_bar().encode(\n",
    "    x=alt.X('AF:Q', title='Mean Allele Frequency (AF) (%)', axis=alt.Axis(grid=True)),\n",
    "    y=alt.Y('EFFECT:N', sort='-x', title='Mutation Effect'),\n",
    "    color=alt.Color('EFFECT:N', legend=None)\n",
    ").properties(\n",
    "    title='Mean Allele Frequency by Mutation Effect',\n",
    "    width=800,\n",
    "    height=600\n",
    ").configure_axis(\n",
    "    labelFontSize=14,\n",
    "    titleFontSize=16,\n",
    "    labelFont='Arial',\n",
    "    titleFont='Arial'\n",
    ").configure_title(\n",
    "    fontSize=20,\n",
    "    font='Arial',\n",
    "    anchor='start',\n",
    "    fontWeight='bold'\n",
    ").configure_view(\n",
    "    strokeOpacity=0\n",
    ")\n",
    "\n",
    "# make plot - mean AF by gene \n",
    "gene_chart = alt.Chart(gene_means).mark_bar().encode(\n",
    "    x=alt.X('AF:Q', title='Mean Allele Frequency (AF) (%)', axis=alt.Axis(grid=True)),\n",
    "    y=alt.Y('GENE:N', sort='-x', title='Gene'),\n",
    "    color=alt.Color('GENE:N', legend=None)\n",
    ").properties(\n",
    "    title='Mean Allele Frequency by Gene',\n",
    "    width=800,\n",
    "    height=600\n",
    ").configure_axis(\n",
    "    labelFontSize=14,\n",
    "    titleFontSize=16,\n",
    "    labelFont='Arial',\n",
    "    titleFont='Arial'\n",
    ").configure_title(\n",
    "    fontSize=20,\n",
    "    font='Arial',\n",
    "    anchor='start',\n",
    "    fontWeight='bold'\n",
    ").configure_view(\n",
    "    strokeOpacity=0\n",
    ")\n",
    "\n",
    "\n",
    "effect_chart.display()\n",
    "gene_chart.display()\n"
   ]
  },
  {
   "cell_type": "code",
   "execution_count": null,
   "id": "1ab50883-3111-49ff-ae86-87af1f4bc0b7",
   "metadata": {},
   "outputs": [],
   "source": []
  },
  {
   "cell_type": "code",
   "execution_count": null,
   "id": "a664e0c4-8fc5-4988-acc7-6487044b9ca0",
   "metadata": {},
   "outputs": [],
   "source": []
  },
  {
   "cell_type": "code",
   "execution_count": null,
   "id": "35e064db-1167-4432-98bd-da4c8f24a5df",
   "metadata": {},
   "outputs": [],
   "source": []
  }
 ],
 "metadata": {
  "kernelspec": {
   "display_name": "Python 3 (ipykernel)",
   "language": "python",
   "name": "python3"
  },
  "language_info": {
   "codemirror_mode": {
    "name": "ipython",
    "version": 3
   },
   "file_extension": ".py",
   "mimetype": "text/x-python",
   "name": "python",
   "nbconvert_exporter": "python",
   "pygments_lexer": "ipython3",
   "version": "3.11.5"
  }
 },
 "nbformat": 4,
 "nbformat_minor": 5
}
